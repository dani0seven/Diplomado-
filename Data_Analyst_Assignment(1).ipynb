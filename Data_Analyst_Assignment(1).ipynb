{
  "cells": [
    {
      "cell_type": "markdown",
      "metadata": {
        "id": "aLnNZc0IvUn3"
      },
      "source": [
        "#Data Analyst Interview Notebook"
      ]
    },
    {
      "cell_type": "markdown",
      "metadata": {
        "id": "G26Ao7nQvahf"
      },
      "source": [
        "## Introduction\n",
        "\n",
        "This notebook is designed to simulate real-world data that you could see from our technology.\n",
        "\n",
        "It is designed to test your proficiency with Python and Pandas, and your ability to find and present insights.\n",
        "\n",
        "This data is confidential; we expect you to not share this data with anyone. And we expect you to not get any external assistance.\n",
        "\n",
        "\n",
        "\n",
        "---\n",
        "\n",
        "\n",
        "You are working with a US retail customer on a pilot deployment.  They are using technology to track their merchandise throughout their supply chain.  The flow of their supply is:\n",
        "\n",
        "*   **DC 1:**  Orders are filled and palletized.\n",
        "*   **Truck:** Pallets travel from the DC 1 to DC 2 via semi-truck.\n",
        "*   **DC 2:**  Pallets are unloaded, and additional merchandise may be added.  They are then reloaded onto a new truck.\n",
        "*   **Truck:** Pallets travel from DC 2 to the Store.\n",
        "*   **Store:** Pallets are unloaded, cases are removed, and stocked, and the empty cases are left behind the building awaiting pickup.\n",
        "\n",
        "Your job is to dig into the data and find compelling insights to show the value fo the technology and help move the contract from a pilot into a full scaled deployment.\n",
        "\n",
        "\n",
        "\n",
        "---\n",
        "\n",
        "Each section has defined questions along with point values to help you prioritize your time.\n",
        "\n",
        "In addition to the defined questions, the overall notebook and code presentation will be evaluated, and you will be awarded up to 10 points based on the clarity, cleaniness, and efficiency of the code.\n"
      ]
    },
    {
      "cell_type": "markdown",
      "metadata": {
        "id": "QLGYgyeQwO00"
      },
      "source": [
        "## Part 0: Imports\n",
        "\n",
        "Import necessary packages and"
      ]
    },
    {
      "cell_type": "code",
      "execution_count": null,
      "metadata": {
        "id": "Di26JPE5tl4p"
      },
      "outputs": [],
      "source": [
        "from google.colab import files\n",
        "files.upload()"
      ]
    },
    {
      "cell_type": "code",
      "execution_count": null,
      "metadata": {
        "id": "dOSZ-z9degpC"
      },
      "outputs": [],
      "source": [
        "# YOUR CODE HERE:\n",
        "import pandas as pd\n",
        "import numpy as np\n",
        "import matplotlib.pyplot as plt\n",
        "import seaborn as sns"
      ]
    },
    {
      "cell_type": "code",
      "execution_count": null,
      "metadata": {
        "colab": {
          "base_uri": "https://localhost:8080/",
          "height": 337
        },
        "id": "F9zndFXot9xO",
        "outputId": "bb4c480a-57a4-442d-ad1b-9b68adf59646"
      },
      "outputs": [
        {
          "output_type": "execute_result",
          "data": {
            "text/plain": [
              "  asset_type  asset_id                           tag_id  Site            Zone  \\\n",
              "0       tote         2  (01)00850027865010(21)0082T0219  DC 1  dock_doors_DC1   \n",
              "1       tote         2  (01)00850027865010(21)0082T0219  DC 1  dock_doors_DC1   \n",
              "2       tote         2  (01)00850027865010(21)0082T0219  DC 1  dock_doors_DC1   \n",
              "3       tote         2  (01)00850027865010(21)0082T0219  DC 1  dock_doors_DC1   \n",
              "4       tote         2  (01)00850027865010(21)0082T0670  DC 1  dock_doors_DC1   \n",
              "\n",
              "      device_id                time_est       lat       lng  Temperature_C  \\\n",
              "0  7F9A8353E973 2022-08-02 11:59:26.628  47.79158 -65.68902           23.0   \n",
              "1  EC5B0499234F 2022-08-02 12:00:22.660  47.79158 -65.68902           23.0   \n",
              "2  7F9A8353E973 2022-08-02 12:01:11.234  47.79158 -65.68902           23.0   \n",
              "3  3D8B2BDB8673 2022-08-02 13:47:58.172  47.79158 -65.68902           23.5   \n",
              "4  7F9A8353E973 2022-08-02 11:58:55.049  47.79158 -65.68902           23.0   \n",
              "\n",
              "   Temperature_F  \n",
              "0           73.4  \n",
              "1           73.4  \n",
              "2           73.4  \n",
              "3           74.3  \n",
              "4           73.4  "
            ],
            "text/html": [
              "\n",
              "  <div id=\"df-5a686ea8-ee5c-4a17-a335-11b7cb7b2256\">\n",
              "    <div class=\"colab-df-container\">\n",
              "      <div>\n",
              "<style scoped>\n",
              "    .dataframe tbody tr th:only-of-type {\n",
              "        vertical-align: middle;\n",
              "    }\n",
              "\n",
              "    .dataframe tbody tr th {\n",
              "        vertical-align: top;\n",
              "    }\n",
              "\n",
              "    .dataframe thead th {\n",
              "        text-align: right;\n",
              "    }\n",
              "</style>\n",
              "<table border=\"1\" class=\"dataframe\">\n",
              "  <thead>\n",
              "    <tr style=\"text-align: right;\">\n",
              "      <th></th>\n",
              "      <th>asset_type</th>\n",
              "      <th>asset_id</th>\n",
              "      <th>tag_id</th>\n",
              "      <th>Site</th>\n",
              "      <th>Zone</th>\n",
              "      <th>device_id</th>\n",
              "      <th>time_est</th>\n",
              "      <th>lat</th>\n",
              "      <th>lng</th>\n",
              "      <th>Temperature_C</th>\n",
              "      <th>Temperature_F</th>\n",
              "    </tr>\n",
              "  </thead>\n",
              "  <tbody>\n",
              "    <tr>\n",
              "      <th>0</th>\n",
              "      <td>tote</td>\n",
              "      <td>2</td>\n",
              "      <td>(01)00850027865010(21)0082T0219</td>\n",
              "      <td>DC 1</td>\n",
              "      <td>dock_doors_DC1</td>\n",
              "      <td>7F9A8353E973</td>\n",
              "      <td>2022-08-02 11:59:26.628</td>\n",
              "      <td>47.79158</td>\n",
              "      <td>-65.68902</td>\n",
              "      <td>23.0</td>\n",
              "      <td>73.4</td>\n",
              "    </tr>\n",
              "    <tr>\n",
              "      <th>1</th>\n",
              "      <td>tote</td>\n",
              "      <td>2</td>\n",
              "      <td>(01)00850027865010(21)0082T0219</td>\n",
              "      <td>DC 1</td>\n",
              "      <td>dock_doors_DC1</td>\n",
              "      <td>EC5B0499234F</td>\n",
              "      <td>2022-08-02 12:00:22.660</td>\n",
              "      <td>47.79158</td>\n",
              "      <td>-65.68902</td>\n",
              "      <td>23.0</td>\n",
              "      <td>73.4</td>\n",
              "    </tr>\n",
              "    <tr>\n",
              "      <th>2</th>\n",
              "      <td>tote</td>\n",
              "      <td>2</td>\n",
              "      <td>(01)00850027865010(21)0082T0219</td>\n",
              "      <td>DC 1</td>\n",
              "      <td>dock_doors_DC1</td>\n",
              "      <td>7F9A8353E973</td>\n",
              "      <td>2022-08-02 12:01:11.234</td>\n",
              "      <td>47.79158</td>\n",
              "      <td>-65.68902</td>\n",
              "      <td>23.0</td>\n",
              "      <td>73.4</td>\n",
              "    </tr>\n",
              "    <tr>\n",
              "      <th>3</th>\n",
              "      <td>tote</td>\n",
              "      <td>2</td>\n",
              "      <td>(01)00850027865010(21)0082T0219</td>\n",
              "      <td>DC 1</td>\n",
              "      <td>dock_doors_DC1</td>\n",
              "      <td>3D8B2BDB8673</td>\n",
              "      <td>2022-08-02 13:47:58.172</td>\n",
              "      <td>47.79158</td>\n",
              "      <td>-65.68902</td>\n",
              "      <td>23.5</td>\n",
              "      <td>74.3</td>\n",
              "    </tr>\n",
              "    <tr>\n",
              "      <th>4</th>\n",
              "      <td>tote</td>\n",
              "      <td>2</td>\n",
              "      <td>(01)00850027865010(21)0082T0670</td>\n",
              "      <td>DC 1</td>\n",
              "      <td>dock_doors_DC1</td>\n",
              "      <td>7F9A8353E973</td>\n",
              "      <td>2022-08-02 11:58:55.049</td>\n",
              "      <td>47.79158</td>\n",
              "      <td>-65.68902</td>\n",
              "      <td>23.0</td>\n",
              "      <td>73.4</td>\n",
              "    </tr>\n",
              "  </tbody>\n",
              "</table>\n",
              "</div>\n",
              "      <button class=\"colab-df-convert\" onclick=\"convertToInteractive('df-5a686ea8-ee5c-4a17-a335-11b7cb7b2256')\"\n",
              "              title=\"Convert this dataframe to an interactive table.\"\n",
              "              style=\"display:none;\">\n",
              "        \n",
              "  <svg xmlns=\"http://www.w3.org/2000/svg\" height=\"24px\"viewBox=\"0 0 24 24\"\n",
              "       width=\"24px\">\n",
              "    <path d=\"M0 0h24v24H0V0z\" fill=\"none\"/>\n",
              "    <path d=\"M18.56 5.44l.94 2.06.94-2.06 2.06-.94-2.06-.94-.94-2.06-.94 2.06-2.06.94zm-11 1L8.5 8.5l.94-2.06 2.06-.94-2.06-.94L8.5 2.5l-.94 2.06-2.06.94zm10 10l.94 2.06.94-2.06 2.06-.94-2.06-.94-.94-2.06-.94 2.06-2.06.94z\"/><path d=\"M17.41 7.96l-1.37-1.37c-.4-.4-.92-.59-1.43-.59-.52 0-1.04.2-1.43.59L10.3 9.45l-7.72 7.72c-.78.78-.78 2.05 0 2.83L4 21.41c.39.39.9.59 1.41.59.51 0 1.02-.2 1.41-.59l7.78-7.78 2.81-2.81c.8-.78.8-2.07 0-2.86zM5.41 20L4 18.59l7.72-7.72 1.47 1.35L5.41 20z\"/>\n",
              "  </svg>\n",
              "      </button>\n",
              "      \n",
              "  <style>\n",
              "    .colab-df-container {\n",
              "      display:flex;\n",
              "      flex-wrap:wrap;\n",
              "      gap: 12px;\n",
              "    }\n",
              "\n",
              "    .colab-df-convert {\n",
              "      background-color: #E8F0FE;\n",
              "      border: none;\n",
              "      border-radius: 50%;\n",
              "      cursor: pointer;\n",
              "      display: none;\n",
              "      fill: #1967D2;\n",
              "      height: 32px;\n",
              "      padding: 0 0 0 0;\n",
              "      width: 32px;\n",
              "    }\n",
              "\n",
              "    .colab-df-convert:hover {\n",
              "      background-color: #E2EBFA;\n",
              "      box-shadow: 0px 1px 2px rgba(60, 64, 67, 0.3), 0px 1px 3px 1px rgba(60, 64, 67, 0.15);\n",
              "      fill: #174EA6;\n",
              "    }\n",
              "\n",
              "    [theme=dark] .colab-df-convert {\n",
              "      background-color: #3B4455;\n",
              "      fill: #D2E3FC;\n",
              "    }\n",
              "\n",
              "    [theme=dark] .colab-df-convert:hover {\n",
              "      background-color: #434B5C;\n",
              "      box-shadow: 0px 1px 3px 1px rgba(0, 0, 0, 0.15);\n",
              "      filter: drop-shadow(0px 1px 2px rgba(0, 0, 0, 0.3));\n",
              "      fill: #FFFFFF;\n",
              "    }\n",
              "  </style>\n",
              "\n",
              "      <script>\n",
              "        const buttonEl =\n",
              "          document.querySelector('#df-5a686ea8-ee5c-4a17-a335-11b7cb7b2256 button.colab-df-convert');\n",
              "        buttonEl.style.display =\n",
              "          google.colab.kernel.accessAllowed ? 'block' : 'none';\n",
              "\n",
              "        async function convertToInteractive(key) {\n",
              "          const element = document.querySelector('#df-5a686ea8-ee5c-4a17-a335-11b7cb7b2256');\n",
              "          const dataTable =\n",
              "            await google.colab.kernel.invokeFunction('convertToInteractive',\n",
              "                                                     [key], {});\n",
              "          if (!dataTable) return;\n",
              "\n",
              "          const docLinkHtml = 'Like what you see? Visit the ' +\n",
              "            '<a target=\"_blank\" href=https://colab.research.google.com/notebooks/data_table.ipynb>data table notebook</a>'\n",
              "            + ' to learn more about interactive tables.';\n",
              "          element.innerHTML = '';\n",
              "          dataTable['output_type'] = 'display_data';\n",
              "          await google.colab.output.renderOutput(dataTable, element);\n",
              "          const docLink = document.createElement('div');\n",
              "          docLink.innerHTML = docLinkHtml;\n",
              "          element.appendChild(docLink);\n",
              "        }\n",
              "      </script>\n",
              "    </div>\n",
              "  </div>\n",
              "  "
            ]
          },
          "metadata": {},
          "execution_count": 3
        }
      ],
      "source": [
        "df = pd.read_excel('tote_shipment.xlsx')\n",
        "df.head()"
      ]
    },
    {
      "cell_type": "markdown",
      "metadata": {
        "id": "ilure2qpw4lT"
      },
      "source": [
        "### Dataset Overview\n",
        "\n",
        "* Site:  A large space that could contain multiple readers. Ex: DC 1.\n",
        "* Zone:  Point of interest. These represent areas in which repeaters are installed. These can be thought of as sub-zones.  Ex: Dock Doors.\n",
        "* Asset ID: The unique ID of the asset.\n",
        "* Asset Type: The type of thing that is detected (ie tote).\n",
        "* Device ID: The unique gateway reader ID that detected the device in the zone (there can be multiple in one zone).\n",
        "* Time est: The time in EST.\n",
        "* Lon: Longituge\n",
        "* Lat: Latitude\n",
        "* Temperature_C / F: Temperature in Celsius, Fahrentheit"
      ]
    },
    {
      "cell_type": "markdown",
      "metadata": {
        "id": "0PcG1lJdwopq"
      },
      "source": [
        "## PART 1: Data Overview"
      ]
    },
    {
      "cell_type": "markdown",
      "metadata": {
        "id": "tLLUIhxZ0wvF"
      },
      "source": [
        "### Question 1:\n",
        "\n",
        "* How many unique cases were we tracking throughout this pilot. (1 pt)\n",
        "* What are the unique zones we could see (1 pt)\n",
        "* How many POI's are in each Zone. (2 pts)\n"
      ]
    },
    {
      "cell_type": "code",
      "execution_count": null,
      "metadata": {
        "colab": {
          "base_uri": "https://localhost:8080/"
        },
        "id": "PDMC6O4h0uqD",
        "outputId": "0102a883-0b14-4295-8184-c4e059cd4e1f"
      },
      "outputs": [
        {
          "output_type": "execute_result",
          "data": {
            "text/plain": [
              "array([  2,  37,  52,  58,  59,  62,  70,  84, 102, 145, 149, 159, 167,\n",
              "       170, 181, 182, 200, 205])"
            ]
          },
          "metadata": {},
          "execution_count": 4
        }
      ],
      "source": [
        "# YOUR CODE HERE:\n",
        "#(1) How many unique cases were we tracking throughout this pilot.\n",
        "df['asset_id'].unique()\n",
        "#print(df['asset_id'].nunique()) para ver el numero"
      ]
    },
    {
      "cell_type": "code",
      "execution_count": null,
      "metadata": {
        "colab": {
          "base_uri": "https://localhost:8080/"
        },
        "id": "LjKt5yZPw93D",
        "outputId": "abe2e446-1b56-4ef0-a2db-c4ebf2bd348b"
      },
      "outputs": [
        {
          "output_type": "execute_result",
          "data": {
            "text/plain": [
              "array(['dock_doors_DC1', 'dock_doors_DC2', 'Forklift3_DC1',\n",
              "       'pallet_assembly_DC1', 'PhoneKit1Bridge', 'PhoneKit2Bridge',\n",
              "       'PhoneKit2GW', 'point_of_sale_Store', 'receiving_Store',\n",
              "       'staging_DC1', 'staging_DC2', 'store_back_Store',\n",
              "       'store_front_Store', 'Forklift1_DC1', 'PhoneKit1GW'], dtype=object)"
            ]
          },
          "metadata": {},
          "execution_count": 5
        }
      ],
      "source": [
        "#(2) What are the unique zones we could see\n",
        "df['Zone'].unique()\n"
      ]
    },
    {
      "cell_type": "code",
      "execution_count": null,
      "metadata": {
        "colab": {
          "base_uri": "https://localhost:8080/"
        },
        "id": "HLnBvSfjxA30",
        "outputId": "70738eea-c4be-4af4-cdf8-b480eec3dca3"
      },
      "outputs": [
        {
          "output_type": "execute_result",
          "data": {
            "text/plain": [
              "Zone\n",
              "Forklift1_DC1          14\n",
              "Forklift3_DC1          17\n",
              "PhoneKit1Bridge        18\n",
              "PhoneKit1GW            15\n",
              "PhoneKit2Bridge        18\n",
              "PhoneKit2GW            18\n",
              "dock_doors_DC1         16\n",
              "dock_doors_DC2         12\n",
              "pallet_assembly_DC1    16\n",
              "point_of_sale_Store    13\n",
              "receiving_Store        18\n",
              "staging_DC1            18\n",
              "staging_DC2             7\n",
              "store_back_Store       18\n",
              "store_front_Store      18\n",
              "Name: asset_id, dtype: int64"
            ]
          },
          "metadata": {},
          "execution_count": 6
        }
      ],
      "source": [
        "#(3)How many POI's are in each Zone.\n",
        "df.groupby(['Zone'])['asset_id'].nunique()"
      ]
    },
    {
      "cell_type": "markdown",
      "metadata": {
        "id": "5SaHgmjN1sfO"
      },
      "source": [
        "### Question 2:\n",
        "\n",
        "* What is the temperature range we see?  (1pt)\n",
        "* Where is temperature the highest and lowest (1pt)"
      ]
    },
    {
      "cell_type": "code",
      "execution_count": null,
      "metadata": {
        "colab": {
          "base_uri": "https://localhost:8080/"
        },
        "id": "Yv6mfo8K1_uD",
        "outputId": "06207cbf-5d10-46aa-92fa-1ec9745a9867"
      },
      "outputs": [
        {
          "output_type": "stream",
          "name": "stdout",
          "text": [
            "El rango de temperatura es:\n",
            "temperatura minima: 19.0\n",
            "Temperatura maxima: 44.0\n"
          ]
        }
      ],
      "source": [
        "# YOUR CODE HERE:\n",
        "#What is the temperature range we see?\n",
        "#rango: min - max\n",
        "temp_min = df['Temperature_C'].min()\n",
        "temp_max = df['Temperature_C'].max()\n",
        "\n",
        "print(\"El rango de temperatura es:\")\n",
        "print('temperatura minima:', temp_min)\n",
        "print('Temperatura maxima:', temp_max)\n"
      ]
    },
    {
      "cell_type": "code",
      "execution_count": null,
      "metadata": {
        "colab": {
          "base_uri": "https://localhost:8080/",
          "height": 81
        },
        "id": "gQ60G14uzcDv",
        "outputId": "10f76edb-a05f-4bd4-fdc0-b9b54eef7742"
      },
      "outputs": [
        {
          "output_type": "execute_result",
          "data": {
            "text/plain": [
              "        Site              Zone  Temperature_C\n",
              "92279  Store  store_back_Store           19.0"
            ],
            "text/html": [
              "\n",
              "  <div id=\"df-9d030c0d-1259-4f84-afe6-17a3a2e94ddd\">\n",
              "    <div class=\"colab-df-container\">\n",
              "      <div>\n",
              "<style scoped>\n",
              "    .dataframe tbody tr th:only-of-type {\n",
              "        vertical-align: middle;\n",
              "    }\n",
              "\n",
              "    .dataframe tbody tr th {\n",
              "        vertical-align: top;\n",
              "    }\n",
              "\n",
              "    .dataframe thead th {\n",
              "        text-align: right;\n",
              "    }\n",
              "</style>\n",
              "<table border=\"1\" class=\"dataframe\">\n",
              "  <thead>\n",
              "    <tr style=\"text-align: right;\">\n",
              "      <th></th>\n",
              "      <th>Site</th>\n",
              "      <th>Zone</th>\n",
              "      <th>Temperature_C</th>\n",
              "    </tr>\n",
              "  </thead>\n",
              "  <tbody>\n",
              "    <tr>\n",
              "      <th>92279</th>\n",
              "      <td>Store</td>\n",
              "      <td>store_back_Store</td>\n",
              "      <td>19.0</td>\n",
              "    </tr>\n",
              "  </tbody>\n",
              "</table>\n",
              "</div>\n",
              "      <button class=\"colab-df-convert\" onclick=\"convertToInteractive('df-9d030c0d-1259-4f84-afe6-17a3a2e94ddd')\"\n",
              "              title=\"Convert this dataframe to an interactive table.\"\n",
              "              style=\"display:none;\">\n",
              "        \n",
              "  <svg xmlns=\"http://www.w3.org/2000/svg\" height=\"24px\"viewBox=\"0 0 24 24\"\n",
              "       width=\"24px\">\n",
              "    <path d=\"M0 0h24v24H0V0z\" fill=\"none\"/>\n",
              "    <path d=\"M18.56 5.44l.94 2.06.94-2.06 2.06-.94-2.06-.94-.94-2.06-.94 2.06-2.06.94zm-11 1L8.5 8.5l.94-2.06 2.06-.94-2.06-.94L8.5 2.5l-.94 2.06-2.06.94zm10 10l.94 2.06.94-2.06 2.06-.94-2.06-.94-.94-2.06-.94 2.06-2.06.94z\"/><path d=\"M17.41 7.96l-1.37-1.37c-.4-.4-.92-.59-1.43-.59-.52 0-1.04.2-1.43.59L10.3 9.45l-7.72 7.72c-.78.78-.78 2.05 0 2.83L4 21.41c.39.39.9.59 1.41.59.51 0 1.02-.2 1.41-.59l7.78-7.78 2.81-2.81c.8-.78.8-2.07 0-2.86zM5.41 20L4 18.59l7.72-7.72 1.47 1.35L5.41 20z\"/>\n",
              "  </svg>\n",
              "      </button>\n",
              "      \n",
              "  <style>\n",
              "    .colab-df-container {\n",
              "      display:flex;\n",
              "      flex-wrap:wrap;\n",
              "      gap: 12px;\n",
              "    }\n",
              "\n",
              "    .colab-df-convert {\n",
              "      background-color: #E8F0FE;\n",
              "      border: none;\n",
              "      border-radius: 50%;\n",
              "      cursor: pointer;\n",
              "      display: none;\n",
              "      fill: #1967D2;\n",
              "      height: 32px;\n",
              "      padding: 0 0 0 0;\n",
              "      width: 32px;\n",
              "    }\n",
              "\n",
              "    .colab-df-convert:hover {\n",
              "      background-color: #E2EBFA;\n",
              "      box-shadow: 0px 1px 2px rgba(60, 64, 67, 0.3), 0px 1px 3px 1px rgba(60, 64, 67, 0.15);\n",
              "      fill: #174EA6;\n",
              "    }\n",
              "\n",
              "    [theme=dark] .colab-df-convert {\n",
              "      background-color: #3B4455;\n",
              "      fill: #D2E3FC;\n",
              "    }\n",
              "\n",
              "    [theme=dark] .colab-df-convert:hover {\n",
              "      background-color: #434B5C;\n",
              "      box-shadow: 0px 1px 3px 1px rgba(0, 0, 0, 0.15);\n",
              "      filter: drop-shadow(0px 1px 2px rgba(0, 0, 0, 0.3));\n",
              "      fill: #FFFFFF;\n",
              "    }\n",
              "  </style>\n",
              "\n",
              "      <script>\n",
              "        const buttonEl =\n",
              "          document.querySelector('#df-9d030c0d-1259-4f84-afe6-17a3a2e94ddd button.colab-df-convert');\n",
              "        buttonEl.style.display =\n",
              "          google.colab.kernel.accessAllowed ? 'block' : 'none';\n",
              "\n",
              "        async function convertToInteractive(key) {\n",
              "          const element = document.querySelector('#df-9d030c0d-1259-4f84-afe6-17a3a2e94ddd');\n",
              "          const dataTable =\n",
              "            await google.colab.kernel.invokeFunction('convertToInteractive',\n",
              "                                                     [key], {});\n",
              "          if (!dataTable) return;\n",
              "\n",
              "          const docLinkHtml = 'Like what you see? Visit the ' +\n",
              "            '<a target=\"_blank\" href=https://colab.research.google.com/notebooks/data_table.ipynb>data table notebook</a>'\n",
              "            + ' to learn more about interactive tables.';\n",
              "          element.innerHTML = '';\n",
              "          dataTable['output_type'] = 'display_data';\n",
              "          await google.colab.output.renderOutput(dataTable, element);\n",
              "          const docLink = document.createElement('div');\n",
              "          docLink.innerHTML = docLinkHtml;\n",
              "          element.appendChild(docLink);\n",
              "        }\n",
              "      </script>\n",
              "    </div>\n",
              "  </div>\n",
              "  "
            ]
          },
          "metadata": {},
          "execution_count": 8
        }
      ],
      "source": [
        "#Where is temperature the highest and lowest\n",
        "df.loc[df['Temperature_C']== temp_min, ['Site', 'Zone', 'Temperature_C']]"
      ]
    },
    {
      "cell_type": "code",
      "execution_count": null,
      "metadata": {
        "colab": {
          "base_uri": "https://localhost:8080/",
          "height": 206
        },
        "id": "k9zuU1SI0HL5",
        "outputId": "09eea282-3c43-4197-c1c8-f4188dcdd3ee"
      },
      "outputs": [
        {
          "output_type": "execute_result",
          "data": {
            "text/plain": [
              "        Site              Zone  Temperature_C\n",
              "57195  Store   receiving_Store           44.0\n",
              "57196  Store   receiving_Store           44.0\n",
              "57197  Store   receiving_Store           44.0\n",
              "57199  Store   receiving_Store           44.0\n",
              "59985  Store  store_back_Store           44.0"
            ],
            "text/html": [
              "\n",
              "  <div id=\"df-73179251-1cd2-4700-9ae8-20d57aad7ea6\">\n",
              "    <div class=\"colab-df-container\">\n",
              "      <div>\n",
              "<style scoped>\n",
              "    .dataframe tbody tr th:only-of-type {\n",
              "        vertical-align: middle;\n",
              "    }\n",
              "\n",
              "    .dataframe tbody tr th {\n",
              "        vertical-align: top;\n",
              "    }\n",
              "\n",
              "    .dataframe thead th {\n",
              "        text-align: right;\n",
              "    }\n",
              "</style>\n",
              "<table border=\"1\" class=\"dataframe\">\n",
              "  <thead>\n",
              "    <tr style=\"text-align: right;\">\n",
              "      <th></th>\n",
              "      <th>Site</th>\n",
              "      <th>Zone</th>\n",
              "      <th>Temperature_C</th>\n",
              "    </tr>\n",
              "  </thead>\n",
              "  <tbody>\n",
              "    <tr>\n",
              "      <th>57195</th>\n",
              "      <td>Store</td>\n",
              "      <td>receiving_Store</td>\n",
              "      <td>44.0</td>\n",
              "    </tr>\n",
              "    <tr>\n",
              "      <th>57196</th>\n",
              "      <td>Store</td>\n",
              "      <td>receiving_Store</td>\n",
              "      <td>44.0</td>\n",
              "    </tr>\n",
              "    <tr>\n",
              "      <th>57197</th>\n",
              "      <td>Store</td>\n",
              "      <td>receiving_Store</td>\n",
              "      <td>44.0</td>\n",
              "    </tr>\n",
              "    <tr>\n",
              "      <th>57199</th>\n",
              "      <td>Store</td>\n",
              "      <td>receiving_Store</td>\n",
              "      <td>44.0</td>\n",
              "    </tr>\n",
              "    <tr>\n",
              "      <th>59985</th>\n",
              "      <td>Store</td>\n",
              "      <td>store_back_Store</td>\n",
              "      <td>44.0</td>\n",
              "    </tr>\n",
              "  </tbody>\n",
              "</table>\n",
              "</div>\n",
              "      <button class=\"colab-df-convert\" onclick=\"convertToInteractive('df-73179251-1cd2-4700-9ae8-20d57aad7ea6')\"\n",
              "              title=\"Convert this dataframe to an interactive table.\"\n",
              "              style=\"display:none;\">\n",
              "        \n",
              "  <svg xmlns=\"http://www.w3.org/2000/svg\" height=\"24px\"viewBox=\"0 0 24 24\"\n",
              "       width=\"24px\">\n",
              "    <path d=\"M0 0h24v24H0V0z\" fill=\"none\"/>\n",
              "    <path d=\"M18.56 5.44l.94 2.06.94-2.06 2.06-.94-2.06-.94-.94-2.06-.94 2.06-2.06.94zm-11 1L8.5 8.5l.94-2.06 2.06-.94-2.06-.94L8.5 2.5l-.94 2.06-2.06.94zm10 10l.94 2.06.94-2.06 2.06-.94-2.06-.94-.94-2.06-.94 2.06-2.06.94z\"/><path d=\"M17.41 7.96l-1.37-1.37c-.4-.4-.92-.59-1.43-.59-.52 0-1.04.2-1.43.59L10.3 9.45l-7.72 7.72c-.78.78-.78 2.05 0 2.83L4 21.41c.39.39.9.59 1.41.59.51 0 1.02-.2 1.41-.59l7.78-7.78 2.81-2.81c.8-.78.8-2.07 0-2.86zM5.41 20L4 18.59l7.72-7.72 1.47 1.35L5.41 20z\"/>\n",
              "  </svg>\n",
              "      </button>\n",
              "      \n",
              "  <style>\n",
              "    .colab-df-container {\n",
              "      display:flex;\n",
              "      flex-wrap:wrap;\n",
              "      gap: 12px;\n",
              "    }\n",
              "\n",
              "    .colab-df-convert {\n",
              "      background-color: #E8F0FE;\n",
              "      border: none;\n",
              "      border-radius: 50%;\n",
              "      cursor: pointer;\n",
              "      display: none;\n",
              "      fill: #1967D2;\n",
              "      height: 32px;\n",
              "      padding: 0 0 0 0;\n",
              "      width: 32px;\n",
              "    }\n",
              "\n",
              "    .colab-df-convert:hover {\n",
              "      background-color: #E2EBFA;\n",
              "      box-shadow: 0px 1px 2px rgba(60, 64, 67, 0.3), 0px 1px 3px 1px rgba(60, 64, 67, 0.15);\n",
              "      fill: #174EA6;\n",
              "    }\n",
              "\n",
              "    [theme=dark] .colab-df-convert {\n",
              "      background-color: #3B4455;\n",
              "      fill: #D2E3FC;\n",
              "    }\n",
              "\n",
              "    [theme=dark] .colab-df-convert:hover {\n",
              "      background-color: #434B5C;\n",
              "      box-shadow: 0px 1px 3px 1px rgba(0, 0, 0, 0.15);\n",
              "      filter: drop-shadow(0px 1px 2px rgba(0, 0, 0, 0.3));\n",
              "      fill: #FFFFFF;\n",
              "    }\n",
              "  </style>\n",
              "\n",
              "      <script>\n",
              "        const buttonEl =\n",
              "          document.querySelector('#df-73179251-1cd2-4700-9ae8-20d57aad7ea6 button.colab-df-convert');\n",
              "        buttonEl.style.display =\n",
              "          google.colab.kernel.accessAllowed ? 'block' : 'none';\n",
              "\n",
              "        async function convertToInteractive(key) {\n",
              "          const element = document.querySelector('#df-73179251-1cd2-4700-9ae8-20d57aad7ea6');\n",
              "          const dataTable =\n",
              "            await google.colab.kernel.invokeFunction('convertToInteractive',\n",
              "                                                     [key], {});\n",
              "          if (!dataTable) return;\n",
              "\n",
              "          const docLinkHtml = 'Like what you see? Visit the ' +\n",
              "            '<a target=\"_blank\" href=https://colab.research.google.com/notebooks/data_table.ipynb>data table notebook</a>'\n",
              "            + ' to learn more about interactive tables.';\n",
              "          element.innerHTML = '';\n",
              "          dataTable['output_type'] = 'display_data';\n",
              "          await google.colab.output.renderOutput(dataTable, element);\n",
              "          const docLink = document.createElement('div');\n",
              "          docLink.innerHTML = docLinkHtml;\n",
              "          element.appendChild(docLink);\n",
              "        }\n",
              "      </script>\n",
              "    </div>\n",
              "  </div>\n",
              "  "
            ]
          },
          "metadata": {},
          "execution_count": 9
        }
      ],
      "source": [
        "df.loc[df['Temperature_C']== temp_max, ['Site', 'Zone', 'Temperature_C']]"
      ]
    },
    {
      "cell_type": "markdown",
      "metadata": {
        "id": "83ZytoZ02Oih"
      },
      "source": [
        "## Part 2: The Journey of a Case"
      ]
    },
    {
      "cell_type": "markdown",
      "metadata": {
        "id": "LT32Svy42BR8"
      },
      "source": [
        "### Question 3:\n",
        "\n",
        "* Create a visualization that shows where a case was at over time at the zone or POI level. Imagine that this would be included in your presentation to the customer. (Non techical audience) (3 pts)"
      ]
    },
    {
      "cell_type": "code",
      "execution_count": null,
      "metadata": {
        "id": "RKln-JMGnTx5"
      },
      "outputs": [],
      "source": [
        "from datetime import datetime, date"
      ]
    },
    {
      "cell_type": "markdown",
      "source": [
        "Transformamos y agregamos la columna Fecha a dato datetime para poder trabajar con el"
      ],
      "metadata": {
        "id": "M4SWUXabj3Kq"
      }
    },
    {
      "cell_type": "code",
      "execution_count": null,
      "metadata": {
        "colab": {
          "base_uri": "https://localhost:8080/",
          "height": 661
        },
        "id": "8dvzORnxnUer",
        "outputId": "d7330e6f-89b5-42cd-bb06-9b3e1c6fb7f2"
      },
      "outputs": [
        {
          "output_type": "execute_result",
          "data": {
            "text/plain": [
              "       asset_type  asset_id                           tag_id   Site  \\\n",
              "0            tote         2  (01)00850027865010(21)0082T0219   DC 1   \n",
              "1            tote         2  (01)00850027865010(21)0082T0219   DC 1   \n",
              "2            tote         2  (01)00850027865010(21)0082T0219   DC 1   \n",
              "3            tote         2  (01)00850027865010(21)0082T0219   DC 1   \n",
              "4            tote         2  (01)00850027865010(21)0082T0670   DC 1   \n",
              "...           ...       ...                              ...    ...   \n",
              "130056       tote       205  (01)00850027865010(21)0082T1137  Store   \n",
              "130057       tote       205  (01)00850027865010(21)0082T1137  Store   \n",
              "130058       tote       205  (01)00850027865010(21)0082T1137  Store   \n",
              "130059       tote       205  (01)00850027865010(21)0082T1137  Store   \n",
              "130060       tote       205  (01)00850027865010(21)0082T1137  Store   \n",
              "\n",
              "                     Zone     device_id                time_est       lat  \\\n",
              "0          dock_doors_DC1  7F9A8353E973 2022-08-02 11:59:26.628  47.79158   \n",
              "1          dock_doors_DC1  EC5B0499234F 2022-08-02 12:00:22.660  47.79158   \n",
              "2          dock_doors_DC1  7F9A8353E973 2022-08-02 12:01:11.234  47.79158   \n",
              "3          dock_doors_DC1  3D8B2BDB8673 2022-08-02 13:47:58.172  47.79158   \n",
              "4          dock_doors_DC1  7F9A8353E973 2022-08-02 11:58:55.049  47.79158   \n",
              "...                   ...           ...                     ...       ...   \n",
              "130056  store_front_Store  26AB1C9A2E41 2022-08-04 12:48:51.273  47.74923   \n",
              "130057  store_front_Store  26AB1C9A2E41 2022-08-04 12:49:58.699  47.74923   \n",
              "130058  store_front_Store  26AB1C9A2E41 2022-08-04 12:52:45.173  47.74923   \n",
              "130059  store_front_Store  26AB1C9A2E41 2022-08-04 12:53:48.228  47.74923   \n",
              "130060  store_front_Store  26AB1C9A2E41 2022-08-04 16:33:25.525  47.74923   \n",
              "\n",
              "             lng  Temperature_C  Temperature_F       Fecha  \n",
              "0      -65.68902           23.0          73.40  2022-08-02  \n",
              "1      -65.68902           23.0          73.40  2022-08-02  \n",
              "2      -65.68902           23.0          73.40  2022-08-02  \n",
              "3      -65.68902           23.5          74.30  2022-08-02  \n",
              "4      -65.68902           23.0          73.40  2022-08-02  \n",
              "...          ...            ...            ...         ...  \n",
              "130056 -65.64101           23.1          73.58  2022-08-04  \n",
              "130057 -65.64101           23.5          74.30  2022-08-04  \n",
              "130058 -65.64101           23.0          73.40  2022-08-04  \n",
              "130059 -65.64101           23.0          73.40  2022-08-04  \n",
              "130060 -65.64101           24.0          75.20  2022-08-04  \n",
              "\n",
              "[130061 rows x 12 columns]"
            ],
            "text/html": [
              "\n",
              "  <div id=\"df-4255fa40-5fed-4ce0-991c-ffd7d312dd35\">\n",
              "    <div class=\"colab-df-container\">\n",
              "      <div>\n",
              "<style scoped>\n",
              "    .dataframe tbody tr th:only-of-type {\n",
              "        vertical-align: middle;\n",
              "    }\n",
              "\n",
              "    .dataframe tbody tr th {\n",
              "        vertical-align: top;\n",
              "    }\n",
              "\n",
              "    .dataframe thead th {\n",
              "        text-align: right;\n",
              "    }\n",
              "</style>\n",
              "<table border=\"1\" class=\"dataframe\">\n",
              "  <thead>\n",
              "    <tr style=\"text-align: right;\">\n",
              "      <th></th>\n",
              "      <th>asset_type</th>\n",
              "      <th>asset_id</th>\n",
              "      <th>tag_id</th>\n",
              "      <th>Site</th>\n",
              "      <th>Zone</th>\n",
              "      <th>device_id</th>\n",
              "      <th>time_est</th>\n",
              "      <th>lat</th>\n",
              "      <th>lng</th>\n",
              "      <th>Temperature_C</th>\n",
              "      <th>Temperature_F</th>\n",
              "      <th>Fecha</th>\n",
              "    </tr>\n",
              "  </thead>\n",
              "  <tbody>\n",
              "    <tr>\n",
              "      <th>0</th>\n",
              "      <td>tote</td>\n",
              "      <td>2</td>\n",
              "      <td>(01)00850027865010(21)0082T0219</td>\n",
              "      <td>DC 1</td>\n",
              "      <td>dock_doors_DC1</td>\n",
              "      <td>7F9A8353E973</td>\n",
              "      <td>2022-08-02 11:59:26.628</td>\n",
              "      <td>47.79158</td>\n",
              "      <td>-65.68902</td>\n",
              "      <td>23.0</td>\n",
              "      <td>73.40</td>\n",
              "      <td>2022-08-02</td>\n",
              "    </tr>\n",
              "    <tr>\n",
              "      <th>1</th>\n",
              "      <td>tote</td>\n",
              "      <td>2</td>\n",
              "      <td>(01)00850027865010(21)0082T0219</td>\n",
              "      <td>DC 1</td>\n",
              "      <td>dock_doors_DC1</td>\n",
              "      <td>EC5B0499234F</td>\n",
              "      <td>2022-08-02 12:00:22.660</td>\n",
              "      <td>47.79158</td>\n",
              "      <td>-65.68902</td>\n",
              "      <td>23.0</td>\n",
              "      <td>73.40</td>\n",
              "      <td>2022-08-02</td>\n",
              "    </tr>\n",
              "    <tr>\n",
              "      <th>2</th>\n",
              "      <td>tote</td>\n",
              "      <td>2</td>\n",
              "      <td>(01)00850027865010(21)0082T0219</td>\n",
              "      <td>DC 1</td>\n",
              "      <td>dock_doors_DC1</td>\n",
              "      <td>7F9A8353E973</td>\n",
              "      <td>2022-08-02 12:01:11.234</td>\n",
              "      <td>47.79158</td>\n",
              "      <td>-65.68902</td>\n",
              "      <td>23.0</td>\n",
              "      <td>73.40</td>\n",
              "      <td>2022-08-02</td>\n",
              "    </tr>\n",
              "    <tr>\n",
              "      <th>3</th>\n",
              "      <td>tote</td>\n",
              "      <td>2</td>\n",
              "      <td>(01)00850027865010(21)0082T0219</td>\n",
              "      <td>DC 1</td>\n",
              "      <td>dock_doors_DC1</td>\n",
              "      <td>3D8B2BDB8673</td>\n",
              "      <td>2022-08-02 13:47:58.172</td>\n",
              "      <td>47.79158</td>\n",
              "      <td>-65.68902</td>\n",
              "      <td>23.5</td>\n",
              "      <td>74.30</td>\n",
              "      <td>2022-08-02</td>\n",
              "    </tr>\n",
              "    <tr>\n",
              "      <th>4</th>\n",
              "      <td>tote</td>\n",
              "      <td>2</td>\n",
              "      <td>(01)00850027865010(21)0082T0670</td>\n",
              "      <td>DC 1</td>\n",
              "      <td>dock_doors_DC1</td>\n",
              "      <td>7F9A8353E973</td>\n",
              "      <td>2022-08-02 11:58:55.049</td>\n",
              "      <td>47.79158</td>\n",
              "      <td>-65.68902</td>\n",
              "      <td>23.0</td>\n",
              "      <td>73.40</td>\n",
              "      <td>2022-08-02</td>\n",
              "    </tr>\n",
              "    <tr>\n",
              "      <th>...</th>\n",
              "      <td>...</td>\n",
              "      <td>...</td>\n",
              "      <td>...</td>\n",
              "      <td>...</td>\n",
              "      <td>...</td>\n",
              "      <td>...</td>\n",
              "      <td>...</td>\n",
              "      <td>...</td>\n",
              "      <td>...</td>\n",
              "      <td>...</td>\n",
              "      <td>...</td>\n",
              "      <td>...</td>\n",
              "    </tr>\n",
              "    <tr>\n",
              "      <th>130056</th>\n",
              "      <td>tote</td>\n",
              "      <td>205</td>\n",
              "      <td>(01)00850027865010(21)0082T1137</td>\n",
              "      <td>Store</td>\n",
              "      <td>store_front_Store</td>\n",
              "      <td>26AB1C9A2E41</td>\n",
              "      <td>2022-08-04 12:48:51.273</td>\n",
              "      <td>47.74923</td>\n",
              "      <td>-65.64101</td>\n",
              "      <td>23.1</td>\n",
              "      <td>73.58</td>\n",
              "      <td>2022-08-04</td>\n",
              "    </tr>\n",
              "    <tr>\n",
              "      <th>130057</th>\n",
              "      <td>tote</td>\n",
              "      <td>205</td>\n",
              "      <td>(01)00850027865010(21)0082T1137</td>\n",
              "      <td>Store</td>\n",
              "      <td>store_front_Store</td>\n",
              "      <td>26AB1C9A2E41</td>\n",
              "      <td>2022-08-04 12:49:58.699</td>\n",
              "      <td>47.74923</td>\n",
              "      <td>-65.64101</td>\n",
              "      <td>23.5</td>\n",
              "      <td>74.30</td>\n",
              "      <td>2022-08-04</td>\n",
              "    </tr>\n",
              "    <tr>\n",
              "      <th>130058</th>\n",
              "      <td>tote</td>\n",
              "      <td>205</td>\n",
              "      <td>(01)00850027865010(21)0082T1137</td>\n",
              "      <td>Store</td>\n",
              "      <td>store_front_Store</td>\n",
              "      <td>26AB1C9A2E41</td>\n",
              "      <td>2022-08-04 12:52:45.173</td>\n",
              "      <td>47.74923</td>\n",
              "      <td>-65.64101</td>\n",
              "      <td>23.0</td>\n",
              "      <td>73.40</td>\n",
              "      <td>2022-08-04</td>\n",
              "    </tr>\n",
              "    <tr>\n",
              "      <th>130059</th>\n",
              "      <td>tote</td>\n",
              "      <td>205</td>\n",
              "      <td>(01)00850027865010(21)0082T1137</td>\n",
              "      <td>Store</td>\n",
              "      <td>store_front_Store</td>\n",
              "      <td>26AB1C9A2E41</td>\n",
              "      <td>2022-08-04 12:53:48.228</td>\n",
              "      <td>47.74923</td>\n",
              "      <td>-65.64101</td>\n",
              "      <td>23.0</td>\n",
              "      <td>73.40</td>\n",
              "      <td>2022-08-04</td>\n",
              "    </tr>\n",
              "    <tr>\n",
              "      <th>130060</th>\n",
              "      <td>tote</td>\n",
              "      <td>205</td>\n",
              "      <td>(01)00850027865010(21)0082T1137</td>\n",
              "      <td>Store</td>\n",
              "      <td>store_front_Store</td>\n",
              "      <td>26AB1C9A2E41</td>\n",
              "      <td>2022-08-04 16:33:25.525</td>\n",
              "      <td>47.74923</td>\n",
              "      <td>-65.64101</td>\n",
              "      <td>24.0</td>\n",
              "      <td>75.20</td>\n",
              "      <td>2022-08-04</td>\n",
              "    </tr>\n",
              "  </tbody>\n",
              "</table>\n",
              "<p>130061 rows × 12 columns</p>\n",
              "</div>\n",
              "      <button class=\"colab-df-convert\" onclick=\"convertToInteractive('df-4255fa40-5fed-4ce0-991c-ffd7d312dd35')\"\n",
              "              title=\"Convert this dataframe to an interactive table.\"\n",
              "              style=\"display:none;\">\n",
              "        \n",
              "  <svg xmlns=\"http://www.w3.org/2000/svg\" height=\"24px\"viewBox=\"0 0 24 24\"\n",
              "       width=\"24px\">\n",
              "    <path d=\"M0 0h24v24H0V0z\" fill=\"none\"/>\n",
              "    <path d=\"M18.56 5.44l.94 2.06.94-2.06 2.06-.94-2.06-.94-.94-2.06-.94 2.06-2.06.94zm-11 1L8.5 8.5l.94-2.06 2.06-.94-2.06-.94L8.5 2.5l-.94 2.06-2.06.94zm10 10l.94 2.06.94-2.06 2.06-.94-2.06-.94-.94-2.06-.94 2.06-2.06.94z\"/><path d=\"M17.41 7.96l-1.37-1.37c-.4-.4-.92-.59-1.43-.59-.52 0-1.04.2-1.43.59L10.3 9.45l-7.72 7.72c-.78.78-.78 2.05 0 2.83L4 21.41c.39.39.9.59 1.41.59.51 0 1.02-.2 1.41-.59l7.78-7.78 2.81-2.81c.8-.78.8-2.07 0-2.86zM5.41 20L4 18.59l7.72-7.72 1.47 1.35L5.41 20z\"/>\n",
              "  </svg>\n",
              "      </button>\n",
              "      \n",
              "  <style>\n",
              "    .colab-df-container {\n",
              "      display:flex;\n",
              "      flex-wrap:wrap;\n",
              "      gap: 12px;\n",
              "    }\n",
              "\n",
              "    .colab-df-convert {\n",
              "      background-color: #E8F0FE;\n",
              "      border: none;\n",
              "      border-radius: 50%;\n",
              "      cursor: pointer;\n",
              "      display: none;\n",
              "      fill: #1967D2;\n",
              "      height: 32px;\n",
              "      padding: 0 0 0 0;\n",
              "      width: 32px;\n",
              "    }\n",
              "\n",
              "    .colab-df-convert:hover {\n",
              "      background-color: #E2EBFA;\n",
              "      box-shadow: 0px 1px 2px rgba(60, 64, 67, 0.3), 0px 1px 3px 1px rgba(60, 64, 67, 0.15);\n",
              "      fill: #174EA6;\n",
              "    }\n",
              "\n",
              "    [theme=dark] .colab-df-convert {\n",
              "      background-color: #3B4455;\n",
              "      fill: #D2E3FC;\n",
              "    }\n",
              "\n",
              "    [theme=dark] .colab-df-convert:hover {\n",
              "      background-color: #434B5C;\n",
              "      box-shadow: 0px 1px 3px 1px rgba(0, 0, 0, 0.15);\n",
              "      filter: drop-shadow(0px 1px 2px rgba(0, 0, 0, 0.3));\n",
              "      fill: #FFFFFF;\n",
              "    }\n",
              "  </style>\n",
              "\n",
              "      <script>\n",
              "        const buttonEl =\n",
              "          document.querySelector('#df-4255fa40-5fed-4ce0-991c-ffd7d312dd35 button.colab-df-convert');\n",
              "        buttonEl.style.display =\n",
              "          google.colab.kernel.accessAllowed ? 'block' : 'none';\n",
              "\n",
              "        async function convertToInteractive(key) {\n",
              "          const element = document.querySelector('#df-4255fa40-5fed-4ce0-991c-ffd7d312dd35');\n",
              "          const dataTable =\n",
              "            await google.colab.kernel.invokeFunction('convertToInteractive',\n",
              "                                                     [key], {});\n",
              "          if (!dataTable) return;\n",
              "\n",
              "          const docLinkHtml = 'Like what you see? Visit the ' +\n",
              "            '<a target=\"_blank\" href=https://colab.research.google.com/notebooks/data_table.ipynb>data table notebook</a>'\n",
              "            + ' to learn more about interactive tables.';\n",
              "          element.innerHTML = '';\n",
              "          dataTable['output_type'] = 'display_data';\n",
              "          await google.colab.output.renderOutput(dataTable, element);\n",
              "          const docLink = document.createElement('div');\n",
              "          docLink.innerHTML = docLinkHtml;\n",
              "          element.appendChild(docLink);\n",
              "        }\n",
              "      </script>\n",
              "    </div>\n",
              "  </div>\n",
              "  "
            ]
          },
          "metadata": {},
          "execution_count": 11
        }
      ],
      "source": [
        "df['Fecha'] = pd.to_datetime(df.time_est).dt.date\n",
        "df"
      ]
    },
    {
      "cell_type": "markdown",
      "source": [
        "Seleccionamos solo el caso 52 para trabajar con el"
      ],
      "metadata": {
        "id": "9tsYQe1ej_Q-"
      }
    },
    {
      "cell_type": "code",
      "execution_count": null,
      "metadata": {
        "colab": {
          "base_uri": "https://localhost:8080/",
          "height": 661
        },
        "id": "dVuYYJMB2t_I",
        "outputId": "3c333cc1-e604-4c01-85f9-2e098df9e459"
      },
      "outputs": [
        {
          "output_type": "execute_result",
          "data": {
            "text/plain": [
              "      asset_type  asset_id                           tag_id   Site  \\\n",
              "19610       tote        52  (01)00850027865010(21)0082T0685   DC 1   \n",
              "19611       tote        52  (01)00850027865010(21)0082T0685   DC 1   \n",
              "19612       tote        52  (01)00850027865010(21)0082T0685   DC 1   \n",
              "19613       tote        52  (01)00850027865010(21)0082T1101   DC 1   \n",
              "19614       tote        52  (01)00850027865010(21)0082T0685   DC 1   \n",
              "...          ...       ...                              ...    ...   \n",
              "26424       tote        52  (01)00850027865010(21)0082T1101  Store   \n",
              "26425       tote        52  (01)00850027865010(21)0082T1101  Store   \n",
              "26426       tote        52  (01)00850027865010(21)0082T1101  Store   \n",
              "26427       tote        52  (01)00850027865010(21)0082T1101  Store   \n",
              "26428       tote        52  (01)00850027865010(21)0082T1101  Store   \n",
              "\n",
              "                    Zone     device_id                time_est        lat  \\\n",
              "19610     dock_doors_DC1  3D8B2BDB8673 2022-08-02 12:02:55.971  47.791580   \n",
              "19611      Forklift1_DC1  E2F5A528ABFC 2022-08-02 13:20:32.790  47.792910   \n",
              "19612      Forklift1_DC1  E2F5A528ABFC 2022-08-02 13:24:20.536  47.791580   \n",
              "19613      Forklift1_DC1  E2F5A528ABFC 2022-08-02 13:21:13.307  47.793000   \n",
              "19614      Forklift3_DC1  6EEDDB0D6881 2022-08-02 12:11:02.095  47.791580   \n",
              "...                  ...           ...                     ...        ...   \n",
              "26424  store_front_Store  6AF833197EE3 2022-08-05 12:42:59.878  47.749230   \n",
              "26425  store_front_Store  6AF833197EE3 2022-08-05 12:44:28.920  47.749230   \n",
              "26426  store_front_Store  6AF833197EE3 2022-08-05 12:48:54.942  47.749230   \n",
              "26427  store_front_Store  6AF833197EE3 2022-08-05 12:54:17.715  47.749388   \n",
              "26428  store_front_Store  6AF833197EE3 2022-08-05 13:09:49.534  47.749230   \n",
              "\n",
              "             lng  Temperature_C  Temperature_F       Fecha  \n",
              "19610 -65.689020           23.0          73.40  2022-08-02  \n",
              "19611 -65.689600           23.0          73.40  2022-08-02  \n",
              "19612 -65.689020           23.0          73.40  2022-08-02  \n",
              "19613 -65.689560           22.5          72.50  2022-08-02  \n",
              "19614 -65.689020           23.0          73.40  2022-08-02  \n",
              "...          ...            ...            ...         ...  \n",
              "26424 -65.641010           24.8          76.64  2022-08-05  \n",
              "26425 -65.641010           24.5          76.10  2022-08-05  \n",
              "26426 -65.641010           24.5          76.10  2022-08-05  \n",
              "26427 -65.640811           24.5          76.10  2022-08-05  \n",
              "26428 -65.641010           25.0          77.00  2022-08-05  \n",
              "\n",
              "[6819 rows x 12 columns]"
            ],
            "text/html": [
              "\n",
              "  <div id=\"df-830f54ee-d6f1-4a18-aeca-aae3b5156f9a\">\n",
              "    <div class=\"colab-df-container\">\n",
              "      <div>\n",
              "<style scoped>\n",
              "    .dataframe tbody tr th:only-of-type {\n",
              "        vertical-align: middle;\n",
              "    }\n",
              "\n",
              "    .dataframe tbody tr th {\n",
              "        vertical-align: top;\n",
              "    }\n",
              "\n",
              "    .dataframe thead th {\n",
              "        text-align: right;\n",
              "    }\n",
              "</style>\n",
              "<table border=\"1\" class=\"dataframe\">\n",
              "  <thead>\n",
              "    <tr style=\"text-align: right;\">\n",
              "      <th></th>\n",
              "      <th>asset_type</th>\n",
              "      <th>asset_id</th>\n",
              "      <th>tag_id</th>\n",
              "      <th>Site</th>\n",
              "      <th>Zone</th>\n",
              "      <th>device_id</th>\n",
              "      <th>time_est</th>\n",
              "      <th>lat</th>\n",
              "      <th>lng</th>\n",
              "      <th>Temperature_C</th>\n",
              "      <th>Temperature_F</th>\n",
              "      <th>Fecha</th>\n",
              "    </tr>\n",
              "  </thead>\n",
              "  <tbody>\n",
              "    <tr>\n",
              "      <th>19610</th>\n",
              "      <td>tote</td>\n",
              "      <td>52</td>\n",
              "      <td>(01)00850027865010(21)0082T0685</td>\n",
              "      <td>DC 1</td>\n",
              "      <td>dock_doors_DC1</td>\n",
              "      <td>3D8B2BDB8673</td>\n",
              "      <td>2022-08-02 12:02:55.971</td>\n",
              "      <td>47.791580</td>\n",
              "      <td>-65.689020</td>\n",
              "      <td>23.0</td>\n",
              "      <td>73.40</td>\n",
              "      <td>2022-08-02</td>\n",
              "    </tr>\n",
              "    <tr>\n",
              "      <th>19611</th>\n",
              "      <td>tote</td>\n",
              "      <td>52</td>\n",
              "      <td>(01)00850027865010(21)0082T0685</td>\n",
              "      <td>DC 1</td>\n",
              "      <td>Forklift1_DC1</td>\n",
              "      <td>E2F5A528ABFC</td>\n",
              "      <td>2022-08-02 13:20:32.790</td>\n",
              "      <td>47.792910</td>\n",
              "      <td>-65.689600</td>\n",
              "      <td>23.0</td>\n",
              "      <td>73.40</td>\n",
              "      <td>2022-08-02</td>\n",
              "    </tr>\n",
              "    <tr>\n",
              "      <th>19612</th>\n",
              "      <td>tote</td>\n",
              "      <td>52</td>\n",
              "      <td>(01)00850027865010(21)0082T0685</td>\n",
              "      <td>DC 1</td>\n",
              "      <td>Forklift1_DC1</td>\n",
              "      <td>E2F5A528ABFC</td>\n",
              "      <td>2022-08-02 13:24:20.536</td>\n",
              "      <td>47.791580</td>\n",
              "      <td>-65.689020</td>\n",
              "      <td>23.0</td>\n",
              "      <td>73.40</td>\n",
              "      <td>2022-08-02</td>\n",
              "    </tr>\n",
              "    <tr>\n",
              "      <th>19613</th>\n",
              "      <td>tote</td>\n",
              "      <td>52</td>\n",
              "      <td>(01)00850027865010(21)0082T1101</td>\n",
              "      <td>DC 1</td>\n",
              "      <td>Forklift1_DC1</td>\n",
              "      <td>E2F5A528ABFC</td>\n",
              "      <td>2022-08-02 13:21:13.307</td>\n",
              "      <td>47.793000</td>\n",
              "      <td>-65.689560</td>\n",
              "      <td>22.5</td>\n",
              "      <td>72.50</td>\n",
              "      <td>2022-08-02</td>\n",
              "    </tr>\n",
              "    <tr>\n",
              "      <th>19614</th>\n",
              "      <td>tote</td>\n",
              "      <td>52</td>\n",
              "      <td>(01)00850027865010(21)0082T0685</td>\n",
              "      <td>DC 1</td>\n",
              "      <td>Forklift3_DC1</td>\n",
              "      <td>6EEDDB0D6881</td>\n",
              "      <td>2022-08-02 12:11:02.095</td>\n",
              "      <td>47.791580</td>\n",
              "      <td>-65.689020</td>\n",
              "      <td>23.0</td>\n",
              "      <td>73.40</td>\n",
              "      <td>2022-08-02</td>\n",
              "    </tr>\n",
              "    <tr>\n",
              "      <th>...</th>\n",
              "      <td>...</td>\n",
              "      <td>...</td>\n",
              "      <td>...</td>\n",
              "      <td>...</td>\n",
              "      <td>...</td>\n",
              "      <td>...</td>\n",
              "      <td>...</td>\n",
              "      <td>...</td>\n",
              "      <td>...</td>\n",
              "      <td>...</td>\n",
              "      <td>...</td>\n",
              "      <td>...</td>\n",
              "    </tr>\n",
              "    <tr>\n",
              "      <th>26424</th>\n",
              "      <td>tote</td>\n",
              "      <td>52</td>\n",
              "      <td>(01)00850027865010(21)0082T1101</td>\n",
              "      <td>Store</td>\n",
              "      <td>store_front_Store</td>\n",
              "      <td>6AF833197EE3</td>\n",
              "      <td>2022-08-05 12:42:59.878</td>\n",
              "      <td>47.749230</td>\n",
              "      <td>-65.641010</td>\n",
              "      <td>24.8</td>\n",
              "      <td>76.64</td>\n",
              "      <td>2022-08-05</td>\n",
              "    </tr>\n",
              "    <tr>\n",
              "      <th>26425</th>\n",
              "      <td>tote</td>\n",
              "      <td>52</td>\n",
              "      <td>(01)00850027865010(21)0082T1101</td>\n",
              "      <td>Store</td>\n",
              "      <td>store_front_Store</td>\n",
              "      <td>6AF833197EE3</td>\n",
              "      <td>2022-08-05 12:44:28.920</td>\n",
              "      <td>47.749230</td>\n",
              "      <td>-65.641010</td>\n",
              "      <td>24.5</td>\n",
              "      <td>76.10</td>\n",
              "      <td>2022-08-05</td>\n",
              "    </tr>\n",
              "    <tr>\n",
              "      <th>26426</th>\n",
              "      <td>tote</td>\n",
              "      <td>52</td>\n",
              "      <td>(01)00850027865010(21)0082T1101</td>\n",
              "      <td>Store</td>\n",
              "      <td>store_front_Store</td>\n",
              "      <td>6AF833197EE3</td>\n",
              "      <td>2022-08-05 12:48:54.942</td>\n",
              "      <td>47.749230</td>\n",
              "      <td>-65.641010</td>\n",
              "      <td>24.5</td>\n",
              "      <td>76.10</td>\n",
              "      <td>2022-08-05</td>\n",
              "    </tr>\n",
              "    <tr>\n",
              "      <th>26427</th>\n",
              "      <td>tote</td>\n",
              "      <td>52</td>\n",
              "      <td>(01)00850027865010(21)0082T1101</td>\n",
              "      <td>Store</td>\n",
              "      <td>store_front_Store</td>\n",
              "      <td>6AF833197EE3</td>\n",
              "      <td>2022-08-05 12:54:17.715</td>\n",
              "      <td>47.749388</td>\n",
              "      <td>-65.640811</td>\n",
              "      <td>24.5</td>\n",
              "      <td>76.10</td>\n",
              "      <td>2022-08-05</td>\n",
              "    </tr>\n",
              "    <tr>\n",
              "      <th>26428</th>\n",
              "      <td>tote</td>\n",
              "      <td>52</td>\n",
              "      <td>(01)00850027865010(21)0082T1101</td>\n",
              "      <td>Store</td>\n",
              "      <td>store_front_Store</td>\n",
              "      <td>6AF833197EE3</td>\n",
              "      <td>2022-08-05 13:09:49.534</td>\n",
              "      <td>47.749230</td>\n",
              "      <td>-65.641010</td>\n",
              "      <td>25.0</td>\n",
              "      <td>77.00</td>\n",
              "      <td>2022-08-05</td>\n",
              "    </tr>\n",
              "  </tbody>\n",
              "</table>\n",
              "<p>6819 rows × 12 columns</p>\n",
              "</div>\n",
              "      <button class=\"colab-df-convert\" onclick=\"convertToInteractive('df-830f54ee-d6f1-4a18-aeca-aae3b5156f9a')\"\n",
              "              title=\"Convert this dataframe to an interactive table.\"\n",
              "              style=\"display:none;\">\n",
              "        \n",
              "  <svg xmlns=\"http://www.w3.org/2000/svg\" height=\"24px\"viewBox=\"0 0 24 24\"\n",
              "       width=\"24px\">\n",
              "    <path d=\"M0 0h24v24H0V0z\" fill=\"none\"/>\n",
              "    <path d=\"M18.56 5.44l.94 2.06.94-2.06 2.06-.94-2.06-.94-.94-2.06-.94 2.06-2.06.94zm-11 1L8.5 8.5l.94-2.06 2.06-.94-2.06-.94L8.5 2.5l-.94 2.06-2.06.94zm10 10l.94 2.06.94-2.06 2.06-.94-2.06-.94-.94-2.06-.94 2.06-2.06.94z\"/><path d=\"M17.41 7.96l-1.37-1.37c-.4-.4-.92-.59-1.43-.59-.52 0-1.04.2-1.43.59L10.3 9.45l-7.72 7.72c-.78.78-.78 2.05 0 2.83L4 21.41c.39.39.9.59 1.41.59.51 0 1.02-.2 1.41-.59l7.78-7.78 2.81-2.81c.8-.78.8-2.07 0-2.86zM5.41 20L4 18.59l7.72-7.72 1.47 1.35L5.41 20z\"/>\n",
              "  </svg>\n",
              "      </button>\n",
              "      \n",
              "  <style>\n",
              "    .colab-df-container {\n",
              "      display:flex;\n",
              "      flex-wrap:wrap;\n",
              "      gap: 12px;\n",
              "    }\n",
              "\n",
              "    .colab-df-convert {\n",
              "      background-color: #E8F0FE;\n",
              "      border: none;\n",
              "      border-radius: 50%;\n",
              "      cursor: pointer;\n",
              "      display: none;\n",
              "      fill: #1967D2;\n",
              "      height: 32px;\n",
              "      padding: 0 0 0 0;\n",
              "      width: 32px;\n",
              "    }\n",
              "\n",
              "    .colab-df-convert:hover {\n",
              "      background-color: #E2EBFA;\n",
              "      box-shadow: 0px 1px 2px rgba(60, 64, 67, 0.3), 0px 1px 3px 1px rgba(60, 64, 67, 0.15);\n",
              "      fill: #174EA6;\n",
              "    }\n",
              "\n",
              "    [theme=dark] .colab-df-convert {\n",
              "      background-color: #3B4455;\n",
              "      fill: #D2E3FC;\n",
              "    }\n",
              "\n",
              "    [theme=dark] .colab-df-convert:hover {\n",
              "      background-color: #434B5C;\n",
              "      box-shadow: 0px 1px 3px 1px rgba(0, 0, 0, 0.15);\n",
              "      filter: drop-shadow(0px 1px 2px rgba(0, 0, 0, 0.3));\n",
              "      fill: #FFFFFF;\n",
              "    }\n",
              "  </style>\n",
              "\n",
              "      <script>\n",
              "        const buttonEl =\n",
              "          document.querySelector('#df-830f54ee-d6f1-4a18-aeca-aae3b5156f9a button.colab-df-convert');\n",
              "        buttonEl.style.display =\n",
              "          google.colab.kernel.accessAllowed ? 'block' : 'none';\n",
              "\n",
              "        async function convertToInteractive(key) {\n",
              "          const element = document.querySelector('#df-830f54ee-d6f1-4a18-aeca-aae3b5156f9a');\n",
              "          const dataTable =\n",
              "            await google.colab.kernel.invokeFunction('convertToInteractive',\n",
              "                                                     [key], {});\n",
              "          if (!dataTable) return;\n",
              "\n",
              "          const docLinkHtml = 'Like what you see? Visit the ' +\n",
              "            '<a target=\"_blank\" href=https://colab.research.google.com/notebooks/data_table.ipynb>data table notebook</a>'\n",
              "            + ' to learn more about interactive tables.';\n",
              "          element.innerHTML = '';\n",
              "          dataTable['output_type'] = 'display_data';\n",
              "          await google.colab.output.renderOutput(dataTable, element);\n",
              "          const docLink = document.createElement('div');\n",
              "          docLink.innerHTML = docLinkHtml;\n",
              "          element.appendChild(docLink);\n",
              "        }\n",
              "      </script>\n",
              "    </div>\n",
              "  </div>\n",
              "  "
            ]
          },
          "metadata": {},
          "execution_count": 12
        }
      ],
      "source": [
        "# YOUR CODE HERE:\n",
        "case_52 = df[df['asset_id']==52]\n",
        "case_52"
      ]
    },
    {
      "cell_type": "markdown",
      "source": [
        "seleccionamos solo las columnas tiempo, temperatura y zona para ver el recorrido de el asset"
      ],
      "metadata": {
        "id": "Z4zRjzdrlBuF"
      }
    },
    {
      "cell_type": "markdown",
      "source": [
        "Se ordenan los datos por fecha, time_est"
      ],
      "metadata": {
        "id": "qQR57yzNHPm7"
      }
    },
    {
      "cell_type": "code",
      "execution_count": null,
      "metadata": {
        "colab": {
          "base_uri": "https://localhost:8080/",
          "height": 424
        },
        "id": "rVsYMiHTRzvj",
        "outputId": "08fd12b8-1ee3-4c9e-8b64-1448acfca939"
      },
      "outputs": [
        {
          "output_type": "execute_result",
          "data": {
            "text/plain": [
              "            Fecha                time_est   Site             Zone\n",
              "25304  2022-08-02 2022-08-02 11:59:41.040   DC 1      staging_DC1\n",
              "25307  2022-08-02 2022-08-02 11:59:53.891   DC 1      staging_DC1\n",
              "25308  2022-08-02 2022-08-02 12:00:06.907   DC 1      staging_DC1\n",
              "19615  2022-08-02 2022-08-02 12:00:56.899   DC 1    Forklift3_DC1\n",
              "25305  2022-08-02 2022-08-02 12:01:29.910   DC 1      staging_DC1\n",
              "...           ...                     ...    ...              ...\n",
              "25301  2022-08-05 2022-08-05 13:27:17.818  Store  receiving_Store\n",
              "22795  2022-08-05 2022-08-05 13:27:56.696  Store  receiving_Store\n",
              "25302  2022-08-05 2022-08-05 13:27:57.584  Store  receiving_Store\n",
              "22796  2022-08-05 2022-08-05 13:28:20.850  Store  receiving_Store\n",
              "25303  2022-08-05 2022-08-05 13:28:29.966  Store  receiving_Store\n",
              "\n",
              "[6819 rows x 4 columns]"
            ],
            "text/html": [
              "\n",
              "  <div id=\"df-655c43df-38c4-4835-a32e-7068a99df5ad\">\n",
              "    <div class=\"colab-df-container\">\n",
              "      <div>\n",
              "<style scoped>\n",
              "    .dataframe tbody tr th:only-of-type {\n",
              "        vertical-align: middle;\n",
              "    }\n",
              "\n",
              "    .dataframe tbody tr th {\n",
              "        vertical-align: top;\n",
              "    }\n",
              "\n",
              "    .dataframe thead th {\n",
              "        text-align: right;\n",
              "    }\n",
              "</style>\n",
              "<table border=\"1\" class=\"dataframe\">\n",
              "  <thead>\n",
              "    <tr style=\"text-align: right;\">\n",
              "      <th></th>\n",
              "      <th>Fecha</th>\n",
              "      <th>time_est</th>\n",
              "      <th>Site</th>\n",
              "      <th>Zone</th>\n",
              "    </tr>\n",
              "  </thead>\n",
              "  <tbody>\n",
              "    <tr>\n",
              "      <th>25304</th>\n",
              "      <td>2022-08-02</td>\n",
              "      <td>2022-08-02 11:59:41.040</td>\n",
              "      <td>DC 1</td>\n",
              "      <td>staging_DC1</td>\n",
              "    </tr>\n",
              "    <tr>\n",
              "      <th>25307</th>\n",
              "      <td>2022-08-02</td>\n",
              "      <td>2022-08-02 11:59:53.891</td>\n",
              "      <td>DC 1</td>\n",
              "      <td>staging_DC1</td>\n",
              "    </tr>\n",
              "    <tr>\n",
              "      <th>25308</th>\n",
              "      <td>2022-08-02</td>\n",
              "      <td>2022-08-02 12:00:06.907</td>\n",
              "      <td>DC 1</td>\n",
              "      <td>staging_DC1</td>\n",
              "    </tr>\n",
              "    <tr>\n",
              "      <th>19615</th>\n",
              "      <td>2022-08-02</td>\n",
              "      <td>2022-08-02 12:00:56.899</td>\n",
              "      <td>DC 1</td>\n",
              "      <td>Forklift3_DC1</td>\n",
              "    </tr>\n",
              "    <tr>\n",
              "      <th>25305</th>\n",
              "      <td>2022-08-02</td>\n",
              "      <td>2022-08-02 12:01:29.910</td>\n",
              "      <td>DC 1</td>\n",
              "      <td>staging_DC1</td>\n",
              "    </tr>\n",
              "    <tr>\n",
              "      <th>...</th>\n",
              "      <td>...</td>\n",
              "      <td>...</td>\n",
              "      <td>...</td>\n",
              "      <td>...</td>\n",
              "    </tr>\n",
              "    <tr>\n",
              "      <th>25301</th>\n",
              "      <td>2022-08-05</td>\n",
              "      <td>2022-08-05 13:27:17.818</td>\n",
              "      <td>Store</td>\n",
              "      <td>receiving_Store</td>\n",
              "    </tr>\n",
              "    <tr>\n",
              "      <th>22795</th>\n",
              "      <td>2022-08-05</td>\n",
              "      <td>2022-08-05 13:27:56.696</td>\n",
              "      <td>Store</td>\n",
              "      <td>receiving_Store</td>\n",
              "    </tr>\n",
              "    <tr>\n",
              "      <th>25302</th>\n",
              "      <td>2022-08-05</td>\n",
              "      <td>2022-08-05 13:27:57.584</td>\n",
              "      <td>Store</td>\n",
              "      <td>receiving_Store</td>\n",
              "    </tr>\n",
              "    <tr>\n",
              "      <th>22796</th>\n",
              "      <td>2022-08-05</td>\n",
              "      <td>2022-08-05 13:28:20.850</td>\n",
              "      <td>Store</td>\n",
              "      <td>receiving_Store</td>\n",
              "    </tr>\n",
              "    <tr>\n",
              "      <th>25303</th>\n",
              "      <td>2022-08-05</td>\n",
              "      <td>2022-08-05 13:28:29.966</td>\n",
              "      <td>Store</td>\n",
              "      <td>receiving_Store</td>\n",
              "    </tr>\n",
              "  </tbody>\n",
              "</table>\n",
              "<p>6819 rows × 4 columns</p>\n",
              "</div>\n",
              "      <button class=\"colab-df-convert\" onclick=\"convertToInteractive('df-655c43df-38c4-4835-a32e-7068a99df5ad')\"\n",
              "              title=\"Convert this dataframe to an interactive table.\"\n",
              "              style=\"display:none;\">\n",
              "        \n",
              "  <svg xmlns=\"http://www.w3.org/2000/svg\" height=\"24px\"viewBox=\"0 0 24 24\"\n",
              "       width=\"24px\">\n",
              "    <path d=\"M0 0h24v24H0V0z\" fill=\"none\"/>\n",
              "    <path d=\"M18.56 5.44l.94 2.06.94-2.06 2.06-.94-2.06-.94-.94-2.06-.94 2.06-2.06.94zm-11 1L8.5 8.5l.94-2.06 2.06-.94-2.06-.94L8.5 2.5l-.94 2.06-2.06.94zm10 10l.94 2.06.94-2.06 2.06-.94-2.06-.94-.94-2.06-.94 2.06-2.06.94z\"/><path d=\"M17.41 7.96l-1.37-1.37c-.4-.4-.92-.59-1.43-.59-.52 0-1.04.2-1.43.59L10.3 9.45l-7.72 7.72c-.78.78-.78 2.05 0 2.83L4 21.41c.39.39.9.59 1.41.59.51 0 1.02-.2 1.41-.59l7.78-7.78 2.81-2.81c.8-.78.8-2.07 0-2.86zM5.41 20L4 18.59l7.72-7.72 1.47 1.35L5.41 20z\"/>\n",
              "  </svg>\n",
              "      </button>\n",
              "      \n",
              "  <style>\n",
              "    .colab-df-container {\n",
              "      display:flex;\n",
              "      flex-wrap:wrap;\n",
              "      gap: 12px;\n",
              "    }\n",
              "\n",
              "    .colab-df-convert {\n",
              "      background-color: #E8F0FE;\n",
              "      border: none;\n",
              "      border-radius: 50%;\n",
              "      cursor: pointer;\n",
              "      display: none;\n",
              "      fill: #1967D2;\n",
              "      height: 32px;\n",
              "      padding: 0 0 0 0;\n",
              "      width: 32px;\n",
              "    }\n",
              "\n",
              "    .colab-df-convert:hover {\n",
              "      background-color: #E2EBFA;\n",
              "      box-shadow: 0px 1px 2px rgba(60, 64, 67, 0.3), 0px 1px 3px 1px rgba(60, 64, 67, 0.15);\n",
              "      fill: #174EA6;\n",
              "    }\n",
              "\n",
              "    [theme=dark] .colab-df-convert {\n",
              "      background-color: #3B4455;\n",
              "      fill: #D2E3FC;\n",
              "    }\n",
              "\n",
              "    [theme=dark] .colab-df-convert:hover {\n",
              "      background-color: #434B5C;\n",
              "      box-shadow: 0px 1px 3px 1px rgba(0, 0, 0, 0.15);\n",
              "      filter: drop-shadow(0px 1px 2px rgba(0, 0, 0, 0.3));\n",
              "      fill: #FFFFFF;\n",
              "    }\n",
              "  </style>\n",
              "\n",
              "      <script>\n",
              "        const buttonEl =\n",
              "          document.querySelector('#df-655c43df-38c4-4835-a32e-7068a99df5ad button.colab-df-convert');\n",
              "        buttonEl.style.display =\n",
              "          google.colab.kernel.accessAllowed ? 'block' : 'none';\n",
              "\n",
              "        async function convertToInteractive(key) {\n",
              "          const element = document.querySelector('#df-655c43df-38c4-4835-a32e-7068a99df5ad');\n",
              "          const dataTable =\n",
              "            await google.colab.kernel.invokeFunction('convertToInteractive',\n",
              "                                                     [key], {});\n",
              "          if (!dataTable) return;\n",
              "\n",
              "          const docLinkHtml = 'Like what you see? Visit the ' +\n",
              "            '<a target=\"_blank\" href=https://colab.research.google.com/notebooks/data_table.ipynb>data table notebook</a>'\n",
              "            + ' to learn more about interactive tables.';\n",
              "          element.innerHTML = '';\n",
              "          dataTable['output_type'] = 'display_data';\n",
              "          await google.colab.output.renderOutput(dataTable, element);\n",
              "          const docLink = document.createElement('div');\n",
              "          docLink.innerHTML = docLinkHtml;\n",
              "          element.appendChild(docLink);\n",
              "        }\n",
              "      </script>\n",
              "    </div>\n",
              "  </div>\n",
              "  "
            ]
          },
          "metadata": {},
          "execution_count": 13
        }
      ],
      "source": [
        "db_52 = case_52[['Fecha','time_est', 'Site', 'Zone']].sort_values('time_est')\n",
        "db_52"
      ]
    },
    {
      "cell_type": "markdown",
      "source": [
        "promedio de tiempo"
      ],
      "metadata": {
        "id": "Yf1_WY-QX6To"
      }
    },
    {
      "cell_type": "code",
      "source": [
        "db_52.groupby(['Site','Zone']).time_est.mean()"
      ],
      "metadata": {
        "colab": {
          "base_uri": "https://localhost:8080/"
        },
        "id": "DDGAIdSJX1NH",
        "outputId": "2ff3df9b-573a-4071-a7cc-093c6439d2a3"
      },
      "execution_count": null,
      "outputs": [
        {
          "output_type": "execute_result",
          "data": {
            "text/plain": [
              "Site     Zone               \n",
              "DC 1     Forklift1_DC1         2022-08-02 13:22:02.211000064\n",
              "         Forklift3_DC1         2022-08-02 12:05:59.496999936\n",
              "         dock_doors_DC1        2022-08-02 12:02:55.971000064\n",
              "         staging_DC1           2022-08-02 12:30:11.696571648\n",
              "Store    point_of_sale_Store   2022-08-04 10:55:42.715666688\n",
              "         receiving_Store       2022-08-05 00:00:15.221326848\n",
              "         store_back_Store      2022-08-05 00:12:51.274443520\n",
              "         store_front_Store     2022-08-04 16:46:21.274200064\n",
              "Transit  PhoneKit1Bridge       2022-08-03 09:20:55.326241024\n",
              "         PhoneKit1GW           2022-08-03 18:10:27.198428672\n",
              "         PhoneKit2Bridge       2022-08-03 09:19:49.926006272\n",
              "         PhoneKit2GW           2022-08-03 06:54:45.267965696\n",
              "Name: time_est, dtype: datetime64[ns]"
            ]
          },
          "metadata": {},
          "execution_count": 15
        }
      ]
    },
    {
      "cell_type": "code",
      "source": [
        "plt.plot(db_52['time_est'],db_52['Site'])\n",
        "#plt.figure(figsize = (20,5))\n",
        "plt.figure(figsize=[20,5])\n",
        "plt.show()"
      ],
      "metadata": {
        "colab": {
          "base_uri": "https://localhost:8080/",
          "height": 366
        },
        "id": "WqqnGPfvd1aB",
        "outputId": "5fb7ac50-c45a-431f-c5e7-2afcea34b90a"
      },
      "execution_count": null,
      "outputs": [
        {
          "output_type": "display_data",
          "data": {
            "text/plain": [
              "<Figure size 2000x500 with 1 Axes>"
            ],
            "image/png": "[encoded data removed]"
          },
          "metadata": {}
        },
        {
          "output_type": "display_data",
          "data": {
            "text/plain": [
              "<Figure size 2000x500 with 0 Axes>"
            ]
          },
          "metadata": {}
        }
      ]
    },
    {
      "cell_type": "code",
      "source": [
        "plt.plot(db_52['time_est'],db_52['Zone'], marker = 'o')\n",
        "plt.figure(figsize=[15,5])\n",
        "plt.show()"
      ],
      "metadata": {
        "colab": {
          "base_uri": "https://localhost:8080/",
          "height": 349
        },
        "id": "xK3YqAmOeGcD",
        "outputId": "97306417-a604-4f60-f42e-48d2836a9533"
      },
      "execution_count": null,
      "outputs": [
        {
          "output_type": "display_data",
          "data": {
            "text/plain": [
              "<Figure size 2000x500 with 1 Axes>"
            ],
            "image/png": "[encoded data removed]"
          },
          "metadata": {}
        },
        {
          "output_type": "display_data",
          "data": {
            "text/plain": [
              "<Figure size 1500x500 with 0 Axes>"
            ]
          },
          "metadata": {}
        }
      ]
    },
    {
      "cell_type": "markdown",
      "metadata": {
        "id": "n7nBbEZ42vvP"
      },
      "source": [
        "### Question 4:\n",
        "\n",
        "* Visualize how the temperatue changes over time along its journey.  Imagine that this would be included in your presentation to the customer. (Non techical audience) (4 pts)\n",
        "\n"
      ]
    },
    {
      "cell_type": "code",
      "execution_count": null,
      "metadata": {
        "colab": {
          "base_uri": "https://localhost:8080/"
        },
        "id": "bwERVHuQb8Sg",
        "outputId": "c82cad46-8a25-41de-db73-720f7abf9d9d"
      },
      "outputs": [
        {
          "output_type": "execute_result",
          "data": {
            "text/plain": [
              "0        2022-08-02\n",
              "1        2022-08-02\n",
              "2        2022-08-02\n",
              "3        2022-08-02\n",
              "4        2022-08-02\n",
              "            ...    \n",
              "130056   2022-08-04\n",
              "130057   2022-08-04\n",
              "130058   2022-08-04\n",
              "130059   2022-08-04\n",
              "130060   2022-08-04\n",
              "Name: Fecha, Length: 130061, dtype: datetime64[ns]"
            ]
          },
          "metadata": {},
          "execution_count": 16
        }
      ],
      "source": [
        "pd.to_datetime(df['Fecha'], format=\"%Y-%m-%d\")"
      ]
    },
    {
      "cell_type": "code",
      "execution_count": null,
      "metadata": {
        "colab": {
          "base_uri": "https://localhost:8080/"
        },
        "id": "xfYOHj4tfD_U",
        "outputId": "bbf2b206-f38e-4fa7-9dac-b6aeaf56fcff"
      },
      "outputs": [
        {
          "output_type": "execute_result",
          "data": {
            "text/plain": [
              "0        2022-08-02 11:59:26.628\n",
              "1        2022-08-02 12:00:22.660\n",
              "2        2022-08-02 12:01:11.234\n",
              "3        2022-08-02 13:47:58.172\n",
              "4        2022-08-02 11:58:55.049\n",
              "                   ...          \n",
              "130056   2022-08-04 12:48:51.273\n",
              "130057   2022-08-04 12:49:58.699\n",
              "130058   2022-08-04 12:52:45.173\n",
              "130059   2022-08-04 12:53:48.228\n",
              "130060   2022-08-04 16:33:25.525\n",
              "Name: time_est, Length: 130061, dtype: datetime64[ns]"
            ]
          },
          "metadata": {},
          "execution_count": 17
        }
      ],
      "source": [
        "pd.to_datetime(df['time_est'], format=\"%Y-%m-%d %H:%M:%S\")"
      ]
    },
    {
      "cell_type": "code",
      "execution_count": null,
      "metadata": {
        "colab": {
          "base_uri": "https://localhost:8080/",
          "height": 424
        },
        "id": "o-yNj_4b6_SX",
        "outputId": "8eaef84e-0313-404d-8196-c141fe41fb1b"
      },
      "outputs": [
        {
          "output_type": "execute_result",
          "data": {
            "text/plain": [
              "                     time_est  Temperature_C\n",
              "25304 2022-08-02 11:59:41.040          23.00\n",
              "25307 2022-08-02 11:59:53.891          22.50\n",
              "25308 2022-08-02 12:00:06.907          22.50\n",
              "19615 2022-08-02 12:00:56.899          22.50\n",
              "25305 2022-08-02 12:01:29.910          23.00\n",
              "...                       ...            ...\n",
              "25301 2022-08-05 13:27:17.818          25.00\n",
              "22795 2022-08-05 13:27:56.696          27.25\n",
              "25302 2022-08-05 13:27:57.584          25.00\n",
              "22796 2022-08-05 13:28:20.850          27.50\n",
              "25303 2022-08-05 13:28:29.966          25.00\n",
              "\n",
              "[6819 rows x 2 columns]"
            ],
            "text/html": [
              "\n",
              "  <div id=\"df-dae46fa4-2c12-4cf8-81d5-a18cf96a6e40\">\n",
              "    <div class=\"colab-df-container\">\n",
              "      <div>\n",
              "<style scoped>\n",
              "    .dataframe tbody tr th:only-of-type {\n",
              "        vertical-align: middle;\n",
              "    }\n",
              "\n",
              "    .dataframe tbody tr th {\n",
              "        vertical-align: top;\n",
              "    }\n",
              "\n",
              "    .dataframe thead th {\n",
              "        text-align: right;\n",
              "    }\n",
              "</style>\n",
              "<table border=\"1\" class=\"dataframe\">\n",
              "  <thead>\n",
              "    <tr style=\"text-align: right;\">\n",
              "      <th></th>\n",
              "      <th>time_est</th>\n",
              "      <th>Temperature_C</th>\n",
              "    </tr>\n",
              "  </thead>\n",
              "  <tbody>\n",
              "    <tr>\n",
              "      <th>25304</th>\n",
              "      <td>2022-08-02 11:59:41.040</td>\n",
              "      <td>23.00</td>\n",
              "    </tr>\n",
              "    <tr>\n",
              "      <th>25307</th>\n",
              "      <td>2022-08-02 11:59:53.891</td>\n",
              "      <td>22.50</td>\n",
              "    </tr>\n",
              "    <tr>\n",
              "      <th>25308</th>\n",
              "      <td>2022-08-02 12:00:06.907</td>\n",
              "      <td>22.50</td>\n",
              "    </tr>\n",
              "    <tr>\n",
              "      <th>19615</th>\n",
              "      <td>2022-08-02 12:00:56.899</td>\n",
              "      <td>22.50</td>\n",
              "    </tr>\n",
              "    <tr>\n",
              "      <th>25305</th>\n",
              "      <td>2022-08-02 12:01:29.910</td>\n",
              "      <td>23.00</td>\n",
              "    </tr>\n",
              "    <tr>\n",
              "      <th>...</th>\n",
              "      <td>...</td>\n",
              "      <td>...</td>\n",
              "    </tr>\n",
              "    <tr>\n",
              "      <th>25301</th>\n",
              "      <td>2022-08-05 13:27:17.818</td>\n",
              "      <td>25.00</td>\n",
              "    </tr>\n",
              "    <tr>\n",
              "      <th>22795</th>\n",
              "      <td>2022-08-05 13:27:56.696</td>\n",
              "      <td>27.25</td>\n",
              "    </tr>\n",
              "    <tr>\n",
              "      <th>25302</th>\n",
              "      <td>2022-08-05 13:27:57.584</td>\n",
              "      <td>25.00</td>\n",
              "    </tr>\n",
              "    <tr>\n",
              "      <th>22796</th>\n",
              "      <td>2022-08-05 13:28:20.850</td>\n",
              "      <td>27.50</td>\n",
              "    </tr>\n",
              "    <tr>\n",
              "      <th>25303</th>\n",
              "      <td>2022-08-05 13:28:29.966</td>\n",
              "      <td>25.00</td>\n",
              "    </tr>\n",
              "  </tbody>\n",
              "</table>\n",
              "<p>6819 rows × 2 columns</p>\n",
              "</div>\n",
              "      <button class=\"colab-df-convert\" onclick=\"convertToInteractive('df-dae46fa4-2c12-4cf8-81d5-a18cf96a6e40')\"\n",
              "              title=\"Convert this dataframe to an interactive table.\"\n",
              "              style=\"display:none;\">\n",
              "        \n",
              "  <svg xmlns=\"http://www.w3.org/2000/svg\" height=\"24px\"viewBox=\"0 0 24 24\"\n",
              "       width=\"24px\">\n",
              "    <path d=\"M0 0h24v24H0V0z\" fill=\"none\"/>\n",
              "    <path d=\"M18.56 5.44l.94 2.06.94-2.06 2.06-.94-2.06-.94-.94-2.06-.94 2.06-2.06.94zm-11 1L8.5 8.5l.94-2.06 2.06-.94-2.06-.94L8.5 2.5l-.94 2.06-2.06.94zm10 10l.94 2.06.94-2.06 2.06-.94-2.06-.94-.94-2.06-.94 2.06-2.06.94z\"/><path d=\"M17.41 7.96l-1.37-1.37c-.4-.4-.92-.59-1.43-.59-.52 0-1.04.2-1.43.59L10.3 9.45l-7.72 7.72c-.78.78-.78 2.05 0 2.83L4 21.41c.39.39.9.59 1.41.59.51 0 1.02-.2 1.41-.59l7.78-7.78 2.81-2.81c.8-.78.8-2.07 0-2.86zM5.41 20L4 18.59l7.72-7.72 1.47 1.35L5.41 20z\"/>\n",
              "  </svg>\n",
              "      </button>\n",
              "      \n",
              "  <style>\n",
              "    .colab-df-container {\n",
              "      display:flex;\n",
              "      flex-wrap:wrap;\n",
              "      gap: 12px;\n",
              "    }\n",
              "\n",
              "    .colab-df-convert {\n",
              "      background-color: #E8F0FE;\n",
              "      border: none;\n",
              "      border-radius: 50%;\n",
              "      cursor: pointer;\n",
              "      display: none;\n",
              "      fill: #1967D2;\n",
              "      height: 32px;\n",
              "      padding: 0 0 0 0;\n",
              "      width: 32px;\n",
              "    }\n",
              "\n",
              "    .colab-df-convert:hover {\n",
              "      background-color: #E2EBFA;\n",
              "      box-shadow: 0px 1px 2px rgba(60, 64, 67, 0.3), 0px 1px 3px 1px rgba(60, 64, 67, 0.15);\n",
              "      fill: #174EA6;\n",
              "    }\n",
              "\n",
              "    [theme=dark] .colab-df-convert {\n",
              "      background-color: #3B4455;\n",
              "      fill: #D2E3FC;\n",
              "    }\n",
              "\n",
              "    [theme=dark] .colab-df-convert:hover {\n",
              "      background-color: #434B5C;\n",
              "      box-shadow: 0px 1px 3px 1px rgba(0, 0, 0, 0.15);\n",
              "      filter: drop-shadow(0px 1px 2px rgba(0, 0, 0, 0.3));\n",
              "      fill: #FFFFFF;\n",
              "    }\n",
              "  </style>\n",
              "\n",
              "      <script>\n",
              "        const buttonEl =\n",
              "          document.querySelector('#df-dae46fa4-2c12-4cf8-81d5-a18cf96a6e40 button.colab-df-convert');\n",
              "        buttonEl.style.display =\n",
              "          google.colab.kernel.accessAllowed ? 'block' : 'none';\n",
              "\n",
              "        async function convertToInteractive(key) {\n",
              "          const element = document.querySelector('#df-dae46fa4-2c12-4cf8-81d5-a18cf96a6e40');\n",
              "          const dataTable =\n",
              "            await google.colab.kernel.invokeFunction('convertToInteractive',\n",
              "                                                     [key], {});\n",
              "          if (!dataTable) return;\n",
              "\n",
              "          const docLinkHtml = 'Like what you see? Visit the ' +\n",
              "            '<a target=\"_blank\" href=https://colab.research.google.com/notebooks/data_table.ipynb>data table notebook</a>'\n",
              "            + ' to learn more about interactive tables.';\n",
              "          element.innerHTML = '';\n",
              "          dataTable['output_type'] = 'display_data';\n",
              "          await google.colab.output.renderOutput(dataTable, element);\n",
              "          const docLink = document.createElement('div');\n",
              "          docLink.innerHTML = docLinkHtml;\n",
              "          element.appendChild(docLink);\n",
              "        }\n",
              "      </script>\n",
              "    </div>\n",
              "  </div>\n",
              "  "
            ]
          },
          "metadata": {},
          "execution_count": 18
        }
      ],
      "source": [
        "#agrupo por tiempo,fecha, zonas y temperatura del registro 52\n",
        "t_time = case_52[['time_est', 'Temperature_C']].sort_values('time_est')\n",
        "t_time"
      ]
    },
    {
      "cell_type": "code",
      "source": [
        "plt.plot(t_time['time_est'],t_time['Temperature_C'])\n",
        "plt.figure(figsize=[15,5])\n",
        "plt.show()"
      ],
      "metadata": {
        "colab": {
          "base_uri": "https://localhost:8080/",
          "height": 375
        },
        "id": "3e58ohCPL9z0",
        "outputId": "ba65639d-29ba-4940-9095-ac51274fda3a"
      },
      "execution_count": null,
      "outputs": [
        {
          "output_type": "display_data",
          "data": {
            "text/plain": [
              "<Figure size 2000x500 with 1 Axes>"
            ],
            "image/png": "[encoded data removed]"
          },
          "metadata": {}
        },
        {
          "output_type": "display_data",
          "data": {
            "text/plain": [
              "<Figure size 1500x500 with 0 Axes>"
            ]
          },
          "metadata": {}
        }
      ]
    },
    {
      "cell_type": "markdown",
      "metadata": {
        "id": "jq6sZbij4n5g"
      },
      "source": [
        "### Question 5:\n",
        "* Visualize the lon lat data on a map to show how the case traveled.  You may incorporate any other additional information to make this more impactful. Imagine that this would be included in your presentation to the customer. (Non techical audience) (5 pts)\n",
        "\n",
        "**Do not worry if this looks like non-sense on a map.  Ex:  The trip may appear to occur over water or in a forest because this is a toy dataset.**"
      ]
    },
    {
      "cell_type": "code",
      "execution_count": null,
      "metadata": {
        "id": "cD0gjZV-mkGV"
      },
      "outputs": [],
      "source": [
        "import plotly.express as px"
      ]
    },
    {
      "cell_type": "code",
      "source": [
        "fig = px.scatter_mapbox(case_52, lat='lat', lon='lng',\n",
        "                        mapbox_style='open-street-map', zoom = 3.8, title='California Housing - Map Visualization')\n",
        "fig.update_layout(autosize=True)\n",
        "fig.show()"
      ],
      "metadata": {
        "colab": {
          "base_uri": "https://localhost:8080/",
          "height": 542
        },
        "id": "PlbRVaFPVxKM",
        "outputId": "00f4f240-6a02-4c57-b00c-d6ce42d75d4b"
      },
      "execution_count": null,
      "outputs": [
        {
          "output_type": "display_data",
          "data": {
            "text/html": [
              "<html>\n",
              "<head><meta charset=\"utf-8\" /></head>\n",
              "<body>\n",
              "    <div>            <script src=\"https://cdnjs.cloudflare.com/ajax/libs/mathjax/2.7.5/MathJax.js?config=TeX-AMS-MML_SVG\"></script><script type=\"text/javascript\">if (window.MathJax && window.MathJax.Hub && window.MathJax.Hub.Config) {window.MathJax.Hub.Config({SVG: {font: \"STIX-Web\"}});}</script>                <script type=\"text/javascript\">window.PlotlyConfig = {MathJaxConfig: 'local'};</script>\n",
              "        <script src=\"https://cdn.plot.ly/plotly-2.18.2.min.js\"></script>                <div id=\"091e9ee9-35c0-4fdd-b288-69c7b68553e8\" class=\"plotly-graph-div\" style=\"height:525px; width:100%;\"></div>            <script type=\"text/javascript\">                                    window.PLOTLYENV=window.PLOTLYENV || {};                                    if (document.getElementById(\"091e9ee9-35c0-4fdd-b288-69c7b68553e8\")) {                    Plotly.newPlot(                        \"091e9ee9-35c0-4fdd-b288-69c7b68553e8\",                        [{\"hovertemplate\":\"lat=%{lat}<br>lng=%{lon}<extra></extra>\",\"lat\":[47.7915799999999,47.79291,47.7915799999999,47.793,47.7915799999999,47.7915799999999,47.7936599999999,47.7936599999999,47.7936599999999,47.7936599999999,47.7936599999999,47.7936599999999,47.7936599999999,47.7936599999999,47.7936599999999,47.7936599999999,47.7936599999999,47.7936599999999,47.7936599999999,47.7936599999999,47.7936599999999,47.7936599999999,47.7936599999999,47.7936599999999,47.7936599999999,47.7936599999999,47.7936599999999,47.7936599999999,47.7936599999999,47.7936599999999,47.7936599999999,47.7936599999999,47.7936599999999,47.7936599999999,47.7936599999999,47.7936599999999,47.7936599999999,47.7936599999999,47.7936599999999,47.7936599999999,47.7936599999999,47.7936599999999,47.7936599999999,47.7936599999999,47.7936599999999,47.7936599999999,47.7936599999999,47.7936599999999,47.7936599999999,47.7936599999999,47.7936599999999,47.7936599999999,47.7936599999999,47.7936599999999,47.7936599999999,47.7936599999999,47.7936599999999,47.7936599999999,47.7936599999999,47.7936599999999,47.7936599999999,47.7936599999999,47.7936599999999,47.7936599999999,47.7936599999999,47.7936599999999,47.7936599999999,47.7936599999999,47.7936599999999,47.7936599999999,47.7942599999999,47.7936599999999,47.7936599999999,47.7936599999999,47.7947,47.7944599999999,47.7943,47.79441,47.79456,47.79463,47.7936599999999,47.7936599999999,47.7936599999999,47.79468,47.7945099999999,47.7936599999999,47.7936599999999,47.7936599999999,47.7936599999999,47.7936599999999,47.7936599999999,47.7936599999999,47.7936599999999,47.7936599999999,47.7936599999999,47.7936599999999,47.7936599999999,47.7936599999999,47.7936599999999,47.7936599999999,47.7936599999999,47.7936599999999,47.7936599999999,47.7936599999999,47.7936599999999,47.7936599999999,47.7936599999999,47.7936599999999,47.7936599999999,47.7936599999999,47.7936599999999,47.7936599999999,47.7936599999999,47.7936599999999,47.7936599999999,47.7936599999999,47.7936599999999,47.7936599999999,47.7941699999999,47.79419,47.7941699999999,47.79531,47.7940599999999,47.7941699999999,47.7941699999999,47.7936599999999,47.7936599999999,47.7936599999999,47.7936599999999,47.7936599999999,47.7936599999999,47.7936599999999,47.7936599999999,47.7936599999999,47.7936599999999,47.7936599999999,47.7936599999999,47.7936599999999,47.7936599999999,47.7936599999999,47.7936599999999,47.7936599999999,47.7936599999999,47.7936599999999,47.7936599999999,47.7936599999999,47.7936599999999,47.7936599999999,47.7936599999999,47.7936599999999,47.7936599999999,47.7936599999999,47.7936599999999,47.7936599999999,47.7936599999999,47.7936599999999,47.7936599999999,47.7936599999999,47.7936599999999,47.7936599999999,47.7936599999999,47.7936599999999,47.7936599999999,47.7936599999999,47.7936599999999,47.79434,47.7936599999999,47.7936599999999,47.7936599999999,47.7936599999999,47.7936599999999,47.7936599999999,47.7936599999999,47.7936599999999,47.7936599999999,47.7936599999999,47.7936599999999,47.7936599999999,47.7936599999999,47.7936599999999,47.7936599999999,47.7936599999999,47.7936599999999,47.7936599999999,47.7936599999999,47.7936599999999,47.7936599999999,47.7936599999999,47.7936599999999,47.7936599999999,47.7936599999999,47.7936599999999,47.7936599999999,47.7936599999999,47.7936599999999,47.7936599999999,47.7936599999999,47.7936599999999,47.7936599999999,47.79428,47.7936599999999,47.7943,47.7936599999999,47.7936599999999,47.7936599999999,47.7936599999999,47.7936599999999,47.7936599999999,47.7936599999999,47.7936599999999,47.7936599999999,47.7936599999999,47.7936599999999,47.7936599999999,47.7936599999999,47.7936599999999,47.7936599999999,47.7936599999999,47.7936599999999,47.7936599999999,47.7936599999999,47.7936599999999,47.7936599999999,47.7936599999999,47.7936599999999,47.7936599999999,47.7936599999999,47.7936599999999,47.7936599999999,47.7936599999999,47.7936599999999,47.7936599999999,47.7936599999999,47.7936599999999,47.7936599999999,47.7936599999999,47.7936599999999,47.7936599999999,47.7936599999999,47.7936599999999,47.7936599999999,47.79441,47.7936599999999,47.7936599999999,47.7943999999999,47.79438,47.79475,47.7944599999999,47.79479,47.79425,47.79432,47.7943,47.7942199999999,47.79429,47.79461,47.79492,47.7936599999999,47.7936599999999,47.7936599999999,47.7936599999999,47.7936599999999,47.7936599999999,47.7936599999999,47.7936599999999,47.7936599999999,47.7941699999999,47.7936599999999,47.7936599999999,47.7936599999999,47.7936599999999,47.7936599999999,47.7936599999999,47.7936599999999,47.7936599999999,47.7936599999999,47.7936599999999,47.7936599999999,47.7936599999999,47.7936599999999,47.7936599999999,47.7936599999999,47.7936599999999,47.7936599999999,47.7936599999999,47.7936599999999,47.7936599999999,47.7936599999999,47.7936599999999,47.7936599999999,47.7936599999999,47.7936599999999,47.7936599999999,47.7936599999999,47.7936599999999,47.7936599999999,47.7936599999999,47.7936599999999,47.7936599999999,47.7936599999999,47.7936599999999,47.7936599999999,47.7936599999999,47.7936599999999,47.7936599999999,47.7936599999999,47.7936599999999,47.7936599999999,47.7936599999999,47.7936599999999,47.7936599999999,47.7936599999999,47.7936599999999,47.7936599999999,47.7936599999999,47.7936599999999,47.7936599999999,47.7936599999999,47.7936599999999,47.7936599999999,47.7936599999999,47.7936599999999,47.7936599999999,47.7936599999999,47.7936599999999,47.7936599999999,47.7936599999999,47.7936599999999,47.7936599999999,47.7936599999999,47.7936599999999,47.7936599999999,47.7936599999999,47.7936599999999,47.7936599999999,47.7936599999999,47.7936599999999,47.7936599999999,47.7936599999999,47.7936599999999,47.7936599999999,47.7936599999999,47.7936599999999,47.7936599999999,47.7936599999999,47.7936599999999,47.7936599999999,47.7936599999999,47.7936599999999,47.7936599999999,47.7936599999999,47.7936599999999,47.7936599999999,47.7936599999999,47.7936599999999,47.7936599999999,47.7936599999999,47.7936599999999,47.7936599999999,47.7936599999999,47.7936599999999,47.7936599999999,47.7936599999999,47.7936599999999,47.7936599999999,47.7936599999999,47.7936599999999,47.7936599999999,47.7936599999999,47.7936599999999,47.7936599999999,47.7936599999999,47.7936599999999,47.7936599999999,47.7936599999999,47.7936599999999,47.7936599999999,47.7936599999999,47.7936599999999,47.7936599999999,47.7936599999999,47.7936599999999,47.7936599999999,47.7936599999999,47.7936599999999,47.7936599999999,47.7936599999999,47.7936599999999,47.7936599999999,47.7936599999999,47.7936599999999,47.7936599999999,47.7936599999999,47.7936599999999,47.7936599999999,47.7936599999999,47.79485,47.7936599999999,47.7936599999999,47.7936599999999,47.79429,47.7936599999999,47.7936599999999,47.7936599999999,47.7936599999999,47.7936599999999,47.7936599999999,47.7936599999999,47.7936599999999,47.7936599999999,47.7936599999999,47.7936599999999,47.7936599999999,47.7936599999999,47.7936599999999,47.7936599999999,47.7936599999999,47.7936599999999,47.7936599999999,47.7936599999999,47.7936599999999,47.7936599999999,47.7936599999999,47.7936599999999,47.7936599999999,47.7936599999999,47.7936599999999,47.7936599999999,47.7936599999999,47.7936599999999,47.7936599999999,47.7936599999999,47.7936599999999,47.7936599999999,47.7936599999999,47.7936599999999,47.7936599999999,47.7936599999999,47.7936599999999,47.7936599999999,47.7936599999999,47.7936599999999,47.7936599999999,47.7946399999999,47.79457,47.79454,47.79423,47.7942599999999,47.7942399999999,47.79432,47.79479,47.79434,47.79437,47.79428,47.7943999999999,47.79429,47.79421,47.7947999999999,47.79421,47.79429,47.79423,47.79427,47.7944199999999,47.79438,47.79427,47.79513,47.79443,47.7948199999999,47.79492,47.79447,47.79432,47.79436,47.74923,47.74923,47.74923,47.74923,47.74923,47.74923,47.74923,47.74923,47.74923,47.74923,47.74923,47.74923,47.74915,47.74923,47.74923,47.74923,47.74919,47.74923,47.74923,47.74923,47.74923,47.74923,47.74923,47.74923,47.74923,47.74923,47.74923,47.74923,47.74923,47.74923,47.74923,47.74923,47.74923,47.74923,47.74923,47.74923,47.74923,47.74923,47.74923,47.74923,47.74923,47.74923,47.74923,47.74923,47.74923,47.74923,47.7490699999999,47.74923,47.74923,47.74923,47.74923,47.74923,47.74923,47.74923,47.74923,47.74923,47.74923,47.74923,47.74923,47.74923,47.74923,47.74923,47.74923,47.74923,47.74923,47.74923,47.74923,47.74923,47.74923,47.74923,47.74923,47.74923,47.74923,47.74923,47.74923,47.74923,47.74923,47.74923,47.74923,47.74923,47.74923,47.74923,47.74923,47.74923,47.74923,47.74923,47.74923,47.74923,47.74923,47.74923,47.74923,47.74923,47.74923,47.74923,47.74923,47.74923,47.74923,47.74923,47.74923,47.74923,47.74923,47.74923,47.74923,47.74923,47.74923,47.74923,47.74923,47.74923,47.74923,47.74923,47.74923,47.74923,47.74923,47.74923,47.74923,47.74923,47.74923,47.74923,47.74923,47.74923,47.74923,47.74923,47.74923,47.74923,47.74923,47.74923,47.74923,47.74923,47.74923,47.74923,47.74923,47.74923,47.74923,47.74923,47.74923,47.74923,47.74923,47.74923,47.74923,47.74923,47.74923,47.74923,47.74923,47.74923,47.74923,47.74923,47.74923,47.74923,47.74923,47.74923,47.74923,47.74923,47.74923,47.74923,47.74923,47.74923,47.74923,47.74923,47.74923,47.74923,47.74923,47.74923,47.74923,47.74923,47.74923,47.74923,47.74923,47.74923,47.74923,47.74923,47.74923,47.74923,47.74923,47.74923,47.74923,47.74923,47.74923,47.74923,47.74923,47.74923,47.74923,47.74923,47.74923,47.74923,47.74923,47.74923,47.74923,47.74923,47.74923,47.74923,47.74923,47.74923,47.74923,47.74923,47.74923,47.74923,47.74923,47.74923,47.74923,47.74923,47.74923,47.74923,47.74923,47.74923,47.74923,47.74923,47.74923,47.74923,47.74923,47.74923,47.74923,47.74923,47.74923,47.74923,47.74923,47.74923,47.74923,47.74923,47.74923,47.74923,47.74923,47.74923,47.74923,47.74923,47.74923,47.74923,47.74923,47.74923,47.74923,47.74923,47.74923,47.74923,47.74923,47.74923,47.74923,47.74923,47.74923,47.74923,47.74923,47.74923,47.74923,47.74923,47.74923,47.74923,47.74923,47.74923,47.74923,47.74923,47.74923,47.74923,47.74923,47.74923,47.74923,47.74923,47.74923,47.74923,47.74923,47.74923,47.74923,47.74923,47.74923,47.74923,47.74923,47.74923,47.74923,47.74923,47.74923,47.74923,47.74923,47.74923,47.74923,47.74923,47.74923,47.74923,47.74923,47.74923,47.74923,47.74923,47.74923,47.74923,47.74923,47.74923,47.74923,47.74923,47.74923,47.74923,47.74923,47.74923,47.74923,47.74923,47.74923,47.74923,47.74923,47.74923,47.74923,47.74923,47.74923,47.74923,47.74923,47.74923,47.74923,47.74923,47.74923,47.74923,47.74923,47.74923,47.74923,47.74923,47.74923,47.74923,47.74923,47.74923,47.74923,47.74923,47.74923,47.74923,47.74923,47.74923,47.74923,47.74923,47.74923,47.74923,47.74923,47.74923,47.74923,47.74923,47.74923,47.74923,47.74923,47.74923,47.74923,47.74923,47.74923,47.74923,47.74923,47.74923,47.74923,47.74923,47.74923,47.74923,47.74923,47.74923,47.74923,47.74923,47.74923,47.74923,47.74923,47.74923,47.74923,47.74923,47.74923,47.74923,47.74923,47.74923,47.74923,47.74923,47.74923,47.74923,47.74923,47.74923,47.74923,47.74923,47.74923,47.74923,47.74923,47.74923,47.74923,47.74923,47.74923,47.74923,47.74923,47.74923,47.74923,47.74923,47.74923,47.74923,47.74923,47.74923,47.74923,47.74923,47.74923,47.74923,47.74923,47.74923,47.74923,47.74923,47.74923,47.74923,47.74923,47.74923,47.74923,47.74923,47.74923,47.74923,47.74923,47.74923,47.74923,47.74923,47.74923,47.74923,47.74923,47.74923,47.74923,47.74923,47.74923,47.74923,47.74923,47.74923,47.74923,47.74923,47.74923,47.74923,47.74923,47.74923,47.74923,47.74923,47.74923,47.74923,47.74923,47.74923,47.74923,47.74923,47.74923,47.74923,47.74923,47.74923,47.74923,47.74923,47.74923,47.74923,47.74923,47.74923,47.74923,47.74923,47.74923,47.74923,47.74923,47.74923,47.74923,47.74923,47.74923,47.74923,47.74923,47.74923,47.74923,47.74923,47.74923,47.74923,47.74923,47.74923,47.74923,47.74923,47.74923,47.74923,47.74923,47.74923,47.74923,47.74923,47.74923,47.74923,47.74923,47.74923,47.74923,47.74923,47.74923,47.74923,47.74923,47.74923,47.74923,47.74923,47.74923,47.74923,47.74923,47.74923,47.74923,47.74923,47.74923,47.74923,47.74923,47.74923,47.74923,47.74923,47.74923,47.74923,47.74923,47.74923,47.74923,47.74923,47.74923,47.74923,47.74923,47.74923,47.74923,47.74923,47.74923,47.74923,47.74923,47.74923,47.74923,47.74923,47.74923,47.74923,47.74923,47.74923,47.74923,47.74923,47.74923,47.74923,47.74923,47.74923,47.74923,47.74923,47.74923,47.74923,47.74923,47.74923,47.74923,47.74923,47.74923,47.74923,47.74923,47.74923,47.74923,47.74923,47.74923,47.74923,47.74923,47.74923,47.74923,47.74923,47.74923,47.74923,47.74923,47.74923,47.74923,47.74923,47.74923,47.74923,47.74923,47.74923,47.74923,47.74923,47.74923,47.74923,47.74923,47.74923,47.74923,47.74923,47.74923,47.74923,47.74923,47.74923,47.74923,47.74923,47.74923,47.74923,47.74923,47.74923,47.74923,47.74923,47.74923,47.74923,47.74923,47.74923,47.74923,47.74923,47.74923,47.74923,47.74923,47.74923,47.74923,47.74923,47.74923,47.74923,47.74923,47.74923,47.74923,47.74923,47.74923,47.74923,47.74923,47.74923,47.74923,47.74923,47.74923,47.74923,47.74923,47.74923,47.74923,47.74923,47.74923,47.74923,47.74923,47.74923,47.74923,47.74923,47.74923,47.74923,47.74923,47.74923,47.74923,47.74923,47.74923,47.74923,47.74923,47.74923,47.74923,47.74923,47.74923,47.74923,47.74923,47.74923,47.74923,47.74923,47.74923,47.74923,47.74923,47.74923,47.74923,47.74923,47.74923,47.74923,47.74923,47.74923,47.74923,47.74923,47.74923,47.74923,47.74923,47.74923,47.74923,47.74923,47.74923,47.74923,47.74923,47.74923,47.74923,47.74923,47.74923,47.74923,47.74923,47.74923,47.74923,47.74923,47.74923,47.74923,47.74923,47.74923,47.74923,47.74923,47.74923,47.74923,47.74923,47.74923,47.74923,47.74923,47.74923,47.74923,47.74923,47.74923,47.74923,47.74923,47.74923,47.74923,47.74923,47.74923,47.74923,47.74923,47.74923,47.74923,47.74923,47.74923,47.74923,47.74923,47.74923,47.74923,47.74923,47.74923,47.74923,47.74923,47.74923,47.74923,47.74923,47.74923,47.74923,47.74923,47.74923,47.74923,47.74923,47.74923,47.74923,47.74923,47.74923,47.74923,47.74923,47.74923,47.74923,47.74923,47.74923,47.74923,47.74923,47.74923,47.74923,47.74923,47.74923,47.74923,47.74923,47.74923,47.74923,47.74923,47.74923,47.74923,47.74923,47.74923,47.74923,47.74923,47.74923,47.74923,47.74923,47.74923,47.74923,47.74923,47.74923,47.74923,47.74923,47.74923,47.74923,47.74923,47.74923,47.74923,47.74923,47.74923,47.74923,47.74923,47.74923,47.74923,47.74923,47.74923,47.74923,47.74923,47.74923,47.74923,47.74923,47.74923,47.74923,47.74923,47.74923,47.74923,47.74923,47.74923,47.74923,47.74923,47.74923,47.74923,47.74923,47.74923,47.74923,47.74923,47.74923,47.74923,47.74923,47.74923,47.74923,47.74923,47.74923,47.74923,47.74923,47.74923,47.74923,47.74923,47.74923,47.74923,47.74923,47.74923,47.74923,47.74923,47.74923,47.74923,47.74923,47.74923,47.74923,47.74923,47.74923,47.74923,47.74923,47.74923,47.74923,47.74923,47.74923,47.74923,47.74923,47.74923,47.74923,47.74923,47.74923,47.74923,47.74923,47.74923,47.74923,47.74923,47.74923,47.74923,47.74923,47.74923,47.74923,47.74923,47.74923,47.74923,47.74923,47.74923,47.74923,47.74923,47.74923,47.74923,47.74923,47.74923,47.74923,47.74923,47.74923,47.74923,47.74923,47.74923,47.74923,47.74923,47.74923,47.74923,47.74923,47.74923,47.74923,47.74923,47.74923,47.74923,47.74923,47.74923,47.74923,47.74923,47.74923,47.74923,47.74923,47.74923,47.74923,47.74923,47.74923,47.74923,47.74923,47.74923,47.74923,47.74923,47.74923,47.74923,47.74923,47.74923,47.74923,47.74923,47.74923,47.74923,47.74923,47.74923,47.74923,47.74923,47.74923,47.74923,47.74923,47.74923,47.74923,47.74923,47.74923,47.74923,47.74923,47.74923,47.7493884999999,47.74923,47.74923,47.74923,47.74923,47.74923,47.74923,47.74923,47.74923,47.74923,47.74923,47.74923,47.74923,47.74923,47.74923,47.74923,47.74923,47.74923,47.74923,47.74923,47.74923,47.74923,47.74923,47.74923,47.74923,47.74923,47.74923,47.74923,47.74923,47.74923,47.74923,47.74923,47.74923,47.74923,47.74923,47.74923,47.74923,47.74923,47.74923,47.74923,47.74923,47.74923,47.74923,47.74923,47.74923,47.74923,47.74923,47.74923,47.74923,47.74923,47.74923,47.74923,47.74923,47.74923,47.74923,47.74923,47.74923,47.74923,47.74923,47.74923,47.74923,47.74923,47.74923,47.74923,47.74923,47.74923,47.74923,47.74923,47.74923,47.74923,47.74923,47.74923,47.74923,47.74923,47.74923,47.74923,47.74923,47.74923,47.74923,47.74923,47.74923,47.74923,47.74923,47.74923,47.74923,47.74923,47.74923,47.74923,47.74923,47.74923,47.74923,47.74923,47.74923,47.74923,47.74923,47.74923,47.74923,47.74923,47.74923,47.74923,47.74923,47.74923,47.74923,47.74923,47.74923,47.74923,47.74923,47.74923,47.74923,47.74923,47.74923,47.74923,47.74923,47.74923,47.74923,47.74923,47.74923,47.74923,47.74923,47.74923,47.74923,47.74923,47.74923,47.74923,47.74923,47.74923,47.74923,47.74923,47.74923,47.74923,47.74923,47.74923,47.74923,47.74923,47.74923,47.74923,47.74923,47.74923,47.74923,47.74923,47.74923,47.74923,47.74923,47.74923,47.74923,47.74923,47.74923,47.74923,47.74923,47.74923,47.74923,47.74923,47.74923,47.74923,47.74923,47.74923,47.74923,47.74923,47.74923,47.74923,47.74923,47.74923,47.74923,47.74923,47.74923,47.74923,47.74923,47.74923,47.74923,47.74923,47.74923,47.74923,47.74923,47.74923,47.74923,47.74923,47.74923,47.74923,47.74923,47.74923,47.74923,47.74923,47.74923,47.74923,47.74923,47.74923,47.74923,47.74923,47.74923,47.74923,47.74923,47.74923,47.74923,47.74923,47.74923,47.74923,47.74923,47.74923,47.74923,47.74923,47.74923,47.74923,47.74923,47.74923,47.74923,47.74923,47.74923,47.74923,47.74923,47.74923,47.74923,47.74923,47.74923,47.74923,47.74923,47.74923,47.74923,47.74923,47.74923,47.74923,47.74923,47.74923,47.74923,47.74923,47.74923,47.74923,47.74923,47.74923,47.74923,47.74923,47.74923,47.74923,47.74923,47.74923,47.74923,47.74923,47.74923,47.74923,47.74923,47.74923,47.74923,47.74923,47.74923,47.74923,47.74923,47.74923,47.74923,47.74923,47.74923,47.74923,47.74923,47.74923,47.74923,47.74923,47.74923,47.74923,47.74923,47.74923,47.74923,47.74923,47.74923,47.74923,47.74923,47.74923,47.74923,47.74923,47.74923,47.74923,47.74923,47.74923,47.74923,47.74923,47.74923,47.74923,47.74923,47.74923,47.74923,47.74923,47.74923,47.74923,47.74923,47.74923,47.74923,47.74923,47.74923,47.74923,47.74923,47.74923,47.74923,47.74923,47.74923,47.74923,47.74923,47.74923,47.74923,47.74923,47.74923,47.74923,47.74923,47.74923,47.74923,47.74923,47.74923,47.74923,47.74923,47.74923,47.74923,47.74923,47.74923,47.74923,47.74923,47.74923,47.74923,47.74923,47.74923,47.74923,47.74923,47.74923,47.74923,47.74923,47.74923,47.74923,47.74923,47.74923,47.74923,47.74923,47.74923,47.74923,47.74923,47.74923,47.74923,47.74923,47.74923,47.74923,47.74923,47.74923,47.74923,47.74923,47.74923,47.74923,47.74923,47.74923,47.74923,47.74923,47.74923,47.74923,47.74923,47.74923,47.74923,47.74923,47.74923,47.74923,47.74923,47.74923,47.74923,47.74923,47.74923,47.74923,47.74923,47.74923,47.74923,47.74923,47.74923,47.74923,47.74923,47.74923,47.74923,47.74923,47.74923,47.74923,47.74923,47.74923,47.74923,47.74923,47.74923,47.74923,47.74923,47.74923,47.74923,47.74923,47.74923,47.74923,47.74923,47.74923,47.74923,47.74923,47.74923,47.74923,47.74923,47.7493884999999,47.74923,47.74923,47.7493884999999,47.74923,47.74923,47.74923,47.74923,47.74923,47.74923,47.74923,47.74923,47.7493884999999,47.74923,47.74923,47.74923,47.74923,47.74923,47.74923,47.74923,47.74923,47.74923,47.7493884999999,47.74923,47.74923,47.74923,47.74923,47.74923,47.74923,47.74923,47.74923,47.74923,47.74923,47.74923,47.74923,47.74923,47.74923,47.74923,47.74923,47.74923,47.74923,47.74923,47.7493884999999,47.74923,47.74923,47.74923,47.7493884999999,47.74923,47.74923,47.74923,47.74923,47.74923,47.74923,47.74923,47.74923,47.74923,47.74923,47.74923,47.74923,47.74923,47.74923,47.74923,47.74923,47.74923,47.74923,47.74923,47.74923,47.74923,47.74923,47.74923,47.74923,47.74923,47.7493884999999,47.74923,47.74923,47.74923,47.7493884999999,47.74923,47.7493884999999,47.74923,47.74923,47.74923,47.74923,47.74923,47.74923,47.74923,47.74923,47.74923,47.74923,47.74923,47.74923,47.74923,47.74923,47.74923,47.74923,47.74923,47.74923,47.74923,47.74923,47.74923,47.74923,47.74923,47.74923,47.74923,47.74923,47.74923,47.74923,47.74923,47.74923,47.74923,47.74923,47.74923,47.74923,47.74923,47.74923,47.74923,47.74923,47.74923,47.74923,47.74923,47.74923,47.74923,47.74923,47.74923,47.74923,47.74923,47.74923,47.74923,47.74923,47.74923,47.74923,47.74923,47.74923,47.74923,47.74923,47.74923,47.74923,47.74923,47.74923,47.74923,47.74923,47.74923,47.74923,47.74923,47.74923,47.74923,47.74923,47.74923,47.74923,47.74923,47.74923,47.74923,47.74923,47.74923,47.74923,47.74923,47.74923,47.74923,47.74923,47.74923,47.74923,47.74923,47.74923,47.74923,47.74923,47.74923,47.74923,47.74923,47.74923,47.74923,47.74923,47.74923,47.74923,47.74923,47.74923,47.74923,47.74923,47.74923,47.74923,47.74923,47.74923,47.74923,47.74923,47.74923,47.74923,47.74923,47.74923,47.74923,47.74923,47.74923,47.74923,47.74923,47.74923,47.74923,47.74923,47.74923,47.74923,47.7493884999999,47.74923,47.74923,47.74923,47.74923,47.74923,47.74923,47.74923,47.74923,47.7493884999999,47.74923,47.74923,47.74923,47.74923,47.74923,47.74923,47.74923,47.74923,47.74923,47.74923,47.74923,47.74923,47.74923,47.74923,47.74923,47.74923,47.74923,47.74923,47.74923,47.74923,47.74923,47.74923,47.74923,47.74923,47.74923,47.74923,47.74923,47.74923,47.74923,47.74923,47.74923,47.74923,47.74923,47.74923,47.74923,47.74923,47.74923,47.74923,47.7493884999999,47.74923,47.74923,47.74923,47.74923,47.74923,47.74923,47.74923,47.74923,47.7493884999999,47.74923,47.74923,47.74923,47.74923,47.74923,47.74923,47.74923,47.74923,47.74923,47.74923,47.74923,47.74923,47.74923,47.74923,47.74923,47.74923,47.74923,47.74923,47.74923,47.74923,47.74923,47.74923,47.74923,47.74923,47.74923,47.74923,47.74923,47.74923,47.74923,47.74923,47.74923,47.74923,47.74923,47.74923,47.74923,47.74923,47.74923,47.74923,47.74923,47.74923,47.74923,47.74923,47.74923,47.74923,47.74923,47.74923,47.74923,47.74923,47.74923,47.74923,47.74923,47.74923,47.74923,47.74923,47.74923,47.74923,47.74923,47.74923,47.74923,47.74923,47.74923,47.74923,47.74923,47.74923,47.74923,47.74923,47.74923,47.74923,47.74923,47.74923,47.74923,47.74923,47.74923,47.74923,47.74923,47.74923,47.74923,47.74923,47.74923,47.74923,47.74923,47.74923,47.74923,47.74923,47.74923,47.74923,47.74923,47.74923,47.74923,47.74923,47.74923,47.74923,47.74923,47.74923,47.74923,47.74923,47.74923,47.74923,47.74923,47.74923,47.74923,47.74923,47.74923,47.74923,47.74923,47.74923,47.74923,47.74923,47.74923,47.74923,47.74923,47.74923,47.74923,47.74923,47.74923,47.74923,47.74923,47.74923,47.74923,47.74923,47.74923,47.74923,47.74923,47.74923,47.74923,47.74923,47.74923,47.74923,47.74923,47.74923,47.74923,47.74923,47.74923,47.74923,47.74923,47.74923,47.74923,47.74923,47.74923,47.74923,47.74923,47.74923,47.74923,47.74923,47.74923,47.74923,47.74923,47.74923,47.74923,47.74923,47.74923,47.74923,47.74923,47.74923,47.74923,47.74923,47.74923,47.74923,47.74923,47.74923,47.74923,47.74923,47.74923,47.74923,47.74923,47.74923,47.74923,47.74923,47.74923,47.74923,47.74923,47.74923,47.74923,47.74923,47.74923,47.74923,47.74923,47.74923,47.74923,47.74923,47.74923,47.74923,47.74923,47.74923,47.74923,47.74923,47.74923,47.74923,47.74923,47.74923,47.74923,47.74923,47.74923,47.74923,47.74923,47.74923,47.74923,47.74923,47.7493884999999,47.74923,47.74923,47.74923,47.74923,47.74923,47.74923,47.74923,47.74923,47.74923,47.74923,47.74923,47.74923,47.74923,47.74923,47.74923,47.74923,47.74923,47.74923,47.74923,47.74923,47.74923,47.74923,47.74923,47.74923,47.74923,47.74923,47.74923,47.74923,47.74923,47.74923,47.7493884999999,47.74923,47.74923,47.74923,47.74923,47.74923,47.74923,47.74923,47.74923,47.74923,47.74923,47.74923,47.74923,47.74923,47.74923,47.74923,47.74923,47.74923,47.74923,47.74923,47.74923,47.74923,47.74923,47.74923,47.74923,47.74923,47.74923,47.74923,47.74923,47.74923,47.74923,47.74923,47.74923,47.74923,47.74923,47.74923,47.74923,47.74923,47.74923,47.74923,47.74923,47.74923,47.74923,47.74923,47.74923,47.74923,47.74923,47.74923,47.74923,47.74923,47.74923,47.74923,47.74923,47.74923,47.74923,47.74923,47.74923,47.74923,47.74923,47.74923,47.74923,47.74923,47.74923,47.74923,47.74923,47.74923,47.74923,47.74923,47.74923,47.74923,47.74923,47.74923,47.74923,47.74923,47.74923,47.74923,47.74923,47.7493884999999,47.74923,47.74923,47.74923,47.74923,47.74923,47.74923,47.74923,47.74923,47.74923,47.74923,47.74923,47.74923,47.7493884999999,47.7493884999999,47.74923,47.74923,47.74923,47.74923,47.74923,47.7493884999999,47.74923,47.74923,47.7493884999999,47.74923,47.74923,47.74923,47.74923,47.74923,47.74923,47.74923,47.74923,47.74923,47.74923,47.74923,47.74923,47.74923,47.74923,47.74923,47.74923,47.74923,47.74923,47.74923,47.74923,47.74923,47.74923,47.74923,47.74923,47.74923,47.74923,47.74923,47.74923,47.74923,47.74923,47.74923,47.74923,47.74923,47.74923,47.74923,47.74923,47.74923,47.74923,47.74923,47.74923,47.74923,47.74923,47.74923,47.74923,47.74923,47.74923,47.74923,47.74923,47.74923,47.74923,47.74923,47.74923,47.74923,47.74923,47.74923,47.74923,47.74923,47.74923,47.74923,47.74923,47.74923,47.74923,47.74923,47.74923,47.74923,47.74923,47.74923,47.74923,47.74923,47.74923,47.74923,47.74923,47.74923,47.74923,47.74923,47.74923,47.74923,47.74923,47.74923,47.74923,47.74923,47.74923,47.74923,47.74923,47.74923,47.74923,47.74923,47.74923,47.74923,47.74923,47.74923,47.74923,47.74923,47.74923,47.74923,47.74923,47.74923,47.74923,47.74923,47.74923,47.74923,47.74923,47.74923,47.74923,47.74923,47.74923,47.74923,47.74923,47.74923,47.74923,47.74923,47.74923,47.74923,47.74923,47.74923,47.74923,47.7493884999999,47.74923,47.74923,47.74923,47.74923,47.74923,47.74923,47.74923,47.74923,47.74923,47.74923,47.74923,47.74923,47.74923,47.74923,47.74923,47.74923,47.74923,47.74923,47.74923,47.74923,47.74923,47.74923,47.74923,47.7493884999999,47.74923,47.74923,47.74923,47.74923,47.74923,47.74923,47.74923,47.74923,47.74923,47.74923,47.74923,47.74923,47.74923,47.74923,47.74923,47.74923,47.74923,47.74923,47.74923,47.74923,47.74923,47.74923,47.74923,47.74923,47.74923,47.74923,47.74923,47.74923,47.74923,47.74923,47.74923,47.74923,47.74923,47.74923,47.7493884999999,47.74923,47.74923,47.74923,47.74923,47.74923,47.74923,47.74923,47.74923,47.74923,47.74923,47.74923,47.74923,47.74923,47.74923,47.74923,47.74923,47.74923,47.74923,47.74923,47.74923,47.74923,47.74923,47.74923,47.74923,47.74923,47.74923,47.74923,47.74923,47.74923,47.74923,47.74923,47.74923,47.74923,47.74923,47.74923,47.74923,47.74923,47.74923,47.74923,47.74923,47.74923,47.74923,47.74923,47.74923,47.74923,47.74923,47.74923,47.74923,47.74923,47.74923,47.74923,47.74923,47.74923,47.74923,47.74923,47.74923,47.74923,47.74923,47.74923,47.74923,47.74923,47.74923,47.74923,47.74923,47.74923,47.74923,47.74923,47.74923,47.74923,47.74923,47.74923,47.74923,47.74923,47.74923,47.74923,47.74923,47.74923,47.74923,47.74923,47.74923,47.7493884999999,47.74923,47.74923,47.74923,47.74923,47.74923,47.74923,47.74923,47.74923,47.74923,47.74923,47.74923,47.74923,47.74923,47.74923,47.74923,47.74923,47.74923,47.74923,47.74923,47.74923,47.74923,47.74923,47.74923,47.74923,47.74923,47.74923,47.74923,47.74923,47.74923,47.74923,47.74923,47.74923,47.74923,47.74923,47.74923,47.74923,47.74923,47.74923,47.74923,47.74923,47.74923,47.74923,47.74923,47.74923,47.74923,47.74923,47.74923,47.74923,47.74923,47.74923,47.74923,47.74923,47.74923,47.74923,47.74923,47.74923,47.74923,47.74923,47.74923,47.74923,47.7493884999999,47.74923,47.74923,47.74923,47.74923,47.74923,47.74923,47.74923,47.74923,47.74923,47.74923,47.74923,47.74923,47.74923,47.74923,47.74923,47.74923,47.74923,47.74923,47.74923,47.74923,47.74923,47.74923,47.74923,47.74923,47.74923,47.74923,47.74923,47.74923,47.74923,47.74923,47.74923,47.74923,47.74923,47.74923,47.74923,47.74923,47.74923,47.74923,47.74923,47.74923,47.74923,47.74923,47.74923,47.74923,47.74923,47.74923,47.74923,47.74923,47.74923,47.74923,47.74923,47.74923,47.74923,47.74923,47.74923,47.74923,47.74923,47.74923,47.74923,47.74923,47.74923,47.74923,47.74923,47.74923,47.74923,47.74923,47.74923,47.74923,47.74923,47.74923,47.74923,47.74923,47.74923,47.74923,47.74923,47.74923,47.74923,47.74923,47.74923,47.74923,47.74923,47.74923,47.74923,47.74923,47.74923,47.74923,47.74923,47.74923,47.74923,47.74923,47.74923,47.74923,47.74923,47.74923,47.74923,47.74923,47.74923,47.74923,47.74923,47.74923,47.74923,47.74923,47.74923,47.74923,47.74923,47.74923,47.74923,47.74923,47.74923,47.74923,47.74923,47.74923,47.74923,47.74923,47.74923,47.74923,47.74923,47.74923,47.74923,47.74923,47.74923,47.74923,47.74923,47.74923,47.74923,47.74923,47.74923,47.74923,47.74923,47.74923,47.74923,47.74923,47.74923,47.74923,47.74923,47.74923,47.74923,47.74923,47.74923,47.74923,47.74923,47.74923,47.74923,47.74923,47.74923,47.74923,47.74923,47.74923,47.74923,47.74923,47.74923,47.74923,47.74923,47.74923,47.74923,47.74923,47.74923,47.74923,47.74923,47.74923,47.74923,47.74923,47.74923,47.74923,47.74923,47.74923,47.74923,47.74923,47.74923,47.74923,47.74923,47.74923,47.74923,47.74923,47.74923,47.74923,47.74923,47.74923,47.74923,47.74923,47.74923,47.74923,47.74923,47.74923,47.74923,47.74923,47.74923,47.74923,47.74923,47.74923,47.74923,47.74923,47.74923,47.74923,47.74923,47.74923,47.74923,47.74923,47.74923,47.74923,47.74923,47.74923,47.74923,47.74923,47.74923,47.74923,47.74923,47.74923,47.74923,47.74923,47.74923,47.74923,47.74923,47.74923,47.74923,47.74923,47.74923,47.74923,47.74923,47.74923,47.74923,47.74923,47.74923,47.74923,47.74923,47.74923,47.74923,47.74923,47.74923,47.74923,47.74923,47.74923,47.74923,47.74923,47.74923,47.74923,47.74923,47.74923,47.74923,47.74923,47.74923,47.74923,47.74923,47.74923,47.74923,47.74923,47.74923,47.74923,47.74923,47.74923,47.74923,47.74923,47.74923,47.74923,47.74923,47.74923,47.74923,47.74923,47.74923,47.74923,47.74923,47.74923,47.74923,47.74923,47.74923,47.74923,47.74923,47.74923,47.74923,47.74923,47.74923,47.74923,47.74923,47.74923,47.74923,47.74923,47.74923,47.74923,47.74923,47.74923,47.74923,47.74923,47.74923,47.74923,47.74923,47.74923,47.74923,47.74923,47.74923,47.74923,47.74923,47.74923,47.74923,47.74923,47.74923,47.74923,47.74923,47.74923,47.74923,47.74923,47.74923,47.74923,47.74923,47.74923,47.74923,47.74923,47.74923,47.74923,47.74923,47.74923,47.74923,47.74923,47.74923,47.74923,47.74923,47.74923,47.74923,47.74923,47.74923,47.74923,47.74923,47.74923,47.74923,47.74923,47.74923,47.74923,47.74923,47.74923,47.74923,47.74923,47.74923,47.74923,47.74923,47.74923,47.74923,47.74923,47.74923,47.74923,47.74923,47.74923,47.74923,47.74923,47.74923,47.74923,47.74923,47.74923,47.74923,47.74923,47.74923,47.74923,47.74923,47.74923,47.74923,47.74923,47.74923,47.74923,47.74923,47.74923,47.74923,47.74923,47.74923,47.74923,47.74923,47.74923,47.74923,47.74923,47.74923,47.74923,47.7493884999999,47.74923,47.74923,47.74923,47.74923,47.74923,47.74923,47.74923,47.74923,47.74923,47.74923,47.74923,47.74923,47.74923,47.74923,47.74923,47.74923,47.74923,47.74923,47.74923,47.74923,47.74923,47.74923,47.74923,47.74923,47.74923,47.74923,47.74923,47.74923,47.74923,47.74923,47.74923,47.74923,47.74923,47.74923,47.74923,47.74923,47.74923,47.74923,47.74923,47.74923,47.74923,47.74923,47.74923,47.74923,47.74923,47.74923,47.74923,47.74923,47.74923,47.74923,47.74923,47.74923,47.74923,47.74923,47.74923,47.74923,47.74923,47.74923,47.74923,47.74923,47.74923,47.74923,47.74923,47.74923,47.74923,47.74923,47.74923,47.74923,47.74923,47.74923,47.74923,47.74923,47.74923,47.74923,47.74923,47.74923,47.74923,47.74923,47.74923,47.74923,47.74923,47.74923,47.74923,47.74923,47.74923,47.74923,47.74923,47.74923,47.74923,47.74923,47.74923,47.74923,47.74923,47.74923,47.74923,47.74923,47.74923,47.74923,47.74923,47.74923,47.74923,47.74923,47.74923,47.74923,47.74923,47.74923,47.74923,47.74923,47.74923,47.74923,47.74923,47.74923,47.74923,47.74923,47.74923,47.74923,47.74923,47.74923,47.74923,47.74923,47.74923,47.74923,47.74923,47.74923,47.74923,47.74923,47.74923,47.74923,47.74923,47.74923,47.74923,47.74923,47.74923,47.74923,47.74923,47.74923,47.74923,47.74923,47.74923,47.74923,47.74923,47.74923,47.74923,47.74923,47.74923,47.74923,47.74923,47.74923,47.74923,47.74923,47.74923,47.74923,47.74923,47.74923,47.74923,47.74923,47.74923,47.74923,47.74923,47.74923,47.74923,47.74923,47.74923,47.74923,47.74923,47.74923,47.74923,47.74923,47.74923,47.74923,47.74923,47.74923,47.74923,47.74923,47.74923,47.74923,47.74923,47.74923,47.74923,47.74923,47.74923,47.74923,47.74923,47.74923,47.7493884999999,47.74923,47.74923,47.74923,47.74923,47.74923,47.74923,47.74923,47.74923,47.74923,47.74923,47.74923,47.74923,47.74923,47.74923,47.74923,47.74923,47.74923,47.74923,47.74923,47.74923,47.74923,47.74923,47.74923,47.74923,47.74923,47.74923,47.74923,47.74923,47.74923,47.74923,47.74923,47.74923,47.74923,47.74923,47.74923,47.74923,47.74923,47.74923,47.74923,47.74923,47.74923,47.74923,47.74923,47.74923,47.74923,47.74923,47.74923,47.74923,47.74923,47.74923,47.74923,47.74923,47.74923,47.74923,47.74923,47.74923,47.74923,47.74923,47.74923,47.74923,47.74923,47.74923,47.74923,47.74923,47.74923,47.74923,47.74923,47.74923,47.74923,47.74923,47.74923,47.74923,47.74923,47.74923,47.74923,47.74923,47.74923,47.74923,47.74923,47.74923,47.74923,47.74923,47.74923,47.74923,47.74923,47.74923,47.74923,47.74923,47.74923,47.74923,47.74923,47.74923,47.74923,47.74923,47.74923,47.74923,47.74923,47.74923,47.74923,47.74923,47.74923,47.74923,47.74923,47.74923,47.74923,47.74923,47.74923,47.74923,47.74923,47.74923,47.74923,47.74923,47.74923,47.74923,47.74923,47.74923,47.74923,47.74923,47.74923,47.74923,47.74923,47.74923,47.74923,47.74923,47.74923,47.74923,47.74923,47.74923,47.74923,47.74923,47.74923,47.74923,47.74923,47.74923,47.74923,47.74923,47.74923,47.74923,47.74923,47.74923,47.74923,47.74923,47.74923,47.74923,47.74923,47.74923,47.74923,47.74923,47.74923,47.74923,47.74923,47.74923,47.74923,47.74923,47.74923,47.74923,47.74923,47.74923,47.74923,47.74923,47.74923,47.74923,47.74923,47.74923,47.74923,47.74923,47.74923,47.74923,47.74923,47.74923,47.74923,47.74923,47.74923,47.74923,47.74923,47.74923,47.74923,47.74923,47.74923,47.74923,47.74923,47.74923,47.74923,47.74923,47.74923,47.74923,47.74923,47.74923,47.74923,47.74923,47.74923,47.74923,47.74923,47.74923,47.74923,47.74923,47.74923,47.74923,47.74923,47.74923,47.74923,47.74923,47.74923,47.74923,47.74923,47.74923,47.74923,47.74923,47.74923,47.74923,47.74923,47.74923,47.74923,47.74923,47.74923,47.74923,47.74923,47.74923,47.74923,47.74923,47.74923,47.74923,47.74923,47.74923,47.74923,47.74923,47.74923,47.74923,47.74923,47.74923,47.74923,47.74923,47.74923,47.74923,47.74923,47.74923,47.74923,47.74923,47.74923,47.74923,47.74923,47.74923,47.74923,47.74923,47.74923,47.74923,47.74923,47.74923,47.74923,47.74923,47.74923,47.74923,47.74923,47.74923,47.74923,47.74923,47.74923,47.74923,47.74923,47.74923,47.74923,47.74923,47.74923,47.74923,47.74923,47.74923,47.74923,47.74923,47.74923,47.74923,47.74923,47.74923,47.74923,47.74923,47.74923,47.74923,47.74923,47.74923,47.74923,47.74923,47.74923,47.74923,47.74923,47.74923,47.74923,47.74923,47.74923,47.74923,47.74923,47.74923,47.74923,47.74923,47.74923,47.74923,47.74923,47.74923,47.74923,47.74923,47.74923,47.74923,47.74923,47.74923,47.74923,47.74923,47.74923,47.74923,47.74923,47.74923,47.74923,47.74923,47.74923,47.74923,47.74923,47.74923,47.74923,47.74923,47.74923,47.74923,47.74923,47.74923,47.74923,47.74923,47.74923,47.74923,47.74923,47.74923,47.74923,47.74923,47.74923,47.74923,47.74923,47.74923,47.74923,47.74923,47.74923,47.74923,47.74923,47.74923,47.74923,47.74923,47.74923,47.74923,47.74923,47.74923,47.74923,47.74923,47.74923,47.74923,47.74923,47.74923,47.74923,47.74923,47.74923,47.74923,47.74923,47.74923,47.74923,47.74923,47.74923,47.74923,47.74923,47.74923,47.74923,47.74923,47.74923,47.74923,47.74923,47.74923,47.74923,47.74923,47.74923,47.74923,47.74923,47.74923,47.74923,47.74923,47.74923,47.74923,47.74923,47.74923,47.74923,47.74923,47.74923,47.74923,47.74923,47.74923,47.74923,47.74923,47.74923,47.74923,47.74923,47.74923,47.74923,47.74923,47.74923,47.74923,47.74923,47.74923,47.74923,47.74923,47.74923,47.74923,47.74923,47.74923,47.74923,47.74923,47.74923,47.74923,47.74923,47.74923,47.74923,47.74923,47.74923,47.74923,47.74923,47.74923,47.74923,47.74923,47.74923,47.74923,47.74923,47.74923,47.74923,47.74923,47.74923,47.74923,47.74923,47.74923,47.74923,47.74923,47.74923,47.74923,47.74923,47.74923,47.74923,47.74923,47.74923,47.74923,47.74923,47.74923,47.74923,47.74923,47.74923,47.74923,47.74923,47.74923,47.74923,47.74923,47.74923,47.74923,47.74923,47.74923,47.74923,47.74923,47.74923,47.74923,47.74923,47.74923,47.74923,47.74923,47.74923,47.74923,47.74923,47.74923,47.74923,47.74923,47.74923,47.74923,47.74923,47.74923,47.74923,47.74923,47.74923,47.74923,47.74923,47.74923,47.74923,47.74923,47.74923,47.74923,47.74923,47.74923,47.74923,47.74923,47.74923,47.74923,47.74923,47.74923,47.74923,47.74923,47.74923,47.74923,47.74923,47.74923,47.74923,47.74923,47.74923,47.74923,47.74923,47.74923,47.74923,47.74923,47.74923,47.74923,47.74923,47.74923,47.74923,47.74923,47.74923,47.74923,47.74923,47.74923,47.74923,47.74923,47.74923,47.74923,47.74923,47.74923,47.74923,47.74923,47.74923,47.74923,47.74923,47.74923,47.74923,47.74923,47.74923,47.74923,47.74923,47.74923,47.74923,47.74923,47.74923,47.74923,47.74923,47.74923,47.74923,47.74923,47.74923,47.74923,47.74923,47.74923,47.74923,47.74923,47.74923,47.74923,47.74923,47.74923,47.74923,47.74923,47.74923,47.74923,47.74923,47.74923,47.74923,47.74923,47.74923,47.74923,47.74923,47.74923,47.74923,47.74923,47.74923,47.74923,47.74923,47.74923,47.74923,47.74923,47.74923,47.74923,47.74923,47.74923,47.74923,47.74923,47.74923,47.74923,47.74923,47.74923,47.74923,47.74923,47.74923,47.74923,47.74923,47.74923,47.74923,47.74923,47.74923,47.74923,47.74923,47.74923,47.74923,47.74923,47.74923,47.74923,47.74923,47.74923,47.74923,47.74923,47.74923,47.74923,47.74923,47.74923,47.74923,47.74923,47.74923,47.74923,47.74923,47.74923,47.74923,47.74923,47.74923,47.74923,47.74923,47.74923,47.74923,47.74923,47.74923,47.74923,47.74923,47.74923,47.74923,47.74923,47.74923,47.74923,47.74923,47.74923,47.74923,47.74923,47.74923,47.74923,47.74923,47.74923,47.74923,47.74923,47.74923,47.74923,47.74923,47.74923,47.74923,47.74923,47.74923,47.74923,47.74923,47.74923,47.74923,47.74923,47.74923,47.74923,47.74923,47.74923,47.74923,47.74923,47.74923,47.74923,47.74923,47.74923,47.74923,47.74923,47.74923,47.74923,47.74923,47.74923,47.74923,47.74923,47.74923,47.74923,47.74923,47.74923,47.74923,47.74923,47.74923,47.74923,47.74923,47.74923,47.74923,47.74923,47.74923,47.74923,47.74923,47.74923,47.74923,47.74923,47.74923,47.74923,47.74923,47.74923,47.74923,47.74923,47.74923,47.74923,47.74923,47.74923,47.74923,47.74923,47.74923,47.74923,47.74923,47.74923,47.74923,47.74923,47.74923,47.74923,47.74923,47.74923,47.74923,47.74923,47.74923,47.74923,47.74923,47.74923,47.74923,47.74923,47.74923,47.74923,47.74923,47.74923,47.74923,47.74923,47.74923,47.74923,47.74923,47.74923,47.74923,47.74923,47.74923,47.74923,47.74923,47.74923,47.74923,47.74923,47.74923,47.74923,47.74923,47.74923,47.74923,47.74923,47.74923,47.74923,47.74923,47.74923,47.74923,47.74923,47.74923,47.74923,47.74923,47.74923,47.74923,47.74923,47.74923,47.74923,47.74923,47.74923,47.74923,47.74923,47.74923,47.74923,47.74923,47.74923,47.74923,47.74923,47.74923,47.74923,47.74923,47.74923,47.74923,47.74923,47.74923,47.74923,47.74923,47.7493884999999,47.74923,47.74923,47.74923,47.74923,47.74923,47.74923,47.74923,47.74923,47.74923,47.74923,47.74923,47.74923,47.74923,47.74923,47.74923,47.74923,47.74923,47.74923,47.74923,47.74923,47.74923,47.74923,47.74923,47.74923,47.74923,47.74923,47.74923,47.74923,47.74923,47.74923,47.74923,47.74923,47.74923,47.74923,47.74923,47.74923,47.74923,47.74923,47.7493884999999,47.74923,47.74923,47.74923,47.74923,47.74923,47.74923,47.74923,47.74923,47.74923,47.74923,47.74923,47.74923,47.74923,47.74923,47.74923,47.74923,47.74923,47.74923,47.74923,47.74923,47.74923,47.74923,47.74923,47.74923,47.74923,47.74923,47.74923,47.74923,47.74923,47.74923,47.74923,47.74923,47.74923,47.74923,47.74923,47.74923,47.74923,47.74923,47.74923,47.74923,47.74923,47.74923,47.74923,47.74923,47.74923,47.74923,47.74923,47.74923,47.74923,47.74923,47.74923,47.74923,47.74923,47.74923,47.74923,47.74923,47.74923,47.74923,47.74923,47.74923,47.74923,47.74923,47.74923,47.74923,47.74923,47.74923,47.74923,47.74923,47.74923,47.74923,47.74923,47.74923,47.74923,47.74923,47.74923,47.74923,47.74923,47.74923,47.74923,47.74923,47.74923,47.74923,47.74923,47.74923,47.74923,47.74923,47.74923,47.74923,47.74923,47.74923,47.74923,47.74923,47.74923,47.74923,47.74923,47.74923,47.74923,47.74923,47.74923,47.74923,47.74923,47.74923,47.74923,47.74923,47.74923,47.74923,47.74923,47.74923,47.74923,47.74923,47.74923,47.74923,47.74923,47.74923,47.74923,47.74923,47.74923,47.74923,47.74923,47.74923,47.74923,47.74923,47.74923,47.74923,47.74923,47.74923,47.74923,47.74923,47.74923,47.74923,47.74923,47.74923,47.74923,47.74923,47.74923,47.74923,47.7493884999999,47.74923,47.74923,47.74923,47.74923,47.74923,47.74923,47.74923,47.74923,47.74923,47.74923,47.74923,47.74923,47.74923,47.74923,47.74923,47.74923,47.74923,47.74923,47.74923,47.74923,47.74923,47.74923,47.74923,47.74923,47.74923,47.74923,47.74923,47.74923,47.74923,47.74923,47.74923,47.74923,47.74923,47.74923,47.74923,47.74923,47.74923,47.74923,47.74923,47.74923,47.74923,47.74923,47.74923,47.74923,47.74923,47.74923,47.74923,47.74923,47.74923,47.74923,47.74923,47.74923,47.74923,47.74923,47.74923,47.74923,47.74923,47.74923,47.74923,47.74923,47.74923,47.74923,47.74923,47.74923,47.74923,47.74923,47.74923,47.74923,47.74923,47.74923,47.74923,47.74923,47.74923,47.74923,47.74923,47.74923,47.74923,47.74923,47.74923,47.74923,47.74923,47.74923,47.74923,47.74923,47.74923,47.74923,47.74923,47.74923,47.74923,47.74923,47.74923,47.74923,47.74923,47.74923,47.74923,47.74923,47.74923,47.74923,47.74923,47.74923,47.74923,47.74923,47.74923,47.74923,47.74923,47.74923,47.74923,47.74923,47.74923,47.74923,47.74923,47.74923,47.74923,47.74923,47.74923,47.74923,47.74923,47.74923,47.74923,47.74923,47.74923,47.74923,47.74923,47.74923,47.74923,47.74923,47.74923,47.74923,47.74923,47.74923,47.74923,47.74923,47.74923,47.74923,47.74923,47.74923,47.74923,47.74923,47.74923,47.74923,47.74923,47.74923,47.74923,47.74923,47.74923,47.74923,47.74923,47.74923,47.74923,47.74923,47.74923,47.74923,47.74923,47.74923,47.74923,47.74923,47.74923,47.74923,47.74923,47.74923,47.74923,47.74923,47.74923,47.74923,47.74923,47.74923,47.74923,47.74923,47.74923,47.74923,47.74923,47.74923,47.74923,47.74923,47.74923,47.74923,47.74923,47.74923,47.74923,47.74923,47.74923,47.74923,47.74923,47.74923,47.74923,47.74923,47.74923,47.74923,47.74923,47.74923,47.74923,47.74923,47.74923,47.74923,47.74923,47.74923,47.74923,47.74923,47.74923,47.74923,47.74923,47.74923,47.74923,47.74923,47.74923,47.74923,47.74923,47.74923,47.74923,47.74923,47.74923,47.74923,47.74923,47.74923,47.74923,47.74923,47.74923,47.74923,47.74923,47.74923,47.74923,47.74923,47.74923,47.74923,47.74923,47.74923,47.74923,47.74923,47.74923,47.74923,47.74923,47.74923,47.74923,47.74923,47.74923,47.74923,47.74923,47.74923,47.74923,47.7493884999999,47.74923,47.74923,47.74923,47.74923,47.74923,47.74923,47.74923,47.7493884999999,47.74923,47.74923,47.74923,47.74923,47.74923,47.74923,47.7493884999999,47.74923,47.74923,47.74923,47.74923,47.74923,47.74923,47.74923,47.74923,47.74923,47.74923,47.74923,47.74923,47.74923,47.74923,47.74923,47.74923,47.74923,47.74923,47.74923,47.74923,47.74923,47.74923,47.74923,47.74923,47.74923,47.74923,47.74923,47.74923,47.74923,47.74923,47.74923,47.74923,47.74923,47.74923,47.74923,47.74923,47.74923,47.74923,47.74923,47.74923,47.74923,47.74923,47.74923,47.74923,47.74923,47.74923,47.74923,47.74923,47.74923,47.74923,47.74923,47.74923,47.74923,47.74923,47.74923,47.74923,47.74923,47.74923,47.74923,47.74923,47.74923,47.74923,47.74923,47.74923,47.74923,47.74923,47.74923,47.74923,47.74923,47.74923,47.74923,47.74923,47.74923,47.74923,47.74923,47.7493884999999,47.74923,47.74923,47.74923,47.74923,47.74923,47.74923,47.74923,47.74923,47.74923,47.74923,47.74923,47.74923,47.74923,47.74923,47.74923,47.74923,47.74923,47.74923,47.74923,47.74923,47.74923,47.74923,47.74923,47.74923,47.74923,47.74923,47.74923,47.74923,47.74923,47.74923,47.74923,47.74923,47.74923,47.74923,47.74923,47.74923,47.74923,47.74923,47.74923,47.74923,47.74923,47.74923,47.74923,47.74923,47.74923,47.74923,47.74923,47.74923,47.74923,47.74923,47.74923,47.74923,47.74923,47.74923,47.74923,47.74923,47.74923,47.74923,47.74923,47.74923,47.74923,47.74923,47.74923,47.74923,47.74923,47.74923,47.74923,47.74923,47.74923,47.74923,47.74923,47.74923,47.74923,47.74923,47.74923,47.74923,47.74923,47.74923,47.74923,47.74923,47.74923,47.74923,47.74923,47.74923,47.74923,47.74923,47.74923,47.74923,47.74923,47.74923,47.7493884999999,47.74923,47.74923,47.74923,47.74923,47.74923,47.74923,47.74923,47.74923,47.74923,47.74923,47.74923,47.74923,47.74923,47.74923,47.74923,47.74923,47.74923,47.74923,47.74923,47.74923,47.74923,47.74923,47.74923,47.74923,47.74923,47.74923,47.74923,47.74923,47.74923,47.74923,47.74923,47.74923,47.74923,47.74923,47.74923,47.74923,47.74923,47.74923,47.74923,47.74923,47.74923,47.74923,47.74923,47.74923,47.74923,47.74923,47.74923,47.74923,47.74923,47.74923,47.74923,47.74923,47.74923,47.74923,47.74923,47.74923,47.74923,47.74923,47.74923,47.74923,47.74923,47.74923,47.74923,47.74923,47.74923,47.74923,47.74923,47.74923,47.74923,47.74923,47.74923,47.74923,47.74923,47.74923,47.74923,47.74923,47.74923,47.74923,47.74923,47.74923,47.74923,47.74923,47.74923,47.74923,47.74923,47.74923,47.74923,47.74923,47.74923,47.74923,47.74923,47.74923,47.74923,47.74923,47.74923,47.74923,47.74923,47.74923,47.74923,47.74923,47.74923,47.74923,47.74923,47.74923,47.74923,47.74923,47.74923,47.74923,47.74923,47.74923,47.74923,47.74923,47.74923,47.74923,47.74923,47.74923,47.74923,47.74923,47.74923,47.74923,47.74923,47.74923,47.74923,47.74923,47.74923,47.74923,47.74923,47.74923,47.74923,47.74923,47.74923,47.74923,47.74923,47.74923,47.74923,47.74923,47.74923,47.74923,47.74923,47.74923,47.74923,47.74923,47.74923,47.74923,47.74923,47.74923,47.74923,47.74923,47.74923,47.74923,47.74923,47.74923,47.74923,47.74923,47.74923,47.74923,47.74923,47.74923,47.74923,47.74923,47.74923,47.74923,47.74923,47.74923,47.74923,47.74923,47.74923,47.74923,47.74923,47.74923,47.74923,47.74923,47.74923,47.74923,47.74923,47.74923,47.74923,47.74923,47.74923,47.74923,47.74923,47.74923,47.74923,47.74923,47.74923,47.74923,47.74923,47.74923,47.74923,47.74923,47.74923,47.74923,47.74923,47.74923,47.74923,47.74923,47.74923,47.74923,47.74923,47.74923,47.74923,47.74923,47.74923,47.74923,47.74923,47.74923,47.74923,47.74923,47.74923,47.74923,47.74923,47.74923,47.74923,47.74923,47.74923,47.74923,47.74923,47.74923,47.74923,47.74923,47.74923,47.74923,47.74923,47.74923,47.74923,47.74923,47.74923,47.74923,47.74923,47.74923,47.74923,47.74923,47.74923,47.74923,47.74923,47.74923,47.7493884999999,47.74923,47.74923,47.74923,47.74923,47.74923,47.74923,47.74923,47.74923,47.74923,47.74923,47.74923,47.74923,47.74923,47.74923,47.74923,47.74923,47.74923,47.74923,47.74923,47.74923,47.74923,47.74923,47.74923,47.7493884999999,47.74923,47.74923,47.74923,47.74923,47.74923,47.74923,47.74923,47.74923,47.74923,47.74923,47.74923,47.74923,47.74923,47.74923,47.74923,47.74923,47.74923,47.74923,47.74923,47.74923,47.7493884999999,47.7493884999999,47.74923,47.74923,47.74923,47.74923,47.74923,47.74923,47.74923,47.74923,47.74923,47.74923,47.74923,47.74923,47.74923,47.74923,47.74923,47.74923,47.74923,47.74923,47.74923,47.74923,47.74923,47.74923,47.74923,47.74923,47.74923,47.74923,47.74923,47.74923,47.74923,47.74923,47.74923,47.74923,47.74923,47.74923,47.74923,47.74923,47.74923,47.74923,47.74923,47.74923,47.74923,47.74923,47.74923,47.74923,47.74923,47.74923,47.74923,47.74923,47.74923,47.74923,47.74923,47.74923,47.74923,47.74923,47.74923,47.74923,47.74923,47.74923,47.74923,47.74923,47.74923,47.74923,47.74923,47.74923,47.74923,47.74923,47.74923,47.74923,47.74923,47.74923,47.74923,47.74923,47.74923,47.74923,47.74923,47.74923,47.74923,47.74923,47.74923,47.74923,47.74923,47.74923,47.74923,47.74923,47.74923,47.74923,47.74923,47.74923,47.74923,47.74923,47.74923,47.74923,47.74923,47.74923,47.74923,47.74923,47.74923,47.74923,47.74923,47.74923,47.74923,47.74923,47.74923,47.74923,47.74923,47.74923,47.74923,47.74923,47.74923,47.74923,47.74923,47.74923,47.74923,47.74923,47.74923,47.74923,47.74923,47.74923,47.74923,47.74923,47.74923,47.74923,47.74923,47.74923,47.74923,47.74923,47.74923,47.74923,47.74923,47.74923,47.74923,47.74923,47.74923,47.74923,47.74923,47.74923,47.74923,47.74923,47.74923,47.74923,47.74923,47.74923,47.74923,47.74923,47.74923,47.74923,47.74923,47.74923,47.74923,47.74923,47.74923,47.74923,47.74923,47.74923,47.74923,47.74923,47.74923,47.74923,47.74923,47.74923,47.74923,47.74923,47.74923,47.74923,47.74923,47.74923,47.74923,47.74923,47.74923,47.74923,47.74923,47.74923,47.74923,47.74923,47.74923,47.74923,47.74923,47.74923,47.74923,47.74923,47.74923,47.74923,47.74923,47.74923,47.74923,47.74923,47.74923,47.74923,47.74923,47.74923,47.74923,47.74923,47.74923,47.74923,47.74923,47.74923,47.74923,47.74923,47.74923,47.74923,47.74923,47.74923,47.74923,47.74923,47.74923,47.74923,47.74923,47.74923,47.74923,47.74923,47.74923,47.74923,47.74923,47.74923,47.74923,47.74923,47.74923,47.74923,47.74923,47.74923,47.74923,47.74923,47.74923,47.74923,47.74923,47.74923,47.74923,47.74923,47.74923,47.74923,47.74923,47.74923,47.74923,47.74923,47.74923,47.74923,47.74923,47.74923,47.74923,47.74923,47.74923,47.74923,47.74923,47.74923,47.74923,47.74923,47.74923,47.74923,47.74923,47.74923,47.74923,47.74923,47.74923,47.74923,47.74923,47.74923,47.74923,47.74923,47.74923,47.74923,47.74923,47.74923,47.74923,47.74923,47.74923,47.74923,47.74923,47.74923,47.74923,47.74923,47.74923,47.74923,47.74923,47.74923,47.74923,47.74923,47.74923,47.74923,47.74923,47.74923,47.74923,47.74923,47.74923,47.74923,47.74923,47.74923,47.74923,47.74923,47.74923,47.74923,47.7493884999999,47.74923,47.74923,47.74923,47.74923,47.74923,47.74923,47.74923,47.74923,47.74923,47.74923,47.74923,47.74923,47.74923,47.74923,47.74923,47.74923,47.74923,47.74923,47.74923,47.74923,47.74923,47.74923,47.74923,47.74923,47.74923,47.74923,47.74923,47.74923,47.74923,47.74923,47.74923,47.74923,47.74923,47.74923,47.74923,47.74923,47.74923,47.74923,47.74923,47.74923,47.74923,47.74923,47.74923,47.74923,47.74923,47.74923,47.74923,47.74923,47.74923,47.74923,47.74923,47.74923,47.74923,47.74923,47.74923,47.74923,47.74923,47.74923,47.74923,47.74923,47.74923,47.74923,47.74923,47.74923,47.74923,47.74923,47.74923,47.74923,47.74923,47.74923,47.74923,47.74923,47.74923,47.74923,47.74923,47.74923,47.74923,47.74923,47.74923,47.74923,47.74923,47.74923,47.74923,47.74923,47.74923,47.74923,47.74923,47.74923,47.74923,47.74923,47.74923,47.74923,47.74923,47.74923,47.74923,47.74923,47.74923,47.74923,47.74923,47.74923,47.74923,47.74923,47.74923,47.74923,47.74923,47.74923,47.74923,47.74923,47.74923,47.74923,47.74923,47.74923,47.74923,47.74923,47.74923,47.74923,47.74923,47.7493884999999,47.74923,47.74923,47.74923,47.74923,47.74923,47.74923,47.74923,47.74923,47.74923,47.74923,47.74923,47.74923,47.74923,47.74923,47.74923,47.74923,47.74923,47.74923,47.74923,47.74923,47.74923,47.74923,47.74923,47.74923,47.74923,47.74923,47.74923,47.74923,47.74923,47.74923,47.74923,47.74923,47.74923,47.74923,47.74923,47.74923,47.74923,47.74923,47.74923,47.74923,47.74923,47.74923,47.74923,47.74923,47.74923,47.74923,47.74923,47.74923,47.74923,47.74923,47.74923,47.74923,47.74923,47.74923,47.74923,47.74923,47.74923,47.74923,47.74923,47.74923,47.74923,47.74923,47.74923,47.74923,47.7493884999999,47.74923,47.74923,47.74923,47.74923,47.74923,47.74923,47.74923,47.74923,47.74923,47.74923,47.74923,47.74923,47.74923,47.74923,47.74923,47.74923,47.74923,47.74923,47.74923,47.74923,47.74923,47.74923,47.74923,47.74923,47.74923,47.74923,47.74923,47.74923,47.74923,47.74923,47.74923,47.74923,47.74923,47.74923,47.74923,47.74923,47.74923,47.74923,47.74923,47.74923,47.74923,47.74923,47.74923,47.74923,47.74923,47.74923,47.74923,47.74923,47.74923,47.74923,47.74923,47.74923,47.74923,47.74923,47.74923,47.74923,47.74923,47.74923,47.74923,47.74923,47.74923,47.74923,47.74923,47.74923,47.74923,47.74923,47.74923,47.74923,47.74923,47.74923,47.74923,47.74923,47.74923,47.74923,47.74923,47.74923,47.74923,47.74923,47.74923,47.74923,47.74923,47.74923,47.74923,47.74923,47.74923,47.74923,47.74923,47.74923,47.74923,47.74923,47.74923,47.74923,47.74923,47.74923,47.74923,47.74923,47.74923,47.74923,47.74923,47.74923,47.74923,47.74923,47.74923,47.74923,47.74923,47.74923,47.74923,47.74923,47.74923,47.74923,47.74923,47.74923,47.74923,47.74923,47.74923,47.74923,47.74923,47.74923,47.74923,47.74923,47.74923,47.74923,47.74923,47.74923,47.74923,47.74923,47.74923,47.74923,47.74923,47.74923,47.74923,47.74923,47.74923,47.74923,47.74923,47.74923,47.74923,47.74923,47.74923,47.74923,47.74923,47.74923,47.74923,47.74923,47.74923,47.74923,47.74923,47.74923,47.74923,47.74923,47.74923,47.74923,47.74923,47.74923,47.74923,47.74923,47.74923,47.74923,47.74923,47.74923,47.74923,47.74923,47.74923,47.74923,47.74923,47.74923,47.74923,47.74923,47.74923,47.74923,47.74923,47.74923,47.74923,47.74923,47.74923,47.74923,47.74923,47.74923,47.74923,47.74923,47.74923,47.74923,47.74923,47.74923,47.74923,47.74923,47.74923,47.74923,47.74923,47.74923,47.74923,47.74923,47.74923,47.74923,47.74923,47.74923,47.74923,47.74923,47.74923,47.74923,47.74923,47.74923,47.74923,47.74923,47.74923,47.74923,47.74923,47.74923,47.74923,47.74923,47.74923,47.74923,47.74923,47.74923,47.74923,47.74923,47.74923,47.74923,47.74923,47.74923,47.74923,47.74923,47.74923,47.74923,47.74923,47.74923,47.74923,47.74923,47.74923,47.74923,47.74923,47.74923,47.74923,47.74923,47.74923,47.74923,47.74923,47.74923,47.74923,47.74923,47.74923,47.74923,47.74923,47.74923,47.74923,47.74923,47.74923,47.74923,47.74923,47.74923,47.74923,47.74923,47.74923,47.74923,47.74923,47.74923,47.74923,47.74923,47.74923,47.74923,47.74923,47.74923,47.74923,47.74923,47.74923,47.74923,47.74923,47.74923,47.74923,47.74923,47.74923,47.74923,47.74923,47.74923,47.74923,47.74923,47.74923,47.74923,47.74923,47.74923,47.74923,47.74923,47.74923,47.74923,47.74923,47.74923,47.74923,47.74923,47.74923,47.74923,47.74923,47.74923,47.74923,47.74923,47.74923,47.74923,47.74923,47.74923,47.74923,47.74923,47.74923,47.74923,47.74923,47.74923,47.74923,47.74923,47.74923,47.74923,47.74923,47.74923,47.74923,47.74923,47.74923,47.74923,47.74923,47.74923,47.74923,47.74923,47.74923,47.74923,47.74923,47.74923,47.74923,47.74923,47.74923,47.74923,47.74923,47.74923,47.74923,47.74923,47.74923,47.74923,47.74923,47.74923,47.74923,47.74923,47.74923,47.74923,47.74923,47.74923,47.74923,47.74923,47.74923,47.74923,47.74923,47.74923,47.74923,47.74923,47.74923,47.74923,47.74923,47.74923,47.74923,47.74923,47.7493884999999,47.74923,47.74923,47.74923,47.74923,47.74923,47.74923,47.74923,47.74923,47.74923,47.74923,47.74923,47.74923,47.74923,47.74923,47.74923,47.74923,47.74923,47.74923,47.74923,47.74923,47.74923,47.74923,47.74923,47.74923,47.74923,47.74923,47.74923,47.7915799999999,47.7915799999999,47.7915799999999,47.7915799999999,47.7915799999999,47.7915799999999,47.7929199999999,47.74923,47.74923,47.74923,47.74923,47.74923,47.74923,47.74923,47.74923,47.74923,47.74923,47.74923,47.74923,47.74923,47.74923,47.74923,47.74923,47.74923,47.74923,47.74923,47.74923,47.74923,47.74923,47.74923,47.74923,47.74923,47.74923,47.74923,47.74923,47.74923,47.74923,47.74923,47.74923,47.74923,47.74923,47.74923,47.74923,47.74923,47.74923,47.74923,47.74923,47.74923,47.74923,47.74923,47.74923,47.74923,47.74923,47.74923,47.74923,47.74923,47.74923,47.74923,47.74923,47.74923,47.74923,47.74923,47.74923,47.74923,47.74923,47.74923,47.74923,47.74923,47.74923,47.74923,47.74923,47.74923,47.74923,47.74923,47.74923,47.74923,47.74923,47.74923,47.74923,47.74923,47.74923,47.74923,47.74923,47.74923,47.74923,47.74923,47.74923,47.74923,47.74923,47.74923,47.74923,47.74923,47.74923,47.74923,47.74923,47.74923,47.74923,47.74923,47.74923,47.74923,47.74923,47.74923,47.74923,47.74923,47.74923,47.74923,47.74923,47.74923,47.74923,47.74923,47.74923,47.74923,47.74923,47.7493884999999,47.74923,47.74923,47.74923,47.74923,47.74923,47.74923,47.74923,47.74923,47.74923,47.74923,47.74923,47.74923,47.74923,47.74923,47.74923,47.74923,47.74923,47.74923,47.74923,47.74923,47.74923,47.74923,47.74923,47.74923,47.74923,47.74923,47.74923,47.74923,47.74923,47.74923,47.74923,47.74923,47.74923,47.74923,47.74923,47.74923,47.74923,47.74923,47.74923,47.74923,47.74923,47.74923,47.74923,47.74923,47.74923,47.74923,47.74923,47.74923,47.74923,47.7493884999999,47.74923,47.7493884999999,47.74923,47.74923,47.74923,47.74923,47.74923,47.7493884999999,47.74923,47.74923,47.74923,47.74923,47.74923,47.74923,47.74923,47.74923,47.74923,47.74923,47.74923,47.74923,47.74923,47.74923,47.74923,47.74923,47.7493884999999,47.74923,47.74923,47.74923,47.7493884999999,47.74923,47.7493884999999,47.74923,47.74923,47.74923,47.74923,47.74923,47.74923,47.74923,47.74923,47.74923,47.74923,47.74923,47.74923,47.74923,47.74923,47.74923,47.74923,47.74923,47.74923,47.74923,47.74923,47.74923,47.74923,47.74923,47.74923,47.74923,47.74923,47.74923,47.74923,47.74923,47.74923,47.74923,47.74923,47.74923,47.74923,47.74923,47.74923,47.7493884999999,47.74923,47.74923,47.74923,47.74923,47.74923,47.74923,47.74923,47.7493884999999,47.74923,47.74923,47.74923,47.74923,47.74923,47.7493884999999,47.74923,47.7493884999999,47.74923,47.74923,47.7493884999999,47.74923,47.74923,47.74923,47.74923,47.7493884999999,47.74923,47.74923,47.7493884999999,47.7493884999999,47.74923,47.74923,47.74923,47.74923,47.74923,47.74923,47.74923,47.74923,47.74923,47.74923,47.74923,47.7493884999999,47.74923,47.7493884999999,47.74923,47.74923,47.7493884999999,47.7493884999999,47.74923,47.74923,47.74923,47.74923,47.74923,47.74923,47.74923,47.74923,47.74923,47.74923,47.74923,47.74923,47.74923,47.74923,47.74923,47.74923,47.74923,47.74923,47.74923,47.7493884999999,47.74923,47.74923,47.74923,47.74923,47.74923,47.7493884999999,47.74923,47.74923,47.74923,47.74923,47.74923,47.74923,47.74923,47.74923,47.74923,47.7493884999999,47.74923,47.74923,47.74923,47.74923,47.74923,47.74923,47.74923,47.74923,47.74923,47.74923,47.74923,47.74923,47.74923,47.74923,47.74923,47.74923,47.74923,47.74923,47.74923,47.74923,47.74923,47.74923,47.74923,47.74923,47.74923,47.74923,47.74923,47.74923,47.74923,47.74923,47.74923,47.74923,47.74923,47.74923,47.74923,47.74923,47.74923,47.74923,47.74923,47.74923,47.74923,47.74923,47.74923,47.74923,47.74923,47.74923,47.74923,47.74923,47.74923,47.74923,47.7493884999999,47.74923,47.74923,47.74923,47.74923,47.74923,47.74923,47.7493884999999,47.7493884999999,47.74923,47.74923,47.7493884999999,47.74923,47.74923,47.74923,47.74923,47.74923,47.74923,47.74923,47.74923,47.74923,47.74923,47.7492899999999,47.74923,47.74923,47.74923,47.74923,47.74923,47.74923,47.74923,47.74923,47.74923,47.74923,47.74923,47.74923,47.74923,47.74923,47.74923,47.74923,47.74923,47.74923,47.74923,47.74923,47.74923,47.74923,47.74923,47.74923,47.74923,47.74923,47.74923,47.74923,47.74923,47.74923,47.74923,47.74923,47.74923,47.74923,47.74923,47.74923,47.74923,47.74923,47.74923,47.74923,47.74923,47.74923,47.74923,47.74923,47.74923,47.74923,47.74923,47.74923,47.74923,47.74923,47.74923,47.74923,47.74923,47.74923,47.74923,47.74923,47.74923,47.74923,47.74923,47.74923,47.74923,47.74923,47.74923,47.74923,47.74923,47.74923,47.74923,47.74923,47.74923,47.74923,47.74923,47.74923,47.74923,47.74923,47.74923,47.74923,47.74923,47.74923,47.74923,47.74923,47.74923,47.74923,47.74923,47.74923,47.74923,47.74923,47.74923,47.74923,47.74923,47.74923,47.74923,47.74923,47.74923,47.74923,47.74923,47.74923,47.74923,47.74923,47.74923,47.74923,47.74923,47.74923,47.74923,47.74923,47.74923,47.74923,47.74923,47.74923,47.74923,47.74923,47.74923,47.74923,47.74923,47.74923,47.74923,47.74923,47.74923,47.74923,47.74923,47.74923,47.74923,47.74923,47.74923,47.74923,47.74923,47.74923,47.74923,47.74923,47.74923,47.74923,47.74923,47.74923,47.74923,47.74923,47.74923,47.74923,47.74923,47.74923,47.7493884999999,47.74923,47.74923,47.74923,47.74923,47.74923,47.74923,47.74923,47.74923,47.74923,47.74923,47.74923,47.74923,47.74923,47.74923,47.74923,47.74923,47.74923,47.74923,47.74923,47.74923,47.74923,47.74923,47.74923,47.74923,47.74923,47.74923,47.7493884999999,47.74923,47.74923,47.74923,47.74923,47.74923,47.74923,47.74923,47.74923,47.74923,47.74923,47.74923,47.74923,47.74923,47.74923,47.74923,47.74923,47.74923,47.74923,47.74923,47.74923,47.74923,47.74923,47.74923,47.74923,47.74923,47.74923,47.74923,47.74923,47.74923,47.74923,47.74923,47.74923,47.74923,47.74923,47.74923,47.74923,47.74923,47.74923,47.74923,47.74923,47.74923,47.74923,47.74923,47.74923,47.74923,47.74923,47.74923,47.74923,47.74923,47.74923,47.74923,47.74923,47.74923,47.74923,47.74923,47.74923,47.74923,47.74923,47.74923,47.74923,47.74923,47.74923,47.74923,47.74923,47.74923,47.74923,47.74923,47.74923,47.74923,47.74923,47.74923,47.74923,47.74923,47.74923,47.74923,47.74923,47.74923,47.74923,47.74923,47.74923,47.74923,47.74923,47.74923,47.74923,47.74923,47.74923,47.74923,47.74923,47.74923,47.74923,47.74923,47.74923,47.74923,47.74923,47.74923,47.74923,47.74923,47.7493884999999,47.74923,47.74923,47.74923,47.7493884999999,47.74923,47.74923,47.74923,47.7493884999999,47.74923,47.74923,47.74923,47.74923,47.74923,47.74923,47.74923,47.74923,47.74923,47.74923,47.74923,47.74923,47.74923,47.74923,47.74923,47.74923,47.74923,47.74923,47.74923,47.74923,47.74923,47.74923,47.74923,47.74923,47.74923,47.7493884999999,47.74923,47.7493884999999,47.74923,47.74923,47.7493884999999,47.74923,47.74923,47.74923,47.74923,47.74923,47.74923,47.74923,47.74923,47.7493884999999,47.74923,47.74923,47.74923,47.74923,47.74923,47.74923,47.74923,47.74923,47.74923,47.74923,47.74923,47.74923,47.74923,47.74923,47.7493884999999,47.74923,47.74923,47.74923,47.7493884999999,47.74923,47.7493884999999,47.74923,47.74923,47.74923,47.74923,47.74923,47.74923,47.74923,47.74923,47.74923,47.74923,47.74923,47.74923,47.74923,47.74923,47.74923,47.74923,47.74923,47.74923,47.74923,47.74923,47.74923,47.74923,47.74923,47.74923,47.74923,47.74923,47.7493884999999,47.7493884999999,47.74923,47.74923,47.74923,47.74923,47.74923,47.74923,47.74923,47.74923,47.74923,47.7493884999999,47.74923,47.74923,47.74923,47.7493884999999,47.74923,47.7493884999999,47.74923,47.7493884999999,47.74923,47.7493884999999,47.74923,47.74923,47.74923,47.74923,47.74923,47.74923,47.74923,47.7493884999999,47.74923,47.74923,47.74923,47.74923,47.74923,47.74923,47.74923,47.74923,47.74923,47.74923,47.74923,47.74923,47.74923,47.74923,47.74923,47.74923,47.74923,47.74923,47.74923,47.74923,47.74923,47.74923,47.74923,47.74923,47.74923,47.7493884999999,47.7493884999999,47.74923,47.74923,47.74923,47.74923,47.74923,47.74923,47.74923,47.7493884999999,47.7493884999999,47.74923,47.74923,47.74923,47.74923,47.7493884999999,47.74923,47.74923,47.74923,47.74923,47.74923,47.74923,47.74923,47.74923,47.74923,47.74923,47.74923,47.74923,47.7493884999999,47.74923,47.74923,47.74923,47.74923,47.7493884999999,47.74923,47.74923,47.74923,47.74923,47.74923,47.74923,47.74923,47.74923,47.74923,47.74923,47.74923,47.74923,47.74923,47.74923,47.74923,47.74923,47.74923,47.74923,47.74923,47.74923,47.7493884999999,47.7493884999999,47.74923,47.74923,47.74923,47.74923,47.74923,47.74923,47.74923,47.74923,47.74923,47.74923,47.74923,47.74923,47.74923,47.74923,47.74923,47.74923,47.74923,47.74923,47.74923,47.74923,47.74923,47.74923,47.74923,47.74923,47.74923,47.74923,47.74923,47.74923,47.74923,47.74923,47.74923,47.74923,47.74923,47.74923,47.74923,47.74923,47.74923,47.74923,47.74923,47.74923,47.74923,47.74923,47.74923,47.74923,47.74923,47.74923,47.74923,47.74923,47.74923,47.74923,47.74923,47.74923,47.74923,47.74923,47.74923,47.74923,47.74923,47.74923,47.74923,47.74923,47.7493884999999,47.7493884999999,47.74923,47.74923,47.74923,47.74923,47.74923,47.74923,47.74923,47.74923,47.74923,47.74923,47.74923,47.74923,47.74923,47.74923,47.74923,47.74923,47.74923,47.74923,47.74923,47.74923,47.74923,47.74923,47.74923,47.74923,47.74923,47.74923,47.74923,47.74923,47.74923,47.74923,47.7493884999999,47.74923,47.74923,47.74923,47.74923,47.74923,47.74923,47.7493884999999,47.74923,47.74923,47.74923,47.7493884999999,47.7493884999999,47.7493884999999,47.7493884999999,47.74923,47.74923,47.74923,47.74923,47.74923,47.74923,47.74923,47.74923,47.74923,47.74923,47.74923,47.74923,47.74923,47.74923,47.74923,47.74923,47.7490399999999,47.74923,47.74923,47.74923,47.74923,47.74923,47.74923,47.74923,47.74923,47.74923,47.74923,47.74923,47.74923,47.74923,47.74923,47.74923,47.74923,47.74923,47.74923,47.74923,47.74923,47.74923,47.74923,47.74923,47.74923,47.74923,47.74923,47.74923,47.74923,47.74923,47.74923,47.74923,47.74923,47.74923,47.74923,47.74923,47.74923,47.74923,47.74923,47.74923,47.74923,47.74923,47.74923,47.74923,47.74923,47.74923,47.74923,47.74923,47.74923,47.74923,47.74923,47.74923,47.74923,47.74923,47.74923,47.74923,47.74923,47.74923,47.74923,47.74923,47.74923,47.74923,47.74923,47.74923,47.74923,47.74923,47.74923,47.74923,47.74923,47.74923,47.74923,47.74923,47.74923,47.74923,47.74923,47.74923,47.74923,47.74923,47.74923,47.74923,47.74923,47.74923,47.74923,47.74923,47.74923,47.74923,47.74923,47.74923,47.74923,47.74923,47.74923,47.74923,47.74923,47.74923,47.74923,47.74923,47.74923,47.74923,47.74923,47.74923,47.74923,47.74923,47.74923,47.74923,47.74923,47.74923,47.74923,47.7493884999999,47.74923,47.74923,47.74923,47.74923,47.74923,47.74923,47.74923,47.74923,47.74923,47.74923,47.7493884999999,47.74923,47.74923,47.74923,47.7493884999999,47.74923,47.7493884999999,47.74923,47.7493884999999,47.74923,47.7493884999999,47.74923,47.74923,47.74923,47.74923,47.7493884999999,47.74923,47.7493884999999,47.74923,47.74923,47.74923,47.74923,47.74923,47.74923,47.74923,47.7493884999999,47.74923],\"legendgroup\":\"\",\"lon\":[-65.68902,-65.6896,-65.68902,-65.68956,-65.68902,-65.68902,-65.75921,-65.75921,-65.75921,-65.75921,-65.75921,-65.75921,-65.75921,-65.75921,-65.75921,-65.75921,-65.75921,-65.75921,-65.75921,-65.75921,-65.75921,-65.75921,-65.75921,-65.75921,-65.75921,-65.75921,-65.75921,-65.75921,-65.75921,-65.75921,-65.75921,-65.75921,-65.75921,-65.75921,-65.75921,-65.75921,-65.75921,-65.75921,-65.75921,-65.75921,-65.75921,-65.75921,-65.75921,-65.75921,-65.75921,-65.75921,-65.75921,-65.75921,-65.75921,-65.75921,-65.75921,-65.75921,-65.75921,-65.75921,-65.75921,-65.75921,-65.75921,-65.75921,-65.75921,-65.75921,-65.75921,-65.75921,-65.75921,-65.75921,-65.75921,-65.75921,-65.75921,-65.75921,-65.75921,-65.75921,-65.75883,-65.75921,-65.75921,-65.75921,-65.75993,-65.75854,-65.75922,-65.75991,-65.75964,-65.75964,-65.75921,-65.75921,-65.75921,-65.75922,-65.76006,-65.75921,-65.75921,-65.75921,-65.75921,-65.75921,-65.75921,-65.75921,-65.75921,-65.75921,-65.75921,-65.75921,-65.75921,-65.75921,-65.75921,-65.75921,-65.75921,-65.75921,-65.75921,-65.75921,-65.75921,-65.75921,-65.75921,-65.75921,-65.75921,-65.75921,-65.75921,-65.75921,-65.75921,-65.75921,-65.75921,-65.75921,-65.75921,-65.75921,-65.75918,-65.75917,-65.75916,-65.75983,-65.75886,-65.75919,-65.75916,-65.75921,-65.75921,-65.75921,-65.75921,-65.75921,-65.75921,-65.75921,-65.75921,-65.75921,-65.75921,-65.75921,-65.75921,-65.75921,-65.75921,-65.75921,-65.75921,-65.75921,-65.75921,-65.75921,-65.75921,-65.75921,-65.75921,-65.75921,-65.75921,-65.75921,-65.75921,-65.75921,-65.75921,-65.75921,-65.75921,-65.75921,-65.75921,-65.75921,-65.75921,-65.75921,-65.75921,-65.75921,-65.75921,-65.75921,-65.75921,-65.75834,-65.75921,-65.75921,-65.75921,-65.75921,-65.75921,-65.75921,-65.75921,-65.75921,-65.75921,-65.75921,-65.75921,-65.75921,-65.75921,-65.75921,-65.75921,-65.75921,-65.75921,-65.75921,-65.75921,-65.75921,-65.75921,-65.75921,-65.75921,-65.75921,-65.75921,-65.75921,-65.75921,-65.75921,-65.75921,-65.75921,-65.75921,-65.75921,-65.75921,-65.7585,-65.75921,-65.75876,-65.75921,-65.75921,-65.75921,-65.75921,-65.75921,-65.75921,-65.75921,-65.75921,-65.75921,-65.75921,-65.75921,-65.75921,-65.75921,-65.75921,-65.75921,-65.75921,-65.75921,-65.75921,-65.75921,-65.75921,-65.75921,-65.75921,-65.75921,-65.75921,-65.75921,-65.75921,-65.75921,-65.75921,-65.75921,-65.75921,-65.75921,-65.75921,-65.75921,-65.75921,-65.75921,-65.75921,-65.75921,-65.75921,-65.75921,-65.75857,-65.75921,-65.75921,-65.7587,-65.76009,-65.75991,-65.76002,-65.7595,-65.75969,-65.75976,-65.75922,-65.76004,-65.75922,-65.75972,-65.75955,-65.75921,-65.75921,-65.75921,-65.75921,-65.75921,-65.75921,-65.75921,-65.75921,-65.75921,-65.7597,-65.75921,-65.75921,-65.75921,-65.75921,-65.75921,-65.75921,-65.75921,-65.75921,-65.75921,-65.75921,-65.75921,-65.75921,-65.75921,-65.75921,-65.75921,-65.75921,-65.75921,-65.75921,-65.75921,-65.75921,-65.75921,-65.75921,-65.75921,-65.75921,-65.75921,-65.75921,-65.75921,-65.75921,-65.75921,-65.75921,-65.75921,-65.75921,-65.75921,-65.75921,-65.75921,-65.75921,-65.75921,-65.75921,-65.75921,-65.75921,-65.75921,-65.75921,-65.75921,-65.75921,-65.75921,-65.75921,-65.75921,-65.75921,-65.75921,-65.75921,-65.75921,-65.75921,-65.75921,-65.75921,-65.75921,-65.75921,-65.75921,-65.75921,-65.75921,-65.75921,-65.75921,-65.75921,-65.75921,-65.75921,-65.75921,-65.75921,-65.75921,-65.75921,-65.75921,-65.75921,-65.75921,-65.75921,-65.75921,-65.75921,-65.75921,-65.75921,-65.75921,-65.75921,-65.75921,-65.75921,-65.75921,-65.75921,-65.75921,-65.75921,-65.75921,-65.75921,-65.75921,-65.75921,-65.75921,-65.75921,-65.75921,-65.75921,-65.75921,-65.75921,-65.75921,-65.75921,-65.75921,-65.75921,-65.75921,-65.75921,-65.75921,-65.75921,-65.75921,-65.75921,-65.75921,-65.75921,-65.75921,-65.75921,-65.75921,-65.75921,-65.75921,-65.75921,-65.75921,-65.75921,-65.75921,-65.75921,-65.75921,-65.75921,-65.75921,-65.75921,-65.75921,-65.75921,-65.75921,-65.75921,-65.75921,-65.75921,-65.75921,-65.75921,-65.75921,-65.75877,-65.75921,-65.75921,-65.75921,-65.7586,-65.75921,-65.75921,-65.75921,-65.75921,-65.75921,-65.75921,-65.75921,-65.75921,-65.75921,-65.75921,-65.75921,-65.75921,-65.75921,-65.75921,-65.75921,-65.75921,-65.75921,-65.75921,-65.75921,-65.75921,-65.75921,-65.75921,-65.75921,-65.75921,-65.75921,-65.75921,-65.75921,-65.75921,-65.75921,-65.75921,-65.75921,-65.75921,-65.75921,-65.75921,-65.75921,-65.75921,-65.75921,-65.75921,-65.75921,-65.75921,-65.75921,-65.75921,-65.75835,-65.75844,-65.75862,-65.7589,-65.75861,-65.75878,-65.75851,-65.75832,-65.75859,-65.7587,-65.75861,-65.7587,-65.75922,-65.76017,-65.75941,-65.75979,-65.75922,-65.75968,-65.75958,-65.7595,-65.75943,-65.75884,-65.75835,-65.75854,-65.75854,-65.75861,-65.75868,-65.75853,-65.75845,-65.64101,-65.64101,-65.64101,-65.64101,-65.64101,-65.64101,-65.64101,-65.64101,-65.64101,-65.64101,-65.64101,-65.64101,-65.64067,-65.64101,-65.64101,-65.64101,-65.64044,-65.64101,-65.64101,-65.64101,-65.64101,-65.64101,-65.64101,-65.64101,-65.64101,-65.64101,-65.64101,-65.64101,-65.64101,-65.64101,-65.64101,-65.64101,-65.64101,-65.64101,-65.64101,-65.64101,-65.64101,-65.64101,-65.64101,-65.64101,-65.64101,-65.64101,-65.64101,-65.64101,-65.64101,-65.64101,-65.64056,-65.64101,-65.64101,-65.64101,-65.64101,-65.64101,-65.64101,-65.64101,-65.64101,-65.64101,-65.64101,-65.64101,-65.64101,-65.64101,-65.64101,-65.64101,-65.64101,-65.64101,-65.64101,-65.64101,-65.64101,-65.64101,-65.64101,-65.64101,-65.64101,-65.64101,-65.64101,-65.64101,-65.64101,-65.64101,-65.64101,-65.64101,-65.64101,-65.64101,-65.64101,-65.64101,-65.64101,-65.64101,-65.64101,-65.64101,-65.64101,-65.64101,-65.64101,-65.64101,-65.64101,-65.64101,-65.64101,-65.64101,-65.64101,-65.64101,-65.64101,-65.64101,-65.64101,-65.64101,-65.64101,-65.64101,-65.64101,-65.64101,-65.64101,-65.64101,-65.64101,-65.64101,-65.64101,-65.64101,-65.64101,-65.64101,-65.64101,-65.64101,-65.64101,-65.64101,-65.64101,-65.64101,-65.64101,-65.64101,-65.64101,-65.64101,-65.64101,-65.64101,-65.64101,-65.64101,-65.64101,-65.64101,-65.64101,-65.64101,-65.64101,-65.64101,-65.64101,-65.64101,-65.64101,-65.64101,-65.64101,-65.64101,-65.64101,-65.64101,-65.64101,-65.64101,-65.64101,-65.64101,-65.64101,-65.64101,-65.64101,-65.64101,-65.64101,-65.64101,-65.64101,-65.64101,-65.64101,-65.64101,-65.64101,-65.64101,-65.64101,-65.64101,-65.64101,-65.64101,-65.64101,-65.64101,-65.64101,-65.64101,-65.64101,-65.64101,-65.64101,-65.64101,-65.64101,-65.64101,-65.64101,-65.64101,-65.64101,-65.64101,-65.64101,-65.64101,-65.64101,-65.64101,-65.64101,-65.64101,-65.64101,-65.64101,-65.64101,-65.64101,-65.64101,-65.64101,-65.64101,-65.64101,-65.64101,-65.64101,-65.64101,-65.64101,-65.64101,-65.64101,-65.64101,-65.64101,-65.64101,-65.64101,-65.64101,-65.64101,-65.64101,-65.64101,-65.64101,-65.64101,-65.64101,-65.64101,-65.64101,-65.64101,-65.64101,-65.64101,-65.64101,-65.64101,-65.64101,-65.64101,-65.64101,-65.64101,-65.64101,-65.64101,-65.64101,-65.64101,-65.64101,-65.64101,-65.64101,-65.64101,-65.64101,-65.64101,-65.64101,-65.64101,-65.64101,-65.64101,-65.64101,-65.64101,-65.64101,-65.64101,-65.64101,-65.64101,-65.64101,-65.64101,-65.64101,-65.64101,-65.64101,-65.64101,-65.64101,-65.64101,-65.64101,-65.64101,-65.64101,-65.64101,-65.64101,-65.64101,-65.64101,-65.64101,-65.64101,-65.64101,-65.64101,-65.64101,-65.64101,-65.64101,-65.64101,-65.64101,-65.64101,-65.64101,-65.64101,-65.64101,-65.64101,-65.64101,-65.64101,-65.64101,-65.64101,-65.64101,-65.64101,-65.64101,-65.64101,-65.64101,-65.64101,-65.64101,-65.64101,-65.64101,-65.64101,-65.64101,-65.64101,-65.64101,-65.64101,-65.64101,-65.64101,-65.64101,-65.64101,-65.64101,-65.64101,-65.64101,-65.64101,-65.64101,-65.64101,-65.64101,-65.64101,-65.64101,-65.64101,-65.64101,-65.64101,-65.64101,-65.64101,-65.64101,-65.64101,-65.64101,-65.64101,-65.64101,-65.64101,-65.64101,-65.64101,-65.64101,-65.64101,-65.64101,-65.64101,-65.64101,-65.64101,-65.64101,-65.64101,-65.64101,-65.64101,-65.64101,-65.64101,-65.64101,-65.64101,-65.64101,-65.64101,-65.64101,-65.64101,-65.64101,-65.64101,-65.64101,-65.64101,-65.64101,-65.64101,-65.64101,-65.64101,-65.64101,-65.64101,-65.64101,-65.64101,-65.64101,-65.64101,-65.64101,-65.64101,-65.64101,-65.64101,-65.64101,-65.64101,-65.64101,-65.64101,-65.64101,-65.64101,-65.64101,-65.64101,-65.64101,-65.64101,-65.64101,-65.64101,-65.64101,-65.64101,-65.64101,-65.64101,-65.64101,-65.64101,-65.64101,-65.64101,-65.64101,-65.64101,-65.64101,-65.64101,-65.64101,-65.64101,-65.64101,-65.64101,-65.64101,-65.64101,-65.64101,-65.64101,-65.64101,-65.64101,-65.64101,-65.64101,-65.64101,-65.64101,-65.64101,-65.64101,-65.64101,-65.64101,-65.64101,-65.64101,-65.64101,-65.64101,-65.64101,-65.64101,-65.64101,-65.64101,-65.64101,-65.64101,-65.64101,-65.64101,-65.64101,-65.64101,-65.64101,-65.64101,-65.64101,-65.64101,-65.64101,-65.64101,-65.64101,-65.64101,-65.64101,-65.64101,-65.64101,-65.64101,-65.64101,-65.64101,-65.64101,-65.64101,-65.64101,-65.64101,-65.64101,-65.64101,-65.64101,-65.64101,-65.64101,-65.64101,-65.64101,-65.64101,-65.64101,-65.64101,-65.64101,-65.64101,-65.64101,-65.64101,-65.64101,-65.64101,-65.64101,-65.64101,-65.64101,-65.64101,-65.64101,-65.64101,-65.64101,-65.64101,-65.64101,-65.64101,-65.64101,-65.64101,-65.64101,-65.64101,-65.64101,-65.64101,-65.64101,-65.64101,-65.64101,-65.64101,-65.64101,-65.64101,-65.64101,-65.64101,-65.64101,-65.64101,-65.64101,-65.64101,-65.64101,-65.64101,-65.64101,-65.64101,-65.64101,-65.64101,-65.64101,-65.64101,-65.64101,-65.64101,-65.64101,-65.64101,-65.64101,-65.64101,-65.64101,-65.64101,-65.64101,-65.64101,-65.64101,-65.64101,-65.64101,-65.64101,-65.64101,-65.64101,-65.64101,-65.64101,-65.64101,-65.64101,-65.64101,-65.64101,-65.64101,-65.64101,-65.64101,-65.64101,-65.64101,-65.64101,-65.64101,-65.64101,-65.64101,-65.64101,-65.64101,-65.64101,-65.64101,-65.64101,-65.64101,-65.64101,-65.64101,-65.64101,-65.64101,-65.64101,-65.64101,-65.64101,-65.64101,-65.64101,-65.64101,-65.64101,-65.64101,-65.64101,-65.64101,-65.64101,-65.64101,-65.64101,-65.64101,-65.64101,-65.64101,-65.64101,-65.64101,-65.64101,-65.64101,-65.64101,-65.64101,-65.64101,-65.64101,-65.64101,-65.64101,-65.64101,-65.64101,-65.64101,-65.64101,-65.64101,-65.64101,-65.64101,-65.64101,-65.64101,-65.64101,-65.64101,-65.64101,-65.64101,-65.64101,-65.64101,-65.64101,-65.64101,-65.64101,-65.64101,-65.64101,-65.64101,-65.64101,-65.64101,-65.64101,-65.64101,-65.64101,-65.64101,-65.64101,-65.64101,-65.64101,-65.64101,-65.64101,-65.64101,-65.64101,-65.64101,-65.64101,-65.64101,-65.64101,-65.64101,-65.64101,-65.64101,-65.64101,-65.64101,-65.64101,-65.64101,-65.64101,-65.64101,-65.64101,-65.64101,-65.64101,-65.64101,-65.64101,-65.64101,-65.64101,-65.64101,-65.64101,-65.64101,-65.64101,-65.64101,-65.64101,-65.64101,-65.64101,-65.64101,-65.64101,-65.64101,-65.64101,-65.64101,-65.64101,-65.64101,-65.64101,-65.64101,-65.64101,-65.64101,-65.64101,-65.64101,-65.64101,-65.64101,-65.64101,-65.64101,-65.64101,-65.64101,-65.64101,-65.64101,-65.64101,-65.64101,-65.64101,-65.64101,-65.64101,-65.64101,-65.64101,-65.64101,-65.64101,-65.64101,-65.64101,-65.64101,-65.64101,-65.64101,-65.64101,-65.64101,-65.64101,-65.64101,-65.64101,-65.64101,-65.64101,-65.64101,-65.64101,-65.64101,-65.64101,-65.64101,-65.64101,-65.64101,-65.64101,-65.64101,-65.64101,-65.64101,-65.64101,-65.64101,-65.64101,-65.64101,-65.64101,-65.64101,-65.64101,-65.64101,-65.64101,-65.64101,-65.64101,-65.64101,-65.64101,-65.64101,-65.64101,-65.64101,-65.64101,-65.64101,-65.64101,-65.64101,-65.64101,-65.64101,-65.64101,-65.64101,-65.64101,-65.64101,-65.64101,-65.64101,-65.64101,-65.64101,-65.64101,-65.64101,-65.64101,-65.64101,-65.64101,-65.64101,-65.64101,-65.64101,-65.64101,-65.64101,-65.64101,-65.64101,-65.64101,-65.64101,-65.64101,-65.64101,-65.64101,-65.64101,-65.64101,-65.64101,-65.64101,-65.64101,-65.64101,-65.64101,-65.64101,-65.64101,-65.64101,-65.64101,-65.64101,-65.64101,-65.64101,-65.64101,-65.64101,-65.64101,-65.64101,-65.64101,-65.64101,-65.64101,-65.64101,-65.64101,-65.64101,-65.64101,-65.64101,-65.64101,-65.64101,-65.64101,-65.64101,-65.64101,-65.64101,-65.64101,-65.64101,-65.64101,-65.64101,-65.64101,-65.64101,-65.64101,-65.64101,-65.64101,-65.64101,-65.64101,-65.64101,-65.64101,-65.64101,-65.64101,-65.64101,-65.64101,-65.64101,-65.64101,-65.64101,-65.64101,-65.64101,-65.64101,-65.64101,-65.64101,-65.64101,-65.64101,-65.64101,-65.64101,-65.64101,-65.64101,-65.64101,-65.64101,-65.64101,-65.64101,-65.64101,-65.64101,-65.64101,-65.64101,-65.64101,-65.64101,-65.64101,-65.64101,-65.64101,-65.64101,-65.64101,-65.64101,-65.64101,-65.64101,-65.64101,-65.64101,-65.64101,-65.64101,-65.64101,-65.64101,-65.64101,-65.64101,-65.64101,-65.64101,-65.64101,-65.64101,-65.64101,-65.64101,-65.64101,-65.64101,-65.64101,-65.64101,-65.64101,-65.64101,-65.64101,-65.64101,-65.64101,-65.64101,-65.64101,-65.64101,-65.64101,-65.64101,-65.64101,-65.64101,-65.64101,-65.64101,-65.64101,-65.64101,-65.64101,-65.64101,-65.64101,-65.64101,-65.64101,-65.64101,-65.64101,-65.64101,-65.64101,-65.64101,-65.64101,-65.64101,-65.64101,-65.64101,-65.64101,-65.64101,-65.64101,-65.64101,-65.64101,-65.64101,-65.64101,-65.64101,-65.64101,-65.64101,-65.64101,-65.64101,-65.64101,-65.64101,-65.64101,-65.64101,-65.64101,-65.64101,-65.64101,-65.64101,-65.64101,-65.64101,-65.64101,-65.64101,-65.64101,-65.64101,-65.64101,-65.64101,-65.64101,-65.64101,-65.64101,-65.64101,-65.64101,-65.64101,-65.64101,-65.64101,-65.64101,-65.64101,-65.64101,-65.64101,-65.64101,-65.6408107,-65.64101,-65.64101,-65.64101,-65.64101,-65.64101,-65.64101,-65.64101,-65.64101,-65.64101,-65.64101,-65.64101,-65.64101,-65.64101,-65.64101,-65.64101,-65.64101,-65.64101,-65.64101,-65.64101,-65.64101,-65.64101,-65.64101,-65.64101,-65.64101,-65.64101,-65.64101,-65.64101,-65.64101,-65.64101,-65.64101,-65.64101,-65.64101,-65.64101,-65.64101,-65.64101,-65.64101,-65.64101,-65.64101,-65.64101,-65.64101,-65.64101,-65.64101,-65.64101,-65.64101,-65.64101,-65.64101,-65.64101,-65.64101,-65.64101,-65.64101,-65.64101,-65.64101,-65.64101,-65.64101,-65.64101,-65.64101,-65.64101,-65.64101,-65.64101,-65.64101,-65.64101,-65.64101,-65.64101,-65.64101,-65.64101,-65.64101,-65.64101,-65.64101,-65.64101,-65.64101,-65.64101,-65.64101,-65.64101,-65.64101,-65.64101,-65.64101,-65.64101,-65.64101,-65.64101,-65.64101,-65.64101,-65.64101,-65.64101,-65.64101,-65.64101,-65.64101,-65.64101,-65.64101,-65.64101,-65.64101,-65.64101,-65.64101,-65.64101,-65.64101,-65.64101,-65.64101,-65.64101,-65.64101,-65.64101,-65.64101,-65.64101,-65.64101,-65.64101,-65.64101,-65.64101,-65.64101,-65.64101,-65.64101,-65.64101,-65.64101,-65.64101,-65.64101,-65.64101,-65.64101,-65.64101,-65.64101,-65.64101,-65.64101,-65.64101,-65.64101,-65.64101,-65.64101,-65.64101,-65.64101,-65.64101,-65.64101,-65.64101,-65.64101,-65.64101,-65.64101,-65.64101,-65.64101,-65.64101,-65.64101,-65.64101,-65.64101,-65.64101,-65.64101,-65.64101,-65.64101,-65.64101,-65.64101,-65.64101,-65.64101,-65.64101,-65.64101,-65.64101,-65.64101,-65.64101,-65.64101,-65.64101,-65.64101,-65.64101,-65.64101,-65.64101,-65.64101,-65.64101,-65.64101,-65.64101,-65.64101,-65.64101,-65.64101,-65.64101,-65.64101,-65.64101,-65.64101,-65.64101,-65.64101,-65.64101,-65.64101,-65.64101,-65.64101,-65.64101,-65.64101,-65.64101,-65.64101,-65.64101,-65.64101,-65.64101,-65.64101,-65.64101,-65.64101,-65.64101,-65.64101,-65.64101,-65.64101,-65.64101,-65.64101,-65.64101,-65.64101,-65.64101,-65.64101,-65.64101,-65.64101,-65.64101,-65.64101,-65.64101,-65.64101,-65.64101,-65.64101,-65.64101,-65.64101,-65.64101,-65.64101,-65.64101,-65.64101,-65.64101,-65.64101,-65.64101,-65.64101,-65.64101,-65.64101,-65.64101,-65.64101,-65.64101,-65.64101,-65.64101,-65.64101,-65.64101,-65.64101,-65.64101,-65.64101,-65.64101,-65.64101,-65.64101,-65.64101,-65.64101,-65.64101,-65.64101,-65.64101,-65.64101,-65.64101,-65.64101,-65.64101,-65.64101,-65.64101,-65.64101,-65.64101,-65.64101,-65.64101,-65.64101,-65.64101,-65.64101,-65.64101,-65.64101,-65.64101,-65.64101,-65.64101,-65.64101,-65.64101,-65.64101,-65.64101,-65.64101,-65.64101,-65.64101,-65.64101,-65.64101,-65.64101,-65.64101,-65.64101,-65.64101,-65.64101,-65.64101,-65.64101,-65.64101,-65.64101,-65.64101,-65.64101,-65.64101,-65.64101,-65.64101,-65.64101,-65.64101,-65.64101,-65.64101,-65.64101,-65.64101,-65.64101,-65.64101,-65.64101,-65.64101,-65.64101,-65.64101,-65.64101,-65.64101,-65.64101,-65.64101,-65.64101,-65.64101,-65.64101,-65.64101,-65.64101,-65.64101,-65.64101,-65.64101,-65.64101,-65.64101,-65.64101,-65.64101,-65.64101,-65.64101,-65.64101,-65.64101,-65.64101,-65.64101,-65.64101,-65.64101,-65.64101,-65.64101,-65.64101,-65.64101,-65.64101,-65.64101,-65.64101,-65.64101,-65.64101,-65.64101,-65.64101,-65.64101,-65.64101,-65.64101,-65.64101,-65.64101,-65.64101,-65.64101,-65.64101,-65.64101,-65.64101,-65.64101,-65.64101,-65.64101,-65.64101,-65.64101,-65.64101,-65.64101,-65.64101,-65.64101,-65.64101,-65.64101,-65.64101,-65.64101,-65.64101,-65.64101,-65.64101,-65.64101,-65.64101,-65.64101,-65.64101,-65.64101,-65.64101,-65.64101,-65.64101,-65.64101,-65.64101,-65.64101,-65.64101,-65.64101,-65.64101,-65.64101,-65.64101,-65.64101,-65.64101,-65.64101,-65.64101,-65.64101,-65.64101,-65.64101,-65.64101,-65.64101,-65.64101,-65.64101,-65.64101,-65.64101,-65.64101,-65.64101,-65.64101,-65.64101,-65.64101,-65.64101,-65.64101,-65.64101,-65.64101,-65.64101,-65.64101,-65.64101,-65.64101,-65.64101,-65.64101,-65.6408107,-65.64101,-65.64101,-65.6408107,-65.64101,-65.64101,-65.64101,-65.64101,-65.64101,-65.64101,-65.64101,-65.64101,-65.6408107,-65.64101,-65.64101,-65.64101,-65.64101,-65.64101,-65.64101,-65.64101,-65.64101,-65.64101,-65.6408107,-65.64101,-65.64101,-65.64101,-65.64101,-65.64101,-65.64101,-65.64101,-65.64101,-65.64101,-65.64101,-65.64101,-65.64101,-65.64101,-65.64101,-65.64101,-65.64101,-65.64101,-65.64101,-65.64101,-65.6408107,-65.64101,-65.64101,-65.64101,-65.6408107,-65.64101,-65.64101,-65.64101,-65.64101,-65.64101,-65.64101,-65.64101,-65.64101,-65.64101,-65.64101,-65.64101,-65.64101,-65.64101,-65.64101,-65.64101,-65.64101,-65.64101,-65.64101,-65.64101,-65.64101,-65.64101,-65.64101,-65.64101,-65.64101,-65.64101,-65.6408107,-65.64101,-65.64101,-65.64101,-65.6408107,-65.64101,-65.6408107,-65.64101,-65.64101,-65.64101,-65.64101,-65.64101,-65.64101,-65.64101,-65.64101,-65.64101,-65.64101,-65.64101,-65.64101,-65.64101,-65.64101,-65.64101,-65.64101,-65.64101,-65.64101,-65.64101,-65.64101,-65.64101,-65.64101,-65.64101,-65.64101,-65.64101,-65.64101,-65.64101,-65.64101,-65.64101,-65.64101,-65.64101,-65.64101,-65.64101,-65.64101,-65.64101,-65.64101,-65.64101,-65.64101,-65.64101,-65.64101,-65.64101,-65.64101,-65.64101,-65.64101,-65.64101,-65.64101,-65.64101,-65.64101,-65.64101,-65.64101,-65.64101,-65.64101,-65.64101,-65.64101,-65.64101,-65.64101,-65.64101,-65.64101,-65.64101,-65.64101,-65.64101,-65.64101,-65.64101,-65.64101,-65.64101,-65.64101,-65.64101,-65.64101,-65.64101,-65.64101,-65.64101,-65.64101,-65.64101,-65.64101,-65.64101,-65.64101,-65.64101,-65.64101,-65.64101,-65.64101,-65.64101,-65.64101,-65.64101,-65.64101,-65.64101,-65.64101,-65.64101,-65.64101,-65.64101,-65.64101,-65.64101,-65.64101,-65.64101,-65.64101,-65.64101,-65.64101,-65.64101,-65.64101,-65.64101,-65.64101,-65.64101,-65.64101,-65.64101,-65.64101,-65.64101,-65.64101,-65.64101,-65.64101,-65.64101,-65.64101,-65.64101,-65.64101,-65.64101,-65.64101,-65.64101,-65.64101,-65.64101,-65.64101,-65.6408107,-65.64101,-65.64101,-65.64101,-65.64101,-65.64101,-65.64101,-65.64101,-65.64101,-65.6408107,-65.64101,-65.64101,-65.64101,-65.64101,-65.64101,-65.64101,-65.64101,-65.64101,-65.64101,-65.64101,-65.64101,-65.64101,-65.64101,-65.64101,-65.64101,-65.64101,-65.64101,-65.64101,-65.64101,-65.64101,-65.64101,-65.64101,-65.64101,-65.64101,-65.64101,-65.64101,-65.64101,-65.64101,-65.64101,-65.64101,-65.64101,-65.64101,-65.64101,-65.64101,-65.64101,-65.64101,-65.64101,-65.64101,-65.6408107,-65.64101,-65.64101,-65.64101,-65.64101,-65.64101,-65.64101,-65.64101,-65.64101,-65.6408107,-65.64101,-65.64101,-65.64101,-65.64101,-65.64101,-65.64101,-65.64101,-65.64101,-65.64101,-65.64101,-65.64101,-65.64101,-65.64101,-65.64101,-65.64101,-65.64101,-65.64101,-65.64101,-65.64101,-65.64101,-65.64101,-65.64101,-65.64101,-65.64101,-65.64101,-65.64101,-65.64101,-65.64101,-65.64101,-65.64101,-65.64101,-65.64101,-65.64101,-65.64101,-65.64101,-65.64101,-65.64101,-65.64101,-65.64101,-65.64101,-65.64101,-65.64101,-65.64101,-65.64101,-65.64101,-65.64101,-65.64101,-65.64101,-65.64101,-65.64101,-65.64101,-65.64101,-65.64101,-65.64101,-65.64101,-65.64101,-65.64101,-65.64101,-65.64101,-65.64101,-65.64101,-65.64101,-65.64101,-65.64101,-65.64101,-65.64101,-65.64101,-65.64101,-65.64101,-65.64101,-65.64101,-65.64101,-65.64101,-65.64101,-65.64101,-65.64101,-65.64101,-65.64101,-65.64101,-65.64101,-65.64101,-65.64101,-65.64101,-65.64101,-65.64101,-65.64101,-65.64101,-65.64101,-65.64101,-65.64101,-65.64101,-65.64101,-65.64101,-65.64101,-65.64101,-65.64101,-65.64101,-65.64101,-65.64101,-65.64101,-65.64101,-65.64101,-65.64101,-65.64101,-65.64101,-65.64101,-65.64101,-65.64101,-65.64101,-65.64101,-65.64101,-65.64101,-65.64101,-65.64101,-65.64101,-65.64101,-65.64101,-65.64101,-65.64101,-65.64101,-65.64101,-65.64101,-65.64101,-65.64101,-65.64101,-65.64101,-65.64101,-65.64101,-65.64101,-65.64101,-65.64101,-65.64101,-65.64101,-65.64101,-65.64101,-65.64101,-65.64101,-65.64101,-65.64101,-65.64101,-65.64101,-65.64101,-65.64101,-65.64101,-65.64101,-65.64101,-65.64101,-65.64101,-65.64101,-65.64101,-65.64101,-65.64101,-65.64101,-65.64101,-65.64101,-65.64101,-65.64101,-65.64101,-65.64101,-65.64101,-65.64101,-65.64101,-65.64101,-65.64101,-65.64101,-65.64101,-65.64101,-65.64101,-65.64101,-65.64101,-65.64101,-65.64101,-65.64101,-65.64101,-65.64101,-65.64101,-65.64101,-65.64101,-65.64101,-65.64101,-65.64101,-65.64101,-65.64101,-65.64101,-65.64101,-65.64101,-65.64101,-65.64101,-65.64101,-65.64101,-65.64101,-65.64101,-65.64101,-65.64101,-65.64101,-65.64101,-65.64101,-65.64101,-65.6408107,-65.64101,-65.64101,-65.64101,-65.64101,-65.64101,-65.64101,-65.64101,-65.64101,-65.64101,-65.64101,-65.64101,-65.64101,-65.64101,-65.64101,-65.64101,-65.64101,-65.64101,-65.64101,-65.64101,-65.64101,-65.64101,-65.64101,-65.64101,-65.64101,-65.64101,-65.64101,-65.64101,-65.64101,-65.64101,-65.64101,-65.6408107,-65.64101,-65.64101,-65.64101,-65.64101,-65.64101,-65.64101,-65.64101,-65.64101,-65.64101,-65.64101,-65.64101,-65.64101,-65.64101,-65.64101,-65.64101,-65.64101,-65.64101,-65.64101,-65.64101,-65.64101,-65.64101,-65.64101,-65.64101,-65.64101,-65.64101,-65.64101,-65.64101,-65.64101,-65.64101,-65.64101,-65.64101,-65.64101,-65.64101,-65.64101,-65.64101,-65.64101,-65.64101,-65.64101,-65.64101,-65.64101,-65.64101,-65.64101,-65.64101,-65.64101,-65.64101,-65.64101,-65.64101,-65.64101,-65.64101,-65.64101,-65.64101,-65.64101,-65.64101,-65.64101,-65.64101,-65.64101,-65.64101,-65.64101,-65.64101,-65.64101,-65.64101,-65.64101,-65.64101,-65.64101,-65.64101,-65.64101,-65.64101,-65.64101,-65.64101,-65.64101,-65.64101,-65.64101,-65.64101,-65.64101,-65.64101,-65.64101,-65.6408107,-65.64101,-65.64101,-65.64101,-65.64101,-65.64101,-65.64101,-65.64101,-65.64101,-65.64101,-65.64101,-65.64101,-65.64101,-65.6408107,-65.6408107,-65.64101,-65.64101,-65.64101,-65.64101,-65.64101,-65.6408107,-65.64101,-65.64101,-65.6408107,-65.64101,-65.64101,-65.64101,-65.64101,-65.64101,-65.64101,-65.64101,-65.64101,-65.64101,-65.64101,-65.64101,-65.64101,-65.64101,-65.64101,-65.64101,-65.64101,-65.64101,-65.64101,-65.64101,-65.64101,-65.64101,-65.64101,-65.64101,-65.64101,-65.64101,-65.64101,-65.64101,-65.64101,-65.64101,-65.64101,-65.64101,-65.64101,-65.64101,-65.64101,-65.64101,-65.64101,-65.64101,-65.64101,-65.64101,-65.64101,-65.64101,-65.64101,-65.64101,-65.64101,-65.64101,-65.64101,-65.64101,-65.64101,-65.64101,-65.64101,-65.64101,-65.64101,-65.64101,-65.64101,-65.64101,-65.64101,-65.64101,-65.64101,-65.64101,-65.64101,-65.64101,-65.64101,-65.64101,-65.64101,-65.64101,-65.64101,-65.64101,-65.64101,-65.64101,-65.64101,-65.64101,-65.64101,-65.64101,-65.64101,-65.64101,-65.64101,-65.64101,-65.64101,-65.64101,-65.64101,-65.64101,-65.64101,-65.64101,-65.64101,-65.64101,-65.64101,-65.64101,-65.64101,-65.64101,-65.64101,-65.64101,-65.64101,-65.64101,-65.64101,-65.64101,-65.64101,-65.64101,-65.64101,-65.64101,-65.64101,-65.64101,-65.64101,-65.64101,-65.64101,-65.64101,-65.64101,-65.64101,-65.64101,-65.64101,-65.64101,-65.64101,-65.64101,-65.64101,-65.64101,-65.64101,-65.64101,-65.6408107,-65.64101,-65.64101,-65.64101,-65.64101,-65.64101,-65.64101,-65.64101,-65.64101,-65.64101,-65.64101,-65.64101,-65.64101,-65.64101,-65.64101,-65.64101,-65.64101,-65.64101,-65.64101,-65.64101,-65.64101,-65.64101,-65.64101,-65.64101,-65.6408107,-65.64101,-65.64101,-65.64101,-65.64101,-65.64101,-65.64101,-65.64101,-65.64101,-65.64101,-65.64101,-65.64101,-65.64101,-65.64101,-65.64101,-65.64101,-65.64101,-65.64101,-65.64101,-65.64101,-65.64101,-65.64101,-65.64101,-65.64101,-65.64101,-65.64101,-65.64101,-65.64101,-65.64101,-65.64101,-65.64101,-65.64101,-65.64101,-65.64101,-65.64101,-65.6408107,-65.64101,-65.64101,-65.64101,-65.64101,-65.64101,-65.64101,-65.64101,-65.64101,-65.64101,-65.64101,-65.64101,-65.64101,-65.64101,-65.64101,-65.64101,-65.64101,-65.64101,-65.64101,-65.64101,-65.64101,-65.64101,-65.64101,-65.64101,-65.64101,-65.64101,-65.64101,-65.64101,-65.64101,-65.64101,-65.64101,-65.64101,-65.64101,-65.64101,-65.64101,-65.64101,-65.64101,-65.64101,-65.64101,-65.64101,-65.64101,-65.64101,-65.64101,-65.64101,-65.64101,-65.64101,-65.64101,-65.64101,-65.64101,-65.64101,-65.64101,-65.64101,-65.64101,-65.64101,-65.64101,-65.64101,-65.64101,-65.64101,-65.64101,-65.64101,-65.64101,-65.64101,-65.64101,-65.64101,-65.64101,-65.64101,-65.64101,-65.64101,-65.64101,-65.64101,-65.64101,-65.64101,-65.64101,-65.64101,-65.64101,-65.64101,-65.64101,-65.64101,-65.64101,-65.64101,-65.64101,-65.6408107,-65.64101,-65.64101,-65.64101,-65.64101,-65.64101,-65.64101,-65.64101,-65.64101,-65.64101,-65.64101,-65.64101,-65.64101,-65.64101,-65.64101,-65.64101,-65.64101,-65.64101,-65.64101,-65.64101,-65.64101,-65.64101,-65.64101,-65.64101,-65.64101,-65.64101,-65.64101,-65.64101,-65.64101,-65.64101,-65.64101,-65.64101,-65.64101,-65.64101,-65.64101,-65.64101,-65.64101,-65.64101,-65.64101,-65.64101,-65.64101,-65.64101,-65.64101,-65.64101,-65.64101,-65.64101,-65.64101,-65.64101,-65.64101,-65.64101,-65.64101,-65.64101,-65.64101,-65.64101,-65.64101,-65.64101,-65.64101,-65.64101,-65.64101,-65.64101,-65.64101,-65.6408107,-65.64101,-65.64101,-65.64101,-65.64101,-65.64101,-65.64101,-65.64101,-65.64101,-65.64101,-65.64101,-65.64101,-65.64101,-65.64101,-65.64101,-65.64101,-65.64101,-65.64101,-65.64101,-65.64101,-65.64101,-65.64101,-65.64101,-65.64101,-65.64101,-65.64101,-65.64101,-65.64101,-65.64101,-65.64101,-65.64101,-65.64101,-65.64101,-65.64101,-65.64101,-65.64101,-65.64101,-65.64101,-65.64101,-65.64101,-65.64101,-65.64101,-65.64101,-65.64101,-65.64101,-65.64101,-65.64101,-65.64101,-65.64101,-65.64101,-65.64101,-65.64101,-65.64101,-65.64101,-65.64101,-65.64101,-65.64101,-65.64101,-65.64101,-65.64101,-65.64101,-65.64101,-65.64101,-65.64101,-65.64101,-65.64101,-65.64101,-65.64101,-65.64101,-65.64101,-65.64101,-65.64101,-65.64101,-65.64101,-65.64101,-65.64101,-65.64101,-65.64101,-65.64101,-65.64101,-65.64101,-65.64101,-65.64101,-65.64101,-65.64101,-65.64101,-65.64101,-65.64101,-65.64101,-65.64101,-65.64101,-65.64101,-65.64101,-65.64101,-65.64101,-65.64101,-65.64101,-65.64101,-65.64101,-65.64101,-65.64101,-65.64101,-65.64101,-65.64101,-65.64101,-65.64101,-65.64101,-65.64101,-65.64101,-65.64101,-65.64101,-65.64101,-65.64101,-65.64101,-65.64101,-65.64101,-65.64101,-65.64101,-65.64101,-65.64101,-65.64101,-65.64101,-65.64101,-65.64101,-65.64101,-65.64101,-65.64101,-65.64101,-65.64101,-65.64101,-65.64101,-65.64101,-65.64101,-65.64101,-65.64101,-65.64101,-65.64101,-65.64101,-65.64101,-65.64101,-65.64101,-65.64101,-65.64101,-65.64101,-65.64101,-65.64101,-65.64101,-65.64101,-65.64101,-65.64101,-65.64101,-65.64101,-65.64101,-65.64101,-65.64101,-65.64101,-65.64101,-65.64101,-65.64101,-65.64101,-65.64101,-65.64101,-65.64101,-65.64101,-65.64101,-65.64101,-65.64101,-65.64101,-65.64101,-65.64101,-65.64101,-65.64101,-65.64101,-65.64101,-65.64101,-65.64101,-65.64101,-65.64101,-65.64101,-65.64101,-65.64101,-65.64101,-65.64101,-65.64101,-65.64101,-65.64101,-65.64101,-65.64101,-65.64101,-65.64101,-65.64101,-65.64101,-65.64101,-65.64101,-65.64101,-65.64101,-65.64101,-65.64101,-65.64101,-65.64101,-65.64101,-65.64101,-65.64101,-65.64101,-65.64101,-65.64101,-65.64101,-65.64101,-65.64101,-65.64101,-65.64101,-65.64101,-65.64101,-65.64101,-65.64101,-65.64101,-65.64101,-65.64101,-65.64101,-65.64101,-65.64101,-65.64101,-65.64101,-65.64101,-65.64101,-65.64101,-65.64101,-65.64101,-65.64101,-65.64101,-65.64101,-65.64101,-65.64101,-65.64101,-65.64101,-65.64101,-65.64101,-65.64101,-65.64101,-65.64101,-65.64101,-65.64101,-65.64101,-65.64101,-65.64101,-65.64101,-65.64101,-65.64101,-65.64101,-65.64101,-65.64101,-65.64101,-65.64101,-65.64101,-65.64101,-65.64101,-65.64101,-65.64101,-65.64101,-65.64101,-65.64101,-65.64101,-65.64101,-65.64101,-65.64101,-65.64101,-65.64101,-65.64101,-65.64101,-65.64101,-65.64101,-65.64101,-65.64101,-65.64101,-65.64101,-65.64101,-65.64101,-65.64101,-65.64101,-65.64101,-65.64101,-65.64101,-65.64101,-65.64101,-65.64101,-65.64101,-65.64101,-65.64101,-65.64101,-65.64101,-65.64101,-65.64101,-65.64101,-65.64101,-65.64101,-65.64101,-65.64101,-65.64101,-65.64101,-65.64101,-65.64101,-65.64101,-65.64101,-65.64101,-65.64101,-65.64101,-65.64101,-65.64101,-65.64101,-65.64101,-65.64101,-65.64101,-65.64101,-65.64101,-65.64101,-65.64101,-65.64101,-65.64101,-65.64101,-65.64101,-65.64101,-65.64101,-65.64101,-65.64101,-65.64101,-65.64101,-65.64101,-65.64101,-65.64101,-65.64101,-65.64101,-65.64101,-65.64101,-65.64101,-65.64101,-65.64101,-65.64101,-65.64101,-65.64101,-65.64101,-65.64101,-65.64101,-65.64101,-65.64101,-65.64101,-65.64101,-65.64101,-65.64101,-65.64101,-65.64101,-65.64101,-65.64101,-65.64101,-65.64101,-65.64101,-65.64101,-65.64101,-65.64101,-65.64101,-65.64101,-65.64101,-65.64101,-65.64101,-65.64101,-65.64101,-65.64101,-65.64101,-65.64101,-65.64101,-65.6408107,-65.64101,-65.64101,-65.64101,-65.64101,-65.64101,-65.64101,-65.64101,-65.64101,-65.64101,-65.64101,-65.64101,-65.64101,-65.64101,-65.64101,-65.64101,-65.64101,-65.64101,-65.64101,-65.64101,-65.64101,-65.64101,-65.64101,-65.64101,-65.64101,-65.64101,-65.64101,-65.64101,-65.64101,-65.64101,-65.64101,-65.64101,-65.64101,-65.64101,-65.64101,-65.64101,-65.64101,-65.64101,-65.64101,-65.64101,-65.64101,-65.64101,-65.64101,-65.64101,-65.64101,-65.64101,-65.64101,-65.64101,-65.64101,-65.64101,-65.64101,-65.64101,-65.64101,-65.64101,-65.64101,-65.64101,-65.64101,-65.64101,-65.64101,-65.64101,-65.64101,-65.64101,-65.64101,-65.64101,-65.64101,-65.64101,-65.64101,-65.64101,-65.64101,-65.64101,-65.64101,-65.64101,-65.64101,-65.64101,-65.64101,-65.64101,-65.64101,-65.64101,-65.64101,-65.64101,-65.64101,-65.64101,-65.64101,-65.64101,-65.64101,-65.64101,-65.64101,-65.64101,-65.64101,-65.64101,-65.64101,-65.64101,-65.64101,-65.64101,-65.64101,-65.64101,-65.64101,-65.64101,-65.64101,-65.64101,-65.64101,-65.64101,-65.64101,-65.64101,-65.64101,-65.64101,-65.64101,-65.64101,-65.64101,-65.64101,-65.64101,-65.64101,-65.64101,-65.64101,-65.64101,-65.64101,-65.64101,-65.64101,-65.64101,-65.64101,-65.64101,-65.64101,-65.64101,-65.64101,-65.64101,-65.64101,-65.64101,-65.64101,-65.64101,-65.64101,-65.64101,-65.64101,-65.64101,-65.64101,-65.64101,-65.64101,-65.64101,-65.64101,-65.64101,-65.64101,-65.64101,-65.64101,-65.64101,-65.64101,-65.64101,-65.64101,-65.64101,-65.64101,-65.64101,-65.64101,-65.64101,-65.64101,-65.64101,-65.64101,-65.64101,-65.64101,-65.64101,-65.64101,-65.64101,-65.64101,-65.64101,-65.64101,-65.64101,-65.64101,-65.64101,-65.64101,-65.64101,-65.64101,-65.64101,-65.64101,-65.64101,-65.64101,-65.64101,-65.64101,-65.64101,-65.64101,-65.64101,-65.64101,-65.64101,-65.64101,-65.64101,-65.64101,-65.64101,-65.64101,-65.64101,-65.6408107,-65.64101,-65.64101,-65.64101,-65.64101,-65.64101,-65.64101,-65.64101,-65.64101,-65.64101,-65.64101,-65.64101,-65.64101,-65.64101,-65.64101,-65.64101,-65.64101,-65.64101,-65.64101,-65.64101,-65.64101,-65.64101,-65.64101,-65.64101,-65.64101,-65.64101,-65.64101,-65.64101,-65.64101,-65.64101,-65.64101,-65.64101,-65.64101,-65.64101,-65.64101,-65.64101,-65.64101,-65.64101,-65.64101,-65.64101,-65.64101,-65.64101,-65.64101,-65.64101,-65.64101,-65.64101,-65.64101,-65.64101,-65.64101,-65.64101,-65.64101,-65.64101,-65.64101,-65.64101,-65.64101,-65.64101,-65.64101,-65.64101,-65.64101,-65.64101,-65.64101,-65.64101,-65.64101,-65.64101,-65.64101,-65.64101,-65.64101,-65.64101,-65.64101,-65.64101,-65.64101,-65.64101,-65.64101,-65.64101,-65.64101,-65.64101,-65.64101,-65.64101,-65.64101,-65.64101,-65.64101,-65.64101,-65.64101,-65.64101,-65.64101,-65.64101,-65.64101,-65.64101,-65.64101,-65.64101,-65.64101,-65.64101,-65.64101,-65.64101,-65.64101,-65.64101,-65.64101,-65.64101,-65.64101,-65.64101,-65.64101,-65.64101,-65.64101,-65.64101,-65.64101,-65.64101,-65.64101,-65.64101,-65.64101,-65.64101,-65.64101,-65.64101,-65.64101,-65.64101,-65.64101,-65.64101,-65.64101,-65.64101,-65.64101,-65.64101,-65.64101,-65.64101,-65.64101,-65.64101,-65.64101,-65.64101,-65.64101,-65.64101,-65.64101,-65.64101,-65.64101,-65.64101,-65.64101,-65.64101,-65.64101,-65.64101,-65.64101,-65.64101,-65.64101,-65.64101,-65.64101,-65.64101,-65.64101,-65.64101,-65.64101,-65.64101,-65.64101,-65.64101,-65.64101,-65.64101,-65.64101,-65.64101,-65.64101,-65.64101,-65.64101,-65.64101,-65.64101,-65.64101,-65.64101,-65.64101,-65.64101,-65.64101,-65.64101,-65.64101,-65.64101,-65.64101,-65.64101,-65.64101,-65.64101,-65.64101,-65.64101,-65.64101,-65.64101,-65.64101,-65.64101,-65.64101,-65.64101,-65.64101,-65.64101,-65.64101,-65.64101,-65.64101,-65.64101,-65.64101,-65.64101,-65.64101,-65.64101,-65.64101,-65.64101,-65.64101,-65.64101,-65.64101,-65.64101,-65.64101,-65.64101,-65.64101,-65.64101,-65.64101,-65.64101,-65.64101,-65.64101,-65.64101,-65.64101,-65.64101,-65.64101,-65.64101,-65.64101,-65.64101,-65.64101,-65.64101,-65.64101,-65.64101,-65.64101,-65.64101,-65.64101,-65.64101,-65.64101,-65.64101,-65.64101,-65.64101,-65.64101,-65.64101,-65.64101,-65.64101,-65.64101,-65.64101,-65.64101,-65.64101,-65.64101,-65.64101,-65.64101,-65.64101,-65.64101,-65.64101,-65.64101,-65.64101,-65.64101,-65.64101,-65.64101,-65.64101,-65.64101,-65.64101,-65.64101,-65.64101,-65.64101,-65.64101,-65.64101,-65.64101,-65.64101,-65.64101,-65.64101,-65.64101,-65.64101,-65.64101,-65.64101,-65.64101,-65.64101,-65.64101,-65.64101,-65.64101,-65.64101,-65.64101,-65.64101,-65.64101,-65.64101,-65.64101,-65.64101,-65.64101,-65.64101,-65.64101,-65.64101,-65.64101,-65.64101,-65.64101,-65.64101,-65.64101,-65.64101,-65.64101,-65.64101,-65.64101,-65.64101,-65.64101,-65.64101,-65.64101,-65.64101,-65.64101,-65.64101,-65.64101,-65.64101,-65.64101,-65.64101,-65.64101,-65.64101,-65.64101,-65.64101,-65.64101,-65.64101,-65.64101,-65.64101,-65.64101,-65.64101,-65.64101,-65.64101,-65.64101,-65.64101,-65.64101,-65.64101,-65.64101,-65.64101,-65.64101,-65.64101,-65.64101,-65.64101,-65.64101,-65.64101,-65.64101,-65.64101,-65.64101,-65.64101,-65.64101,-65.64101,-65.64101,-65.64101,-65.64101,-65.64101,-65.64101,-65.64101,-65.64101,-65.64101,-65.64101,-65.64101,-65.64101,-65.64101,-65.64101,-65.64101,-65.64101,-65.64101,-65.64101,-65.64101,-65.64101,-65.64101,-65.64101,-65.64101,-65.64101,-65.64101,-65.64101,-65.64101,-65.64101,-65.64101,-65.64101,-65.64101,-65.64101,-65.64101,-65.64101,-65.64101,-65.64101,-65.64101,-65.64101,-65.64101,-65.64101,-65.64101,-65.64101,-65.64101,-65.64101,-65.64101,-65.64101,-65.64101,-65.64101,-65.64101,-65.64101,-65.64101,-65.64101,-65.64101,-65.64101,-65.64101,-65.64101,-65.64101,-65.64101,-65.64101,-65.64101,-65.64101,-65.64101,-65.64101,-65.64101,-65.64101,-65.64101,-65.64101,-65.64101,-65.64101,-65.64101,-65.64101,-65.64101,-65.64101,-65.64101,-65.64101,-65.64101,-65.64101,-65.64101,-65.64101,-65.64101,-65.64101,-65.64101,-65.64101,-65.64101,-65.64101,-65.64101,-65.64101,-65.64101,-65.64101,-65.64101,-65.64101,-65.64101,-65.64101,-65.64101,-65.64101,-65.64101,-65.64101,-65.64101,-65.64101,-65.64101,-65.64101,-65.64101,-65.64101,-65.64101,-65.64101,-65.64101,-65.64101,-65.64101,-65.64101,-65.64101,-65.64101,-65.64101,-65.64101,-65.64101,-65.64101,-65.64101,-65.64101,-65.64101,-65.64101,-65.64101,-65.64101,-65.64101,-65.64101,-65.64101,-65.64101,-65.64101,-65.64101,-65.64101,-65.64101,-65.64101,-65.64101,-65.64101,-65.64101,-65.64101,-65.64101,-65.64101,-65.64101,-65.64101,-65.64101,-65.64101,-65.64101,-65.64101,-65.64101,-65.64101,-65.64101,-65.64101,-65.64101,-65.64101,-65.64101,-65.64101,-65.64101,-65.64101,-65.64101,-65.64101,-65.64101,-65.64101,-65.64101,-65.64101,-65.64101,-65.64101,-65.64101,-65.64101,-65.64101,-65.64101,-65.64101,-65.64101,-65.64101,-65.64101,-65.64101,-65.64101,-65.64101,-65.64101,-65.64101,-65.64101,-65.64101,-65.64101,-65.64101,-65.64101,-65.64101,-65.64101,-65.64101,-65.64101,-65.64101,-65.64101,-65.64101,-65.64101,-65.64101,-65.64101,-65.64101,-65.64101,-65.64101,-65.64101,-65.64101,-65.64101,-65.64101,-65.64101,-65.64101,-65.64101,-65.64101,-65.64101,-65.64101,-65.64101,-65.64101,-65.64101,-65.64101,-65.64101,-65.64101,-65.64101,-65.64101,-65.64101,-65.64101,-65.64101,-65.64101,-65.64101,-65.64101,-65.64101,-65.64101,-65.64101,-65.64101,-65.64101,-65.64101,-65.64101,-65.64101,-65.64101,-65.64101,-65.64101,-65.64101,-65.64101,-65.64101,-65.64101,-65.64101,-65.64101,-65.64101,-65.64101,-65.64101,-65.64101,-65.64101,-65.64101,-65.64101,-65.64101,-65.64101,-65.64101,-65.64101,-65.64101,-65.64101,-65.64101,-65.64101,-65.64101,-65.64101,-65.64101,-65.64101,-65.64101,-65.64101,-65.64101,-65.64101,-65.64101,-65.64101,-65.64101,-65.64101,-65.64101,-65.64101,-65.64101,-65.64101,-65.64101,-65.64101,-65.64101,-65.64101,-65.64101,-65.64101,-65.64101,-65.64101,-65.64101,-65.64101,-65.64101,-65.64101,-65.64101,-65.64101,-65.64101,-65.64101,-65.64101,-65.64101,-65.64101,-65.64101,-65.64101,-65.64101,-65.64101,-65.64101,-65.64101,-65.64101,-65.64101,-65.64101,-65.64101,-65.64101,-65.64101,-65.64101,-65.64101,-65.64101,-65.64101,-65.64101,-65.64101,-65.64101,-65.64101,-65.64101,-65.64101,-65.64101,-65.64101,-65.64101,-65.64101,-65.64101,-65.64101,-65.64101,-65.64101,-65.64101,-65.64101,-65.64101,-65.64101,-65.64101,-65.64101,-65.64101,-65.64101,-65.64101,-65.64101,-65.64101,-65.64101,-65.64101,-65.64101,-65.64101,-65.64101,-65.64101,-65.64101,-65.64101,-65.64101,-65.64101,-65.64101,-65.64101,-65.64101,-65.64101,-65.64101,-65.64101,-65.64101,-65.64101,-65.64101,-65.64101,-65.64101,-65.64101,-65.64101,-65.64101,-65.64101,-65.64101,-65.64101,-65.64101,-65.64101,-65.64101,-65.64101,-65.64101,-65.64101,-65.64101,-65.64101,-65.64101,-65.64101,-65.64101,-65.64101,-65.64101,-65.64101,-65.64101,-65.64101,-65.64101,-65.64101,-65.64101,-65.64101,-65.64101,-65.64101,-65.64101,-65.64101,-65.64101,-65.64101,-65.64101,-65.64101,-65.64101,-65.64101,-65.64101,-65.64101,-65.64101,-65.64101,-65.64101,-65.64101,-65.64101,-65.64101,-65.64101,-65.64101,-65.64101,-65.64101,-65.64101,-65.64101,-65.64101,-65.64101,-65.64101,-65.64101,-65.64101,-65.64101,-65.64101,-65.64101,-65.64101,-65.64101,-65.64101,-65.64101,-65.64101,-65.64101,-65.64101,-65.64101,-65.64101,-65.64101,-65.64101,-65.64101,-65.64101,-65.64101,-65.64101,-65.64101,-65.64101,-65.64101,-65.64101,-65.64101,-65.64101,-65.64101,-65.64101,-65.64101,-65.64101,-65.64101,-65.64101,-65.64101,-65.64101,-65.64101,-65.64101,-65.64101,-65.64101,-65.64101,-65.64101,-65.64101,-65.64101,-65.64101,-65.64101,-65.64101,-65.64101,-65.64101,-65.64101,-65.64101,-65.64101,-65.64101,-65.64101,-65.64101,-65.6408107,-65.64101,-65.64101,-65.64101,-65.64101,-65.64101,-65.64101,-65.64101,-65.64101,-65.64101,-65.64101,-65.64101,-65.64101,-65.64101,-65.64101,-65.64101,-65.64101,-65.64101,-65.64101,-65.64101,-65.64101,-65.64101,-65.64101,-65.64101,-65.64101,-65.64101,-65.64101,-65.64101,-65.64101,-65.64101,-65.64101,-65.64101,-65.64101,-65.64101,-65.64101,-65.64101,-65.64101,-65.64101,-65.64101,-65.6408107,-65.64101,-65.64101,-65.64101,-65.64101,-65.64101,-65.64101,-65.64101,-65.64101,-65.64101,-65.64101,-65.64101,-65.64101,-65.64101,-65.64101,-65.64101,-65.64101,-65.64101,-65.64101,-65.64101,-65.64101,-65.64101,-65.64101,-65.64101,-65.64101,-65.64101,-65.64101,-65.64101,-65.64101,-65.64101,-65.64101,-65.64101,-65.64101,-65.64101,-65.64101,-65.64101,-65.64101,-65.64101,-65.64101,-65.64101,-65.64101,-65.64101,-65.64101,-65.64101,-65.64101,-65.64101,-65.64101,-65.64101,-65.64101,-65.64101,-65.64101,-65.64101,-65.64101,-65.64101,-65.64101,-65.64101,-65.64101,-65.64101,-65.64101,-65.64101,-65.64101,-65.64101,-65.64101,-65.64101,-65.64101,-65.64101,-65.64101,-65.64101,-65.64101,-65.64101,-65.64101,-65.64101,-65.64101,-65.64101,-65.64101,-65.64101,-65.64101,-65.64101,-65.64101,-65.64101,-65.64101,-65.64101,-65.64101,-65.64101,-65.64101,-65.64101,-65.64101,-65.64101,-65.64101,-65.64101,-65.64101,-65.64101,-65.64101,-65.64101,-65.64101,-65.64101,-65.64101,-65.64101,-65.64101,-65.64101,-65.64101,-65.64101,-65.64101,-65.64101,-65.64101,-65.64101,-65.64101,-65.64101,-65.64101,-65.64101,-65.64101,-65.64101,-65.64101,-65.64101,-65.64101,-65.64101,-65.64101,-65.64101,-65.64101,-65.64101,-65.64101,-65.64101,-65.64101,-65.64101,-65.64101,-65.64101,-65.64101,-65.64101,-65.64101,-65.64101,-65.64101,-65.64101,-65.64101,-65.64101,-65.64101,-65.64101,-65.64101,-65.6408107,-65.64101,-65.64101,-65.64101,-65.64101,-65.64101,-65.64101,-65.64101,-65.64101,-65.64101,-65.64101,-65.64101,-65.64101,-65.64101,-65.64101,-65.64101,-65.64101,-65.64101,-65.64101,-65.64101,-65.64101,-65.64101,-65.64101,-65.64101,-65.64101,-65.64101,-65.64101,-65.64101,-65.64101,-65.64101,-65.64101,-65.64101,-65.64101,-65.64101,-65.64101,-65.64101,-65.64101,-65.64101,-65.64101,-65.64101,-65.64101,-65.64101,-65.64101,-65.64101,-65.64101,-65.64101,-65.64101,-65.64101,-65.64101,-65.64101,-65.64101,-65.64101,-65.64101,-65.64101,-65.64101,-65.64101,-65.64101,-65.64101,-65.64101,-65.64101,-65.64101,-65.64101,-65.64101,-65.64101,-65.64101,-65.64101,-65.64101,-65.64101,-65.64101,-65.64101,-65.64101,-65.64101,-65.64101,-65.64101,-65.64101,-65.64101,-65.64101,-65.64101,-65.64101,-65.64101,-65.64101,-65.64101,-65.64101,-65.64101,-65.64101,-65.64101,-65.64101,-65.64101,-65.64101,-65.64101,-65.64101,-65.64101,-65.64101,-65.64101,-65.64101,-65.64101,-65.64101,-65.64101,-65.64101,-65.64101,-65.64101,-65.64101,-65.64101,-65.64101,-65.64101,-65.64101,-65.64101,-65.64101,-65.64101,-65.64101,-65.64101,-65.64101,-65.64101,-65.64101,-65.64101,-65.64101,-65.64101,-65.64101,-65.64101,-65.64101,-65.64101,-65.64101,-65.64101,-65.64101,-65.64101,-65.64101,-65.64101,-65.64101,-65.64101,-65.64101,-65.64101,-65.64101,-65.64101,-65.64101,-65.64101,-65.64101,-65.64101,-65.64101,-65.64101,-65.64101,-65.64101,-65.64101,-65.64101,-65.64101,-65.64101,-65.64101,-65.64101,-65.64101,-65.64101,-65.64101,-65.64101,-65.64101,-65.64101,-65.64101,-65.64101,-65.64101,-65.64101,-65.64101,-65.64101,-65.64101,-65.64101,-65.64101,-65.64101,-65.64101,-65.64101,-65.64101,-65.64101,-65.64101,-65.64101,-65.64101,-65.64101,-65.64101,-65.64101,-65.64101,-65.64101,-65.64101,-65.64101,-65.64101,-65.64101,-65.64101,-65.64101,-65.64101,-65.64101,-65.64101,-65.64101,-65.64101,-65.64101,-65.64101,-65.64101,-65.64101,-65.64101,-65.64101,-65.64101,-65.64101,-65.64101,-65.64101,-65.64101,-65.64101,-65.64101,-65.64101,-65.64101,-65.64101,-65.64101,-65.64101,-65.64101,-65.64101,-65.64101,-65.64101,-65.64101,-65.64101,-65.64101,-65.64101,-65.64101,-65.64101,-65.64101,-65.64101,-65.64101,-65.64101,-65.64101,-65.64101,-65.64101,-65.64101,-65.64101,-65.64101,-65.64101,-65.64101,-65.64101,-65.64101,-65.64101,-65.64101,-65.64101,-65.64101,-65.64101,-65.64101,-65.64101,-65.64101,-65.64101,-65.64101,-65.64101,-65.64101,-65.6408107,-65.64101,-65.64101,-65.64101,-65.64101,-65.64101,-65.64101,-65.64101,-65.6408107,-65.64101,-65.64101,-65.64101,-65.64101,-65.64101,-65.64101,-65.6408107,-65.64101,-65.64101,-65.64101,-65.64101,-65.64101,-65.64101,-65.64101,-65.64101,-65.64101,-65.64101,-65.64101,-65.64101,-65.64101,-65.64101,-65.64101,-65.64101,-65.64101,-65.64101,-65.64101,-65.64101,-65.64101,-65.64101,-65.64101,-65.64101,-65.64101,-65.64101,-65.64101,-65.64101,-65.64101,-65.64101,-65.64101,-65.64101,-65.64101,-65.64101,-65.64101,-65.64101,-65.64101,-65.64101,-65.64101,-65.64101,-65.64101,-65.64101,-65.64101,-65.64101,-65.64101,-65.64101,-65.64101,-65.64101,-65.64101,-65.64101,-65.64101,-65.64101,-65.64101,-65.64101,-65.64101,-65.64101,-65.64101,-65.64101,-65.64101,-65.64101,-65.64101,-65.64101,-65.64101,-65.64101,-65.64101,-65.64101,-65.64101,-65.64101,-65.64101,-65.64101,-65.64101,-65.64101,-65.64101,-65.64101,-65.64101,-65.6408107,-65.64101,-65.64101,-65.64101,-65.64101,-65.64101,-65.64101,-65.64101,-65.64101,-65.64101,-65.64101,-65.64101,-65.64101,-65.64101,-65.64101,-65.64101,-65.64101,-65.64101,-65.64101,-65.64101,-65.64101,-65.64101,-65.64101,-65.64101,-65.64101,-65.64101,-65.64101,-65.64101,-65.64101,-65.64101,-65.64101,-65.64101,-65.64101,-65.64101,-65.64101,-65.64101,-65.64101,-65.64101,-65.64101,-65.64101,-65.64101,-65.64101,-65.64101,-65.64101,-65.64101,-65.64101,-65.64101,-65.64101,-65.64101,-65.64101,-65.64101,-65.64101,-65.64101,-65.64101,-65.64101,-65.64101,-65.64101,-65.64101,-65.64101,-65.64101,-65.64101,-65.64101,-65.64101,-65.64101,-65.64101,-65.64101,-65.64101,-65.64101,-65.64101,-65.64101,-65.64101,-65.64101,-65.64101,-65.64101,-65.64101,-65.64101,-65.64101,-65.64101,-65.64101,-65.64101,-65.64101,-65.64101,-65.64101,-65.64101,-65.64101,-65.64101,-65.64101,-65.64101,-65.64101,-65.64101,-65.64101,-65.6408107,-65.64101,-65.64101,-65.64101,-65.64101,-65.64101,-65.64101,-65.64101,-65.64101,-65.64101,-65.64101,-65.64101,-65.64101,-65.64101,-65.64101,-65.64101,-65.64101,-65.64101,-65.64101,-65.64101,-65.64101,-65.64101,-65.64101,-65.64101,-65.64101,-65.64101,-65.64101,-65.64101,-65.64101,-65.64101,-65.64101,-65.64101,-65.64101,-65.64101,-65.64101,-65.64101,-65.64101,-65.64101,-65.64101,-65.64101,-65.64101,-65.64101,-65.64101,-65.64101,-65.64101,-65.64101,-65.64101,-65.64101,-65.64101,-65.64101,-65.64101,-65.64101,-65.64101,-65.64101,-65.64101,-65.64101,-65.64101,-65.64101,-65.64101,-65.64101,-65.64101,-65.64101,-65.64101,-65.64101,-65.64101,-65.64101,-65.64101,-65.64101,-65.64101,-65.64101,-65.64101,-65.64101,-65.64101,-65.64101,-65.64101,-65.64101,-65.64101,-65.64101,-65.64101,-65.64101,-65.64101,-65.64101,-65.64101,-65.64101,-65.64101,-65.64101,-65.64101,-65.64101,-65.64101,-65.64101,-65.64101,-65.64101,-65.64101,-65.64101,-65.64101,-65.64101,-65.64101,-65.64101,-65.64101,-65.64101,-65.64101,-65.64101,-65.64101,-65.64101,-65.64101,-65.64101,-65.64101,-65.64101,-65.64101,-65.64101,-65.64101,-65.64101,-65.64101,-65.64101,-65.64101,-65.64101,-65.64101,-65.64101,-65.64101,-65.64101,-65.64101,-65.64101,-65.64101,-65.64101,-65.64101,-65.64101,-65.64101,-65.64101,-65.64101,-65.64101,-65.64101,-65.64101,-65.64101,-65.64101,-65.64101,-65.64101,-65.64101,-65.64101,-65.64101,-65.64101,-65.64101,-65.64101,-65.64101,-65.64101,-65.64101,-65.64101,-65.64101,-65.64101,-65.64101,-65.64101,-65.64101,-65.64101,-65.64101,-65.64101,-65.64101,-65.64101,-65.64101,-65.64101,-65.64101,-65.64101,-65.64101,-65.64101,-65.64101,-65.64101,-65.64101,-65.64101,-65.64101,-65.64101,-65.64101,-65.64101,-65.64101,-65.64101,-65.64101,-65.64101,-65.64101,-65.64101,-65.64101,-65.64101,-65.64101,-65.64101,-65.64101,-65.64101,-65.64101,-65.64101,-65.64101,-65.64101,-65.64101,-65.64101,-65.64101,-65.64101,-65.64101,-65.64101,-65.64101,-65.64101,-65.64101,-65.64101,-65.64101,-65.64101,-65.64101,-65.64101,-65.64101,-65.64101,-65.64101,-65.64101,-65.64101,-65.64101,-65.64101,-65.64101,-65.64101,-65.64101,-65.64101,-65.64101,-65.64101,-65.64101,-65.64101,-65.64101,-65.64101,-65.64101,-65.64101,-65.64101,-65.64101,-65.64101,-65.64101,-65.64101,-65.64101,-65.64101,-65.64101,-65.64101,-65.64101,-65.64101,-65.64101,-65.64101,-65.64101,-65.64101,-65.64101,-65.64101,-65.64101,-65.6408107,-65.64101,-65.64101,-65.64101,-65.64101,-65.64101,-65.64101,-65.64101,-65.64101,-65.64101,-65.64101,-65.64101,-65.64101,-65.64101,-65.64101,-65.64101,-65.64101,-65.64101,-65.64101,-65.64101,-65.64101,-65.64101,-65.64101,-65.64101,-65.6408107,-65.64101,-65.64101,-65.64101,-65.64101,-65.64101,-65.64101,-65.64101,-65.64101,-65.64101,-65.64101,-65.64101,-65.64101,-65.64101,-65.64101,-65.64101,-65.64101,-65.64101,-65.64101,-65.64101,-65.64101,-65.6408107,-65.6408107,-65.64101,-65.64101,-65.64101,-65.64101,-65.64101,-65.64101,-65.64101,-65.64101,-65.64101,-65.64101,-65.64101,-65.64101,-65.64101,-65.64101,-65.64101,-65.64101,-65.64101,-65.64101,-65.64101,-65.64101,-65.64101,-65.64101,-65.64101,-65.64101,-65.64101,-65.64101,-65.64101,-65.64101,-65.64101,-65.64101,-65.64101,-65.64101,-65.64101,-65.64101,-65.64101,-65.64101,-65.64101,-65.64101,-65.64101,-65.64101,-65.64101,-65.64101,-65.64101,-65.64101,-65.64101,-65.64101,-65.64101,-65.64101,-65.64101,-65.64101,-65.64101,-65.64101,-65.64101,-65.64101,-65.64101,-65.64101,-65.64101,-65.64101,-65.64101,-65.64101,-65.64101,-65.64101,-65.64101,-65.64101,-65.64101,-65.64101,-65.64101,-65.64101,-65.64101,-65.64101,-65.64101,-65.64101,-65.64101,-65.64101,-65.64101,-65.64101,-65.64101,-65.64101,-65.64101,-65.64101,-65.64101,-65.64101,-65.64101,-65.64101,-65.64101,-65.64101,-65.64101,-65.64101,-65.64101,-65.64101,-65.64101,-65.64101,-65.64101,-65.64101,-65.64101,-65.64101,-65.64101,-65.64101,-65.64101,-65.64101,-65.64101,-65.64101,-65.64101,-65.64101,-65.64101,-65.64101,-65.64101,-65.64101,-65.64101,-65.64101,-65.64101,-65.64101,-65.64101,-65.64101,-65.64101,-65.64101,-65.64101,-65.64101,-65.64101,-65.64101,-65.64101,-65.64101,-65.64101,-65.64101,-65.64101,-65.64101,-65.64101,-65.64101,-65.64101,-65.64101,-65.64101,-65.64101,-65.64101,-65.64101,-65.64101,-65.64101,-65.64101,-65.64101,-65.64101,-65.64101,-65.64101,-65.64101,-65.64101,-65.64101,-65.64101,-65.64101,-65.64101,-65.64101,-65.64101,-65.64101,-65.64101,-65.64101,-65.64101,-65.64101,-65.64101,-65.64101,-65.64101,-65.64101,-65.64101,-65.64101,-65.64101,-65.64101,-65.64101,-65.64101,-65.64101,-65.64101,-65.64101,-65.64101,-65.64101,-65.64101,-65.64101,-65.64101,-65.64101,-65.64101,-65.64101,-65.64101,-65.64101,-65.64101,-65.64101,-65.64101,-65.64101,-65.64101,-65.64101,-65.64101,-65.64101,-65.64101,-65.64101,-65.64101,-65.64101,-65.64101,-65.64101,-65.64101,-65.64101,-65.64101,-65.64101,-65.64101,-65.64101,-65.64101,-65.64101,-65.64101,-65.64101,-65.64101,-65.64101,-65.64101,-65.64101,-65.64101,-65.64101,-65.64101,-65.64101,-65.64101,-65.64101,-65.64101,-65.64101,-65.64101,-65.64101,-65.64101,-65.64101,-65.64101,-65.64101,-65.64101,-65.64101,-65.64101,-65.64101,-65.64101,-65.64101,-65.64101,-65.64101,-65.64101,-65.64101,-65.64101,-65.64101,-65.64101,-65.64101,-65.64101,-65.64101,-65.64101,-65.64101,-65.64101,-65.64101,-65.64101,-65.64101,-65.64101,-65.64101,-65.64101,-65.64101,-65.64101,-65.64101,-65.64101,-65.64101,-65.64101,-65.64101,-65.64101,-65.64101,-65.64101,-65.64101,-65.64101,-65.64101,-65.64101,-65.64101,-65.64101,-65.64101,-65.64101,-65.64101,-65.64101,-65.64101,-65.64101,-65.64101,-65.64101,-65.64101,-65.64101,-65.64101,-65.64101,-65.64101,-65.64101,-65.64101,-65.64101,-65.64101,-65.64101,-65.64101,-65.64101,-65.64101,-65.64101,-65.64101,-65.64101,-65.64101,-65.64101,-65.64101,-65.64101,-65.64101,-65.64101,-65.6408107,-65.64101,-65.64101,-65.64101,-65.64101,-65.64101,-65.64101,-65.64101,-65.64101,-65.64101,-65.64101,-65.64101,-65.64101,-65.64101,-65.64101,-65.64101,-65.64101,-65.64101,-65.64101,-65.64101,-65.64101,-65.64101,-65.64101,-65.64101,-65.64101,-65.64101,-65.64101,-65.64101,-65.64101,-65.64101,-65.64101,-65.64101,-65.64101,-65.64101,-65.64101,-65.64101,-65.64101,-65.64101,-65.64101,-65.64101,-65.64101,-65.64101,-65.64101,-65.64101,-65.64101,-65.64101,-65.64101,-65.64101,-65.64101,-65.64101,-65.64101,-65.64101,-65.64101,-65.64101,-65.64101,-65.64101,-65.64101,-65.64101,-65.64101,-65.64101,-65.64101,-65.64101,-65.64101,-65.64101,-65.64101,-65.64101,-65.64101,-65.64101,-65.64101,-65.64101,-65.64101,-65.64101,-65.64101,-65.64101,-65.64101,-65.64101,-65.64101,-65.64101,-65.64101,-65.64101,-65.64101,-65.64101,-65.64101,-65.64101,-65.64101,-65.64101,-65.64101,-65.64101,-65.64101,-65.64101,-65.64101,-65.64101,-65.64101,-65.64101,-65.64101,-65.64101,-65.64101,-65.64101,-65.64101,-65.64101,-65.64101,-65.64101,-65.64101,-65.64101,-65.64101,-65.64101,-65.64101,-65.64101,-65.64101,-65.64101,-65.64101,-65.64101,-65.64101,-65.64101,-65.64101,-65.64101,-65.64101,-65.64101,-65.6408107,-65.64101,-65.64101,-65.64101,-65.64101,-65.64101,-65.64101,-65.64101,-65.64101,-65.64101,-65.64101,-65.64101,-65.64101,-65.64101,-65.64101,-65.64101,-65.64101,-65.64101,-65.64101,-65.64101,-65.64101,-65.64101,-65.64101,-65.64101,-65.64101,-65.64101,-65.64101,-65.64101,-65.64101,-65.64101,-65.64101,-65.64101,-65.64101,-65.64101,-65.64101,-65.64101,-65.64101,-65.64101,-65.64101,-65.64101,-65.64101,-65.64101,-65.64101,-65.64101,-65.64101,-65.64101,-65.64101,-65.64101,-65.64101,-65.64101,-65.64101,-65.64101,-65.64101,-65.64101,-65.64101,-65.64101,-65.64101,-65.64101,-65.64101,-65.64101,-65.64101,-65.64101,-65.64101,-65.64101,-65.64101,-65.6408107,-65.64101,-65.64101,-65.64101,-65.64101,-65.64101,-65.64101,-65.64101,-65.64101,-65.64101,-65.64101,-65.64101,-65.64101,-65.64101,-65.64101,-65.64101,-65.64101,-65.64101,-65.64101,-65.64101,-65.64101,-65.64101,-65.64101,-65.64101,-65.64101,-65.64101,-65.64101,-65.64101,-65.64101,-65.64101,-65.64101,-65.64101,-65.64101,-65.64101,-65.64101,-65.64101,-65.64101,-65.64101,-65.64101,-65.64101,-65.64101,-65.64101,-65.64101,-65.64101,-65.64101,-65.64101,-65.64101,-65.64101,-65.64101,-65.64101,-65.64101,-65.64101,-65.64101,-65.64101,-65.64101,-65.64101,-65.64101,-65.64101,-65.64101,-65.64101,-65.64101,-65.64101,-65.64101,-65.64101,-65.64101,-65.64101,-65.64101,-65.64101,-65.64101,-65.64101,-65.64101,-65.64101,-65.64101,-65.64101,-65.64101,-65.64101,-65.64101,-65.64101,-65.64101,-65.64101,-65.64101,-65.64101,-65.64101,-65.64101,-65.64101,-65.64101,-65.64101,-65.64101,-65.64101,-65.64101,-65.64101,-65.64101,-65.64101,-65.64101,-65.64101,-65.64101,-65.64101,-65.64101,-65.64101,-65.64101,-65.64101,-65.64101,-65.64101,-65.64101,-65.64101,-65.64101,-65.64101,-65.64101,-65.64101,-65.64101,-65.64101,-65.64101,-65.64101,-65.64101,-65.64101,-65.64101,-65.64101,-65.64101,-65.64101,-65.64101,-65.64101,-65.64101,-65.64101,-65.64101,-65.64101,-65.64101,-65.64101,-65.64101,-65.64101,-65.64101,-65.64101,-65.64101,-65.64101,-65.64101,-65.64101,-65.64101,-65.64101,-65.64101,-65.64101,-65.64101,-65.64101,-65.64101,-65.64101,-65.64101,-65.64101,-65.64101,-65.64101,-65.64101,-65.64101,-65.64101,-65.64101,-65.64101,-65.64101,-65.64101,-65.64101,-65.64101,-65.64101,-65.64101,-65.64101,-65.64101,-65.64101,-65.64101,-65.64101,-65.64101,-65.64101,-65.64101,-65.64101,-65.64101,-65.64101,-65.64101,-65.64101,-65.64101,-65.64101,-65.64101,-65.64101,-65.64101,-65.64101,-65.64101,-65.64101,-65.64101,-65.64101,-65.64101,-65.64101,-65.64101,-65.64101,-65.64101,-65.64101,-65.64101,-65.64101,-65.64101,-65.64101,-65.64101,-65.64101,-65.64101,-65.64101,-65.64101,-65.64101,-65.64101,-65.64101,-65.64101,-65.64101,-65.64101,-65.64101,-65.64101,-65.64101,-65.64101,-65.64101,-65.64101,-65.64101,-65.64101,-65.64101,-65.64101,-65.64101,-65.64101,-65.64101,-65.64101,-65.64101,-65.64101,-65.64101,-65.64101,-65.64101,-65.64101,-65.64101,-65.64101,-65.64101,-65.64101,-65.64101,-65.64101,-65.64101,-65.64101,-65.64101,-65.64101,-65.64101,-65.64101,-65.64101,-65.64101,-65.64101,-65.64101,-65.64101,-65.64101,-65.64101,-65.64101,-65.64101,-65.64101,-65.64101,-65.64101,-65.64101,-65.64101,-65.64101,-65.64101,-65.64101,-65.64101,-65.64101,-65.64101,-65.64101,-65.64101,-65.64101,-65.64101,-65.64101,-65.64101,-65.64101,-65.64101,-65.64101,-65.64101,-65.64101,-65.64101,-65.64101,-65.64101,-65.64101,-65.64101,-65.64101,-65.64101,-65.64101,-65.64101,-65.64101,-65.64101,-65.64101,-65.64101,-65.64101,-65.64101,-65.64101,-65.64101,-65.64101,-65.64101,-65.64101,-65.64101,-65.64101,-65.64101,-65.64101,-65.64101,-65.64101,-65.64101,-65.64101,-65.64101,-65.64101,-65.64101,-65.64101,-65.64101,-65.64101,-65.64101,-65.64101,-65.64101,-65.64101,-65.64101,-65.64101,-65.64101,-65.64101,-65.64101,-65.64101,-65.64101,-65.64101,-65.64101,-65.64101,-65.64101,-65.64101,-65.64101,-65.64101,-65.64101,-65.64101,-65.64101,-65.64101,-65.64101,-65.64101,-65.64101,-65.64101,-65.64101,-65.64101,-65.64101,-65.64101,-65.64101,-65.64101,-65.64101,-65.64101,-65.64101,-65.64101,-65.64101,-65.64101,-65.64101,-65.64101,-65.64101,-65.64101,-65.64101,-65.64101,-65.64101,-65.64101,-65.64101,-65.64101,-65.64101,-65.64101,-65.64101,-65.64101,-65.64101,-65.64101,-65.64101,-65.64101,-65.6408107,-65.64101,-65.64101,-65.64101,-65.64101,-65.64101,-65.64101,-65.64101,-65.64101,-65.64101,-65.64101,-65.64101,-65.64101,-65.64101,-65.64101,-65.64101,-65.64101,-65.64101,-65.64101,-65.64101,-65.64101,-65.64101,-65.64101,-65.64101,-65.64101,-65.64101,-65.64101,-65.64101,-65.68902,-65.68902,-65.68902,-65.68902,-65.68902,-65.68902,-65.68956,-65.64101,-65.64101,-65.64101,-65.64101,-65.64101,-65.64101,-65.64101,-65.64101,-65.64101,-65.64101,-65.64101,-65.64101,-65.64101,-65.64101,-65.64101,-65.64101,-65.64101,-65.64101,-65.64101,-65.64101,-65.64101,-65.64101,-65.64101,-65.64101,-65.64101,-65.64101,-65.64101,-65.64101,-65.64101,-65.64101,-65.64101,-65.64101,-65.64101,-65.64101,-65.64101,-65.64101,-65.64101,-65.64101,-65.64101,-65.64101,-65.64101,-65.64101,-65.64101,-65.64101,-65.64101,-65.64101,-65.64101,-65.64101,-65.64101,-65.64101,-65.64101,-65.64101,-65.64101,-65.64101,-65.64101,-65.64101,-65.64101,-65.64101,-65.64101,-65.64101,-65.64101,-65.64101,-65.64101,-65.64101,-65.64101,-65.64101,-65.64101,-65.64101,-65.64101,-65.64101,-65.64101,-65.64101,-65.64101,-65.64101,-65.64101,-65.64101,-65.64101,-65.64101,-65.64101,-65.64101,-65.64101,-65.64101,-65.64101,-65.64101,-65.64101,-65.64101,-65.64101,-65.64101,-65.64101,-65.64101,-65.64101,-65.64101,-65.64101,-65.64101,-65.64101,-65.64101,-65.64101,-65.64101,-65.64101,-65.64101,-65.64101,-65.64101,-65.64101,-65.64101,-65.64101,-65.64101,-65.6408107,-65.64101,-65.64101,-65.64101,-65.64101,-65.64101,-65.64101,-65.64101,-65.64101,-65.64101,-65.64101,-65.64101,-65.64101,-65.64101,-65.64101,-65.64101,-65.64101,-65.64101,-65.64101,-65.64101,-65.64101,-65.64101,-65.64101,-65.64101,-65.64101,-65.64101,-65.64101,-65.64101,-65.64101,-65.64101,-65.64101,-65.64101,-65.64101,-65.64101,-65.64101,-65.64101,-65.64101,-65.64101,-65.64101,-65.64101,-65.64101,-65.64101,-65.64101,-65.64101,-65.64101,-65.64101,-65.64101,-65.64101,-65.64101,-65.64101,-65.6408107,-65.64101,-65.6408107,-65.64101,-65.64101,-65.64101,-65.64101,-65.64101,-65.6408107,-65.64101,-65.64101,-65.64101,-65.64101,-65.64101,-65.64101,-65.64101,-65.64101,-65.64101,-65.64101,-65.64101,-65.64101,-65.64101,-65.64101,-65.64101,-65.64101,-65.6408107,-65.64101,-65.64101,-65.64101,-65.6408107,-65.64101,-65.6408107,-65.64101,-65.64101,-65.64101,-65.64101,-65.64101,-65.64101,-65.64101,-65.64101,-65.64101,-65.64101,-65.64101,-65.64101,-65.64101,-65.64101,-65.64101,-65.64101,-65.64101,-65.64101,-65.64101,-65.64101,-65.64101,-65.64101,-65.64101,-65.64101,-65.64101,-65.64101,-65.64101,-65.64101,-65.64101,-65.64101,-65.64101,-65.64101,-65.64101,-65.64101,-65.64101,-65.64101,-65.6408107,-65.64101,-65.64101,-65.64101,-65.64101,-65.64101,-65.64101,-65.64101,-65.6408107,-65.64101,-65.64101,-65.64101,-65.64101,-65.64101,-65.6408107,-65.64101,-65.6408107,-65.64101,-65.64101,-65.6408107,-65.64101,-65.64101,-65.64101,-65.64101,-65.6408107,-65.64101,-65.64101,-65.6408107,-65.6408107,-65.64101,-65.64101,-65.64101,-65.64101,-65.64101,-65.64101,-65.64101,-65.64101,-65.64101,-65.64101,-65.64101,-65.6408107,-65.64101,-65.6408107,-65.64101,-65.64101,-65.6408107,-65.6408107,-65.64101,-65.64101,-65.64101,-65.64101,-65.64101,-65.64101,-65.64101,-65.64101,-65.64101,-65.64101,-65.64101,-65.64101,-65.64101,-65.64101,-65.64101,-65.64101,-65.64101,-65.64101,-65.64101,-65.6408107,-65.64101,-65.64101,-65.64101,-65.64101,-65.64101,-65.6408107,-65.64101,-65.64101,-65.64101,-65.64101,-65.64101,-65.64101,-65.64101,-65.64101,-65.64101,-65.6408107,-65.64101,-65.64101,-65.64101,-65.64101,-65.64101,-65.64101,-65.64101,-65.64101,-65.64101,-65.64101,-65.64101,-65.64101,-65.64101,-65.64101,-65.64101,-65.64101,-65.64101,-65.64101,-65.64101,-65.64101,-65.64101,-65.64101,-65.64101,-65.64101,-65.64101,-65.64101,-65.64101,-65.64101,-65.64101,-65.64101,-65.64101,-65.64101,-65.64101,-65.64101,-65.64101,-65.64101,-65.64101,-65.64101,-65.64101,-65.64101,-65.64101,-65.64101,-65.64101,-65.64101,-65.64101,-65.64101,-65.64101,-65.64101,-65.64101,-65.64101,-65.6408107,-65.64101,-65.64101,-65.64101,-65.64101,-65.64101,-65.64101,-65.6408107,-65.6408107,-65.64101,-65.64101,-65.6408107,-65.64101,-65.64101,-65.64101,-65.64101,-65.64101,-65.64101,-65.64101,-65.64101,-65.64101,-65.64101,-65.6406,-65.64101,-65.64101,-65.64101,-65.64101,-65.64101,-65.64101,-65.64101,-65.64101,-65.64101,-65.64101,-65.64101,-65.64101,-65.64101,-65.64101,-65.64101,-65.64101,-65.64101,-65.64101,-65.64101,-65.64101,-65.64101,-65.64101,-65.64101,-65.64101,-65.64101,-65.64101,-65.64101,-65.64101,-65.64101,-65.64101,-65.64101,-65.64101,-65.64101,-65.64101,-65.64101,-65.64101,-65.64101,-65.64101,-65.64101,-65.64101,-65.64101,-65.64101,-65.64101,-65.64101,-65.64101,-65.64101,-65.64101,-65.64101,-65.64101,-65.64101,-65.64101,-65.64101,-65.64101,-65.64101,-65.64101,-65.64101,-65.64101,-65.64101,-65.64101,-65.64101,-65.64101,-65.64101,-65.64101,-65.64101,-65.64101,-65.64101,-65.64101,-65.64101,-65.64101,-65.64101,-65.64101,-65.64101,-65.64101,-65.64101,-65.64101,-65.64101,-65.64101,-65.64101,-65.64101,-65.64101,-65.64101,-65.64101,-65.64101,-65.64101,-65.64101,-65.64101,-65.64101,-65.64101,-65.64101,-65.64101,-65.64101,-65.64101,-65.64101,-65.64101,-65.64101,-65.64101,-65.64101,-65.64101,-65.64101,-65.64101,-65.64101,-65.64101,-65.64101,-65.64101,-65.64101,-65.64101,-65.64101,-65.64101,-65.64101,-65.64101,-65.64101,-65.64101,-65.64101,-65.64101,-65.64101,-65.64101,-65.64101,-65.64101,-65.64101,-65.64101,-65.64101,-65.64101,-65.64101,-65.64101,-65.64101,-65.64101,-65.64101,-65.64101,-65.64101,-65.64101,-65.64101,-65.64101,-65.64101,-65.64101,-65.64101,-65.64101,-65.64101,-65.64101,-65.6408107,-65.64101,-65.64101,-65.64101,-65.64101,-65.64101,-65.64101,-65.64101,-65.64101,-65.64101,-65.64101,-65.64101,-65.64101,-65.64101,-65.64101,-65.64101,-65.64101,-65.64101,-65.64101,-65.64101,-65.64101,-65.64101,-65.64101,-65.64101,-65.64101,-65.64101,-65.64101,-65.6408107,-65.64101,-65.64101,-65.64101,-65.64101,-65.64101,-65.64101,-65.64101,-65.64101,-65.64101,-65.64101,-65.64101,-65.64101,-65.64101,-65.64101,-65.64101,-65.64101,-65.64101,-65.64101,-65.64101,-65.64101,-65.64101,-65.64101,-65.64101,-65.64101,-65.64101,-65.64101,-65.64101,-65.64101,-65.64101,-65.64101,-65.64101,-65.64101,-65.64101,-65.64101,-65.64101,-65.64101,-65.64101,-65.64101,-65.64101,-65.64101,-65.64101,-65.64101,-65.64101,-65.64101,-65.64101,-65.64101,-65.64101,-65.64101,-65.64101,-65.64101,-65.64101,-65.64101,-65.64101,-65.64101,-65.64101,-65.64101,-65.64101,-65.64101,-65.64101,-65.64101,-65.64101,-65.64101,-65.64101,-65.64101,-65.64101,-65.64101,-65.64101,-65.64101,-65.64101,-65.64101,-65.64101,-65.64101,-65.64101,-65.64101,-65.64101,-65.64101,-65.64101,-65.64101,-65.64101,-65.64101,-65.64101,-65.64101,-65.64101,-65.64101,-65.64101,-65.64101,-65.64101,-65.64101,-65.64101,-65.64101,-65.64101,-65.64101,-65.64101,-65.64101,-65.64101,-65.64101,-65.64101,-65.6408107,-65.64101,-65.64101,-65.64101,-65.6408107,-65.64101,-65.64101,-65.64101,-65.6408107,-65.64101,-65.64101,-65.64101,-65.64101,-65.64101,-65.64101,-65.64101,-65.64101,-65.64101,-65.64101,-65.64101,-65.64101,-65.64101,-65.64101,-65.64101,-65.64101,-65.64101,-65.64101,-65.64101,-65.64101,-65.64101,-65.64101,-65.64101,-65.64101,-65.64101,-65.6408107,-65.64101,-65.6408107,-65.64101,-65.64101,-65.6408107,-65.64101,-65.64101,-65.64101,-65.64101,-65.64101,-65.64101,-65.64101,-65.64101,-65.6408107,-65.64101,-65.64101,-65.64101,-65.64101,-65.64101,-65.64101,-65.64101,-65.64101,-65.64101,-65.64101,-65.64101,-65.64101,-65.64101,-65.64101,-65.6408107,-65.64101,-65.64101,-65.64101,-65.6408107,-65.64101,-65.6408107,-65.64101,-65.64101,-65.64101,-65.64101,-65.64101,-65.64101,-65.64101,-65.64101,-65.64101,-65.64101,-65.64101,-65.64101,-65.64101,-65.64101,-65.64101,-65.64101,-65.64101,-65.64101,-65.64101,-65.64101,-65.64101,-65.64101,-65.64101,-65.64101,-65.64101,-65.64101,-65.6408107,-65.6408107,-65.64101,-65.64101,-65.64101,-65.64101,-65.64101,-65.64101,-65.64101,-65.64101,-65.64101,-65.6408107,-65.64101,-65.64101,-65.64101,-65.6408107,-65.64101,-65.6408107,-65.64101,-65.6408107,-65.64101,-65.6408107,-65.64101,-65.64101,-65.64101,-65.64101,-65.64101,-65.64101,-65.64101,-65.6408107,-65.64101,-65.64101,-65.64101,-65.64101,-65.64101,-65.64101,-65.64101,-65.64101,-65.64101,-65.64101,-65.64101,-65.64101,-65.64101,-65.64101,-65.64101,-65.64101,-65.64101,-65.64101,-65.64101,-65.64101,-65.64101,-65.64101,-65.64101,-65.64101,-65.64101,-65.6408107,-65.6408107,-65.64101,-65.64101,-65.64101,-65.64101,-65.64101,-65.64101,-65.64101,-65.6408107,-65.6408107,-65.64101,-65.64101,-65.64101,-65.64101,-65.6408107,-65.64101,-65.64101,-65.64101,-65.64101,-65.64101,-65.64101,-65.64101,-65.64101,-65.64101,-65.64101,-65.64101,-65.64101,-65.6408107,-65.64101,-65.64101,-65.64101,-65.64101,-65.6408107,-65.64101,-65.64101,-65.64101,-65.64101,-65.64101,-65.64101,-65.64101,-65.64101,-65.64101,-65.64101,-65.64101,-65.64101,-65.64101,-65.64101,-65.64101,-65.64101,-65.64101,-65.64101,-65.64101,-65.64101,-65.6408107,-65.6408107,-65.64101,-65.64101,-65.64101,-65.64101,-65.64101,-65.64101,-65.64101,-65.64101,-65.64101,-65.64101,-65.64101,-65.64101,-65.64101,-65.64101,-65.64101,-65.64101,-65.64101,-65.64101,-65.64101,-65.64101,-65.64101,-65.64101,-65.64101,-65.64101,-65.64101,-65.64101,-65.64101,-65.64101,-65.64101,-65.64101,-65.64101,-65.64101,-65.64101,-65.64101,-65.64101,-65.64101,-65.64101,-65.64101,-65.64101,-65.64101,-65.64101,-65.64101,-65.64101,-65.64101,-65.64101,-65.64101,-65.64101,-65.64101,-65.64101,-65.64101,-65.64101,-65.64101,-65.64101,-65.64101,-65.64101,-65.64101,-65.64101,-65.64101,-65.64101,-65.64101,-65.6408107,-65.6408107,-65.64101,-65.64101,-65.64101,-65.64101,-65.64101,-65.64101,-65.64101,-65.64101,-65.64101,-65.64101,-65.64101,-65.64101,-65.64101,-65.64101,-65.64101,-65.64101,-65.64101,-65.64101,-65.64101,-65.64101,-65.64101,-65.64101,-65.64101,-65.64101,-65.64101,-65.64101,-65.64101,-65.64101,-65.64101,-65.64101,-65.6408107,-65.64101,-65.64101,-65.64101,-65.64101,-65.64101,-65.64101,-65.6408107,-65.64101,-65.64101,-65.64101,-65.6408107,-65.6408107,-65.6408107,-65.6408107,-65.64101,-65.64101,-65.64101,-65.64101,-65.64101,-65.64101,-65.64101,-65.64101,-65.64101,-65.64101,-65.64101,-65.64101,-65.64101,-65.64101,-65.64101,-65.64101,-65.64048,-65.64101,-65.64101,-65.64101,-65.64101,-65.64101,-65.64101,-65.64101,-65.64101,-65.64101,-65.64101,-65.64101,-65.64101,-65.64101,-65.64101,-65.64101,-65.64101,-65.64101,-65.64101,-65.64101,-65.64101,-65.64101,-65.64101,-65.64101,-65.64101,-65.64101,-65.64101,-65.64101,-65.64101,-65.64101,-65.64101,-65.64101,-65.64101,-65.64101,-65.64101,-65.64101,-65.64101,-65.64101,-65.64101,-65.64101,-65.64101,-65.64101,-65.64101,-65.64101,-65.64101,-65.64101,-65.64101,-65.64101,-65.64101,-65.64101,-65.64101,-65.64101,-65.64101,-65.64101,-65.64101,-65.64101,-65.64101,-65.64101,-65.64101,-65.64101,-65.64101,-65.64101,-65.64101,-65.64101,-65.64101,-65.64101,-65.64101,-65.64101,-65.64101,-65.64101,-65.64101,-65.64101,-65.64101,-65.64101,-65.64101,-65.64101,-65.64101,-65.64101,-65.64101,-65.64101,-65.64101,-65.64101,-65.64101,-65.64101,-65.64101,-65.64101,-65.64101,-65.64101,-65.64101,-65.64101,-65.64101,-65.64101,-65.64101,-65.64101,-65.64101,-65.64101,-65.64101,-65.64101,-65.64101,-65.64101,-65.64101,-65.64101,-65.64101,-65.64101,-65.64101,-65.64101,-65.64101,-65.6408107,-65.64101,-65.64101,-65.64101,-65.64101,-65.64101,-65.64101,-65.64101,-65.64101,-65.64101,-65.64101,-65.6408107,-65.64101,-65.64101,-65.64101,-65.6408107,-65.64101,-65.6408107,-65.64101,-65.6408107,-65.64101,-65.6408107,-65.64101,-65.64101,-65.64101,-65.64101,-65.6408107,-65.64101,-65.6408107,-65.64101,-65.64101,-65.64101,-65.64101,-65.64101,-65.64101,-65.64101,-65.6408107,-65.64101],\"marker\":{\"color\":\"#636efa\"},\"mode\":\"markers\",\"name\":\"\",\"showlegend\":false,\"subplot\":\"mapbox\",\"type\":\"scattermapbox\"}],                        {\"template\":{\"data\":{\"histogram2dcontour\":[{\"type\":\"histogram2dcontour\",\"colorbar\":{\"outlinewidth\":0,\"ticks\":\"\"},\"colorscale\":[[0.0,\"#0d0887\"],[0.1111111111111111,\"#46039f\"],[0.2222222222222222,\"#7201a8\"],[0.3333333333333333,\"#9c179e\"],[0.4444444444444444,\"#bd3786\"],[0.5555555555555556,\"#d8576b\"],[0.6666666666666666,\"#ed7953\"],[0.7777777777777778,\"#fb9f3a\"],[0.8888888888888888,\"#fdca26\"],[1.0,\"#f0f921\"]]}],\"choropleth\":[{\"type\":\"choropleth\",\"colorbar\":{\"outlinewidth\":0,\"ticks\":\"\"}}],\"histogram2d\":[{\"type\":\"histogram2d\",\"colorbar\":{\"outlinewidth\":0,\"ticks\":\"\"},\"colorscale\":[[0.0,\"#0d0887\"],[0.1111111111111111,\"#46039f\"],[0.2222222222222222,\"#7201a8\"],[0.3333333333333333,\"#9c179e\"],[0.4444444444444444,\"#bd3786\"],[0.5555555555555556,\"#d8576b\"],[0.6666666666666666,\"#ed7953\"],[0.7777777777777778,\"#fb9f3a\"],[0.8888888888888888,\"#fdca26\"],[1.0,\"#f0f921\"]]}],\"heatmap\":[{\"type\":\"heatmap\",\"colorbar\":{\"outlinewidth\":0,\"ticks\":\"\"},\"colorscale\":[[0.0,\"#0d0887\"],[0.1111111111111111,\"#46039f\"],[0.2222222222222222,\"#7201a8\"],[0.3333333333333333,\"#9c179e\"],[0.4444444444444444,\"#bd3786\"],[0.5555555555555556,\"#d8576b\"],[0.6666666666666666,\"#ed7953\"],[0.7777777777777778,\"#fb9f3a\"],[0.8888888888888888,\"#fdca26\"],[1.0,\"#f0f921\"]]}],\"heatmapgl\":[{\"type\":\"heatmapgl\",\"colorbar\":{\"outlinewidth\":0,\"ticks\":\"\"},\"colorscale\":[[0.0,\"#0d0887\"],[0.1111111111111111,\"#46039f\"],[0.2222222222222222,\"#7201a8\"],[0.3333333333333333,\"#9c179e\"],[0.4444444444444444,\"#bd3786\"],[0.5555555555555556,\"#d8576b\"],[0.6666666666666666,\"#ed7953\"],[0.7777777777777778,\"#fb9f3a\"],[0.8888888888888888,\"#fdca26\"],[1.0,\"#f0f921\"]]}],\"contourcarpet\":[{\"type\":\"contourcarpet\",\"colorbar\":{\"outlinewidth\":0,\"ticks\":\"\"}}],\"contour\":[{\"type\":\"contour\",\"colorbar\":{\"outlinewidth\":0,\"ticks\":\"\"},\"colorscale\":[[0.0,\"#0d0887\"],[0.1111111111111111,\"#46039f\"],[0.2222222222222222,\"#7201a8\"],[0.3333333333333333,\"#9c179e\"],[0.4444444444444444,\"#bd3786\"],[0.5555555555555556,\"#d8576b\"],[0.6666666666666666,\"#ed7953\"],[0.7777777777777778,\"#fb9f3a\"],[0.8888888888888888,\"#fdca26\"],[1.0,\"#f0f921\"]]}],\"surface\":[{\"type\":\"surface\",\"colorbar\":{\"outlinewidth\":0,\"ticks\":\"\"},\"colorscale\":[[0.0,\"#0d0887\"],[0.1111111111111111,\"#46039f\"],[0.2222222222222222,\"#7201a8\"],[0.3333333333333333,\"#9c179e\"],[0.4444444444444444,\"#bd3786\"],[0.5555555555555556,\"#d8576b\"],[0.6666666666666666,\"#ed7953\"],[0.7777777777777778,\"#fb9f3a\"],[0.8888888888888888,\"#fdca26\"],[1.0,\"#f0f921\"]]}],\"mesh3d\":[{\"type\":\"mesh3d\",\"colorbar\":{\"outlinewidth\":0,\"ticks\":\"\"}}],\"scatter\":[{\"fillpattern\":{\"fillmode\":\"overlay\",\"size\":10,\"solidity\":0.2},\"type\":\"scatter\"}],\"parcoords\":[{\"type\":\"parcoords\",\"line\":{\"colorbar\":{\"outlinewidth\":0,\"ticks\":\"\"}}}],\"scatterpolargl\":[{\"type\":\"scatterpolargl\",\"marker\":{\"colorbar\":{\"outlinewidth\":0,\"ticks\":\"\"}}}],\"bar\":[{\"error_x\":{\"color\":\"#2a3f5f\"},\"error_y\":{\"color\":\"#2a3f5f\"},\"marker\":{\"line\":{\"color\":\"#E5ECF6\",\"width\":0.5},\"pattern\":{\"fillmode\":\"overlay\",\"size\":10,\"solidity\":0.2}},\"type\":\"bar\"}],\"scattergeo\":[{\"type\":\"scattergeo\",\"marker\":{\"colorbar\":{\"outlinewidth\":0,\"ticks\":\"\"}}}],\"scatterpolar\":[{\"type\":\"scatterpolar\",\"marker\":{\"colorbar\":{\"outlinewidth\":0,\"ticks\":\"\"}}}],\"histogram\":[{\"marker\":{\"pattern\":{\"fillmode\":\"overlay\",\"size\":10,\"solidity\":0.2}},\"type\":\"histogram\"}],\"scattergl\":[{\"type\":\"scattergl\",\"marker\":{\"colorbar\":{\"outlinewidth\":0,\"ticks\":\"\"}}}],\"scatter3d\":[{\"type\":\"scatter3d\",\"line\":{\"colorbar\":{\"outlinewidth\":0,\"ticks\":\"\"}},\"marker\":{\"colorbar\":{\"outlinewidth\":0,\"ticks\":\"\"}}}],\"scattermapbox\":[{\"type\":\"scattermapbox\",\"marker\":{\"colorbar\":{\"outlinewidth\":0,\"ticks\":\"\"}}}],\"scatterternary\":[{\"type\":\"scatterternary\",\"marker\":{\"colorbar\":{\"outlinewidth\":0,\"ticks\":\"\"}}}],\"scattercarpet\":[{\"type\":\"scattercarpet\",\"marker\":{\"colorbar\":{\"outlinewidth\":0,\"ticks\":\"\"}}}],\"carpet\":[{\"aaxis\":{\"endlinecolor\":\"#2a3f5f\",\"gridcolor\":\"white\",\"linecolor\":\"white\",\"minorgridcolor\":\"white\",\"startlinecolor\":\"#2a3f5f\"},\"baxis\":{\"endlinecolor\":\"#2a3f5f\",\"gridcolor\":\"white\",\"linecolor\":\"white\",\"minorgridcolor\":\"white\",\"startlinecolor\":\"#2a3f5f\"},\"type\":\"carpet\"}],\"table\":[{\"cells\":{\"fill\":{\"color\":\"#EBF0F8\"},\"line\":{\"color\":\"white\"}},\"header\":{\"fill\":{\"color\":\"#C8D4E3\"},\"line\":{\"color\":\"white\"}},\"type\":\"table\"}],\"barpolar\":[{\"marker\":{\"line\":{\"color\":\"#E5ECF6\",\"width\":0.5},\"pattern\":{\"fillmode\":\"overlay\",\"size\":10,\"solidity\":0.2}},\"type\":\"barpolar\"}],\"pie\":[{\"automargin\":true,\"type\":\"pie\"}]},\"layout\":{\"autotypenumbers\":\"strict\",\"colorway\":[\"#636efa\",\"#EF553B\",\"#00cc96\",\"#ab63fa\",\"#FFA15A\",\"#19d3f3\",\"#FF6692\",\"#B6E880\",\"#FF97FF\",\"#FECB52\"],\"font\":{\"color\":\"#2a3f5f\"},\"hovermode\":\"closest\",\"hoverlabel\":{\"align\":\"left\"},\"paper_bgcolor\":\"white\",\"plot_bgcolor\":\"#E5ECF6\",\"polar\":{\"bgcolor\":\"#E5ECF6\",\"angularaxis\":{\"gridcolor\":\"white\",\"linecolor\":\"white\",\"ticks\":\"\"},\"radialaxis\":{\"gridcolor\":\"white\",\"linecolor\":\"white\",\"ticks\":\"\"}},\"ternary\":{\"bgcolor\":\"#E5ECF6\",\"aaxis\":{\"gridcolor\":\"white\",\"linecolor\":\"white\",\"ticks\":\"\"},\"baxis\":{\"gridcolor\":\"white\",\"linecolor\":\"white\",\"ticks\":\"\"},\"caxis\":{\"gridcolor\":\"white\",\"linecolor\":\"white\",\"ticks\":\"\"}},\"coloraxis\":{\"colorbar\":{\"outlinewidth\":0,\"ticks\":\"\"}},\"colorscale\":{\"sequential\":[[0.0,\"#0d0887\"],[0.1111111111111111,\"#46039f\"],[0.2222222222222222,\"#7201a8\"],[0.3333333333333333,\"#9c179e\"],[0.4444444444444444,\"#bd3786\"],[0.5555555555555556,\"#d8576b\"],[0.6666666666666666,\"#ed7953\"],[0.7777777777777778,\"#fb9f3a\"],[0.8888888888888888,\"#fdca26\"],[1.0,\"#f0f921\"]],\"sequentialminus\":[[0.0,\"#0d0887\"],[0.1111111111111111,\"#46039f\"],[0.2222222222222222,\"#7201a8\"],[0.3333333333333333,\"#9c179e\"],[0.4444444444444444,\"#bd3786\"],[0.5555555555555556,\"#d8576b\"],[0.6666666666666666,\"#ed7953\"],[0.7777777777777778,\"#fb9f3a\"],[0.8888888888888888,\"#fdca26\"],[1.0,\"#f0f921\"]],\"diverging\":[[0,\"#8e0152\"],[0.1,\"#c51b7d\"],[0.2,\"#de77ae\"],[0.3,\"#f1b6da\"],[0.4,\"#fde0ef\"],[0.5,\"#f7f7f7\"],[0.6,\"#e6f5d0\"],[0.7,\"#b8e186\"],[0.8,\"#7fbc41\"],[0.9,\"#4d9221\"],[1,\"#276419\"]]},\"xaxis\":{\"gridcolor\":\"white\",\"linecolor\":\"white\",\"ticks\":\"\",\"title\":{\"standoff\":15},\"zerolinecolor\":\"white\",\"automargin\":true,\"zerolinewidth\":2},\"yaxis\":{\"gridcolor\":\"white\",\"linecolor\":\"white\",\"ticks\":\"\",\"title\":{\"standoff\":15},\"zerolinecolor\":\"white\",\"automargin\":true,\"zerolinewidth\":2},\"scene\":{\"xaxis\":{\"backgroundcolor\":\"#E5ECF6\",\"gridcolor\":\"white\",\"linecolor\":\"white\",\"showbackground\":true,\"ticks\":\"\",\"zerolinecolor\":\"white\",\"gridwidth\":2},\"yaxis\":{\"backgroundcolor\":\"#E5ECF6\",\"gridcolor\":\"white\",\"linecolor\":\"white\",\"showbackground\":true,\"ticks\":\"\",\"zerolinecolor\":\"white\",\"gridwidth\":2},\"zaxis\":{\"backgroundcolor\":\"#E5ECF6\",\"gridcolor\":\"white\",\"linecolor\":\"white\",\"showbackground\":true,\"ticks\":\"\",\"zerolinecolor\":\"white\",\"gridwidth\":2}},\"shapedefaults\":{\"line\":{\"color\":\"#2a3f5f\"}},\"annotationdefaults\":{\"arrowcolor\":\"#2a3f5f\",\"arrowhead\":0,\"arrowwidth\":1},\"geo\":{\"bgcolor\":\"white\",\"landcolor\":\"#E5ECF6\",\"subunitcolor\":\"white\",\"showland\":true,\"showlakes\":true,\"lakecolor\":\"white\"},\"title\":{\"x\":0.05},\"mapbox\":{\"style\":\"light\"}}},\"mapbox\":{\"domain\":{\"x\":[0.0,1.0],\"y\":[0.0,1.0]},\"center\":{\"lat\":47.752351015691445,\"lon\":-65.64915749980936},\"zoom\":3.8,\"style\":\"open-street-map\"},\"legend\":{\"tracegroupgap\":0},\"title\":{\"text\":\"California Housing - Map Visualization\"},\"autosize\":true},                        {\"responsive\": true}                    ).then(function(){\n",
              "                            \n",
              "var gd = document.getElementById('091e9ee9-35c0-4fdd-b288-69c7b68553e8');\n",
              "var x = new MutationObserver(function (mutations, observer) {{\n",
              "        var display = window.getComputedStyle(gd).display;\n",
              "        if (!display || display === 'none') {{\n",
              "            console.log([gd, 'removed!']);\n",
              "            Plotly.purge(gd);\n",
              "            observer.disconnect();\n",
              "        }}\n",
              "}});\n",
              "\n",
              "// Listen for the removal of the full notebook cells\n",
              "var notebookContainer = gd.closest('#notebook-container');\n",
              "if (notebookContainer) {{\n",
              "    x.observe(notebookContainer, {childList: true});\n",
              "}}\n",
              "\n",
              "// Listen for the clearing of the current output cell\n",
              "var outputEl = gd.closest('.output');\n",
              "if (outputEl) {{\n",
              "    x.observe(outputEl, {childList: true});\n",
              "}}\n",
              "\n",
              "                        })                };                            </script>        </div>\n",
              "</body>\n",
              "</html>"
            ]
          },
          "metadata": {}
        }
      ]
    },
    {
      "cell_type": "markdown",
      "metadata": {
        "id": "V5nvTftA3IrL"
      },
      "source": [
        "# Part 3: Customer Questions\n"
      ]
    },
    {
      "cell_type": "markdown",
      "metadata": {
        "id": "RLBee4li3gZ5"
      },
      "source": [
        "### Question 6:\n",
        "\n",
        "The customer wants to understand the efficieny of ther DC operations.\n",
        "* Based on what you see in the data, (all zones except for STORE), which parts of their operation are most & least \"efficient? (10 pts)"
      ]
    },
    {
      "cell_type": "code",
      "execution_count": null,
      "metadata": {
        "id": "9Ad7Wwa23HzQ",
        "colab": {
          "base_uri": "https://localhost:8080/"
        },
        "outputId": "431dd9d1-164d-493f-eaee-bdbbbf0db0c5"
      },
      "outputs": [
        {
          "output_type": "execute_result",
          "data": {
            "text/plain": [
              "Site\n",
              "DC 1      2022-08-02 12:58:45.491000064\n",
              "DC 2      2022-08-03 14:39:48.595000064\n",
              "Store     2022-08-04 23:40:24.556000000\n",
              "Transit   2022-08-03 11:05:39.385500160\n",
              "Name: time_est, dtype: datetime64[ns]"
            ]
          },
          "metadata": {},
          "execution_count": 29
        }
      ],
      "source": [
        "# YOUR CODE HERE\n",
        "df.groupby(['Site']).time_est.median()"
      ]
    },
    {
      "cell_type": "code",
      "source": [
        "df.Site.unique()"
      ],
      "metadata": {
        "colab": {
          "base_uri": "https://localhost:8080/"
        },
        "id": "Jp-ng9AEvmsd",
        "outputId": "4a13f6d2-1a90-4ec5-8701-0faf3e9a9489"
      },
      "execution_count": null,
      "outputs": [
        {
          "output_type": "execute_result",
          "data": {
            "text/plain": [
              "array(['DC 1', 'DC 2', 'Transit', 'Store'], dtype=object)"
            ]
          },
          "metadata": {},
          "execution_count": 44
        }
      ]
    },
    {
      "cell_type": "markdown",
      "metadata": {
        "id": "KxsNLU4u4CT9"
      },
      "source": [
        "YOUR TEXT ANSWER HERE"
      ]
    },
    {
      "cell_type": "markdown",
      "metadata": {
        "id": "BAR8MQnp4KhD"
      },
      "source": [
        "### Question 7:\n",
        "\n",
        "The customer wants to understand the stocking efficiency in stores.\n",
        "* Based on what you see in the data, how quickly did the store unload and stock the merchandise. (5 pts)\n",
        "* How could this be converted in a KPI that a regional manager could track?  (5 pts)"
      ]
    },
    {
      "cell_type": "code",
      "execution_count": null,
      "metadata": {
        "id": "6yLtvhHB4ECp",
        "colab": {
          "base_uri": "https://localhost:8080/"
        },
        "outputId": "296b7071-392e-4fac-f94e-08b44a5e94a8"
      },
      "outputs": [
        {
          "output_type": "execute_result",
          "data": {
            "text/plain": [
              "Site\n",
              "DC 1       [dock_doors_DC1, Forklift1_DC1, Forklift3_DC1,...\n",
              "Store      [point_of_sale_Store, receiving_Store, store_b...\n",
              "Transit    [PhoneKit1Bridge, PhoneKit1GW, PhoneKit2Bridge...\n",
              "Name: Zone, dtype: object"
            ]
          },
          "metadata": {},
          "execution_count": 49
        }
      ],
      "source": [
        "# YOUR CODE HERE\n",
        "site_zone = case_52[['Site', 'Zone']]\n",
        "site_zone.groupby(['Site'])['Zone'].unique()"
      ]
    },
    {
      "cell_type": "markdown",
      "metadata": {
        "id": "FrFLqjpC51rd"
      },
      "source": [
        "YOUR TEXT ANSWER HERE"
      ]
    },
    {
      "cell_type": "markdown",
      "metadata": {
        "id": "YY5cXCAlzX9M"
      },
      "source": [
        "### Question 8:\n",
        "\n",
        "Please explain what you would ask for and what you will do with this data, given that you can talk with the following people (no code needed):\n"
      ]
    },
    {
      "cell_type": "markdown",
      "metadata": {
        "id": "CsSJ9f2fzX9M"
      },
      "source": [
        "YOUR TEXT ANSWER HERE\n",
        "* a. X\n",
        "* b. Y"
      ]
    },
    {
      "cell_type": "markdown",
      "metadata": {
        "id": "U-xbReWjr-_B"
      },
      "source": [
        "## Part 4: Bonus Insights"
      ]
    },
    {
      "cell_type": "markdown",
      "metadata": {
        "id": "XslflGXnsDAF"
      },
      "source": [
        "### Question 8\n",
        "\n",
        "The customer is open to hearing about additional insights you found in the data above and beyond what they asked for.\n",
        "* Based on what you can see in the data, are there any other interesting insights that the customer may want to hear about? (Up to 15 bonus points)\n",
        "\n"
      ]
    },
    {
      "cell_type": "code",
      "execution_count": null,
      "metadata": {
        "id": "CWpCSu8lsCJL"
      },
      "outputs": [],
      "source": [
        "# YOUR CODE HERE\n",
        "# Another metrics that could be interesting would be temperature by time"
      ]
    },
    {
      "cell_type": "markdown",
      "metadata": {
        "id": "EbkD8dTBuuj4"
      },
      "source": [
        "YOUR TEXT ANSWER HERE\n"
      ]
    }
  ],
  "metadata": {
    "colab": {
      "provenance": []
    },
    "kernelspec": {
      "display_name": "Python 3.10.5 64-bit",
      "language": "python",
      "name": "python3"
    },
    "language_info": {
      "codemirror_mode": {
        "name": "ipython",
        "version": 3
      },
      "file_extension": ".py",
      "mimetype": "text/x-python",
      "name": "python",
      "nbconvert_exporter": "python",
      "pygments_lexer": "ipython3",
      "version": "3.10.5"
    },
    "vscode": {
      "interpreter": {
        "hash": "aee8b7b246df8f9039afb4144a1f6fd8d2ca17a180786b69acc140d282b71a49"
      }
    }
  },
  "nbformat": 4,
  "nbformat_minor": 0
}